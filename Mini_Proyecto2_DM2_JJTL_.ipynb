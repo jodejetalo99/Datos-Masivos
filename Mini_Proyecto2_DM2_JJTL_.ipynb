{
  "nbformat": 4,
  "nbformat_minor": 0,
  "metadata": {
    "colab": {
      "name": "Mini-Proyecto2-DM2-JJTL .ipynb",
      "provenance": [],
      "collapsed_sections": [],
      "authorship_tag": "ABX9TyOhAWJ6rm5CmI5BWxuwzJy2",
      "include_colab_link": true
    },
    "kernelspec": {
      "name": "python3",
      "display_name": "Python 3"
    }
  },
  "cells": [
    {
      "cell_type": "markdown",
      "metadata": {
        "id": "view-in-github",
        "colab_type": "text"
      },
      "source": [
        "<a href=\"https://colab.research.google.com/github/jodejetalo99/Datos-Masivos/blob/master/Mini_Proyecto2_DM2_JJTL_.ipynb\" target=\"_parent\"><img src=\"https://colab.research.google.com/assets/colab-badge.svg\" alt=\"Open In Colab\"/></a>"
      ]
    },
    {
      "cell_type": "markdown",
      "metadata": {
        "id": "O2xGXWHM9f5K"
      },
      "source": [
        "# Universidad Nacional Autónoma de México\n",
        "# Instituto de Investigaciones en Matemáticas Aplicadas y en Sistemas\n",
        "# Datos Masivos II\n",
        "# José de Jesús Tapia López\n",
        "# Mini-proyecto2: Implementar el código del algoritmo FP-Tree\n",
        "# 06 de Noviembre del 2020"
      ]
    },
    {
      "cell_type": "markdown",
      "metadata": {
        "id": "p-7EL1Mk9gR2"
      },
      "source": [
        "## Objetivo \n",
        "Implementar el código del algoritmo FP-Tree en una libreta usando python.\n",
        "Requisitos:\n",
        "- La identificación de los elementos frecuentes deberá realizarse con al menos dos valores de soporte diferentes describiendo qué observaste y si se repitió algún conjunto de elementos.\n",
        "- El código debe estar debidamente documentado y funcionando.\n",
        "- Para la identificación de los elementos frecuentes deberás usar la siguiente base de datos: Groceries dataset"
      ]
    },
    {
      "cell_type": "code",
      "metadata": {
        "id": "OxaqpMnl-qhN",
        "colab": {
          "base_uri": "https://localhost:8080/"
        },
        "outputId": "209a7e22-be93-4bb9-b14f-f8bfd4aa6036"
      },
      "source": [
        "import pandas as pd\n",
        "import numpy as np\n",
        "from collections import Counter\n",
        "import networkx as nx\n",
        "import matplotlib.pyplot as plt\n",
        "from networkx.drawing.nx_pydot import graphviz_layout\n",
        "from google.colab import drive\n",
        "\n",
        "drive.mount('/content/drive')"
      ],
      "execution_count": null,
      "outputs": [
        {
          "output_type": "stream",
          "text": [
            "Drive already mounted at /content/drive; to attempt to forcibly remount, call drive.mount(\"/content/drive\", force_remount=True).\n"
          ],
          "name": "stdout"
        }
      ]
    },
    {
      "cell_type": "code",
      "metadata": {
        "id": "c2tioY5jAeL6",
        "colab": {
          "base_uri": "https://localhost:8080/",
          "height": 363
        },
        "outputId": "742f2306-c5db-4fcf-ea22-19401e8b3e56"
      },
      "source": [
        "# cargamos los datos y mostramos los primeros 10 registros del csv\n",
        "datos = pd.read_csv('drive/My Drive/Groceries_dataset.csv')\n",
        "datos.head(10)"
      ],
      "execution_count": null,
      "outputs": [
        {
          "output_type": "execute_result",
          "data": {
            "text/html": [
              "<div>\n",
              "<style scoped>\n",
              "    .dataframe tbody tr th:only-of-type {\n",
              "        vertical-align: middle;\n",
              "    }\n",
              "\n",
              "    .dataframe tbody tr th {\n",
              "        vertical-align: top;\n",
              "    }\n",
              "\n",
              "    .dataframe thead th {\n",
              "        text-align: right;\n",
              "    }\n",
              "</style>\n",
              "<table border=\"1\" class=\"dataframe\">\n",
              "  <thead>\n",
              "    <tr style=\"text-align: right;\">\n",
              "      <th></th>\n",
              "      <th>Member_number</th>\n",
              "      <th>Date</th>\n",
              "      <th>itemDescription</th>\n",
              "    </tr>\n",
              "  </thead>\n",
              "  <tbody>\n",
              "    <tr>\n",
              "      <th>0</th>\n",
              "      <td>1808</td>\n",
              "      <td>21-07-2015</td>\n",
              "      <td>tropical fruit</td>\n",
              "    </tr>\n",
              "    <tr>\n",
              "      <th>1</th>\n",
              "      <td>2552</td>\n",
              "      <td>05-01-2015</td>\n",
              "      <td>whole milk</td>\n",
              "    </tr>\n",
              "    <tr>\n",
              "      <th>2</th>\n",
              "      <td>2300</td>\n",
              "      <td>19-09-2015</td>\n",
              "      <td>pip fruit</td>\n",
              "    </tr>\n",
              "    <tr>\n",
              "      <th>3</th>\n",
              "      <td>1187</td>\n",
              "      <td>12-12-2015</td>\n",
              "      <td>other vegetables</td>\n",
              "    </tr>\n",
              "    <tr>\n",
              "      <th>4</th>\n",
              "      <td>3037</td>\n",
              "      <td>01-02-2015</td>\n",
              "      <td>whole milk</td>\n",
              "    </tr>\n",
              "    <tr>\n",
              "      <th>5</th>\n",
              "      <td>4941</td>\n",
              "      <td>14-02-2015</td>\n",
              "      <td>rolls/buns</td>\n",
              "    </tr>\n",
              "    <tr>\n",
              "      <th>6</th>\n",
              "      <td>4501</td>\n",
              "      <td>08-05-2015</td>\n",
              "      <td>other vegetables</td>\n",
              "    </tr>\n",
              "    <tr>\n",
              "      <th>7</th>\n",
              "      <td>3803</td>\n",
              "      <td>23-12-2015</td>\n",
              "      <td>pot plants</td>\n",
              "    </tr>\n",
              "    <tr>\n",
              "      <th>8</th>\n",
              "      <td>2762</td>\n",
              "      <td>20-03-2015</td>\n",
              "      <td>whole milk</td>\n",
              "    </tr>\n",
              "    <tr>\n",
              "      <th>9</th>\n",
              "      <td>4119</td>\n",
              "      <td>12-02-2015</td>\n",
              "      <td>tropical fruit</td>\n",
              "    </tr>\n",
              "  </tbody>\n",
              "</table>\n",
              "</div>"
            ],
            "text/plain": [
              "   Member_number        Date   itemDescription\n",
              "0           1808  21-07-2015    tropical fruit\n",
              "1           2552  05-01-2015        whole milk\n",
              "2           2300  19-09-2015         pip fruit\n",
              "3           1187  12-12-2015  other vegetables\n",
              "4           3037  01-02-2015        whole milk\n",
              "5           4941  14-02-2015        rolls/buns\n",
              "6           4501  08-05-2015  other vegetables\n",
              "7           3803  23-12-2015        pot plants\n",
              "8           2762  20-03-2015        whole milk\n",
              "9           4119  12-02-2015    tropical fruit"
            ]
          },
          "metadata": {
            "tags": []
          },
          "execution_count": 2
        }
      ]
    },
    {
      "cell_type": "code",
      "metadata": {
        "id": "eBtGq6OqAoFB",
        "colab": {
          "base_uri": "https://localhost:8080/"
        },
        "outputId": "ada1c2fb-192b-45e3-dfdc-633b42c4bee1"
      },
      "source": [
        "# dimensiones de la bd\n",
        "datos.shape"
      ],
      "execution_count": null,
      "outputs": [
        {
          "output_type": "execute_result",
          "data": {
            "text/plain": [
              "(38765, 3)"
            ]
          },
          "metadata": {
            "tags": []
          },
          "execution_count": 3
        }
      ]
    },
    {
      "cell_type": "markdown",
      "metadata": {
        "id": "tSt9vGgEAxPB"
      },
      "source": [
        "Por inspección, vemos que se compraron 38765 productos (incluyendo repetición)."
      ]
    },
    {
      "cell_type": "code",
      "metadata": {
        "id": "G9ra5vP4uFt7",
        "colab": {
          "base_uri": "https://localhost:8080/",
          "height": 363
        },
        "outputId": "72717d1e-dab6-4fa2-e5a8-f8d05b47f6cb"
      },
      "source": [
        "# ordenamos los datos conforme al member_number y a la fecha (date)\n",
        "datos = datos.sort_values(['Member_number','Date'])\n",
        "# mostramos los primeros 10 renglones de la bd ordenada\n",
        "datos.head(10)"
      ],
      "execution_count": null,
      "outputs": [
        {
          "output_type": "execute_result",
          "data": {
            "text/html": [
              "<div>\n",
              "<style scoped>\n",
              "    .dataframe tbody tr th:only-of-type {\n",
              "        vertical-align: middle;\n",
              "    }\n",
              "\n",
              "    .dataframe tbody tr th {\n",
              "        vertical-align: top;\n",
              "    }\n",
              "\n",
              "    .dataframe thead th {\n",
              "        text-align: right;\n",
              "    }\n",
              "</style>\n",
              "<table border=\"1\" class=\"dataframe\">\n",
              "  <thead>\n",
              "    <tr style=\"text-align: right;\">\n",
              "      <th></th>\n",
              "      <th>Member_number</th>\n",
              "      <th>Date</th>\n",
              "      <th>itemDescription</th>\n",
              "    </tr>\n",
              "  </thead>\n",
              "  <tbody>\n",
              "    <tr>\n",
              "      <th>4843</th>\n",
              "      <td>1000</td>\n",
              "      <td>15-03-2015</td>\n",
              "      <td>sausage</td>\n",
              "    </tr>\n",
              "    <tr>\n",
              "      <th>8395</th>\n",
              "      <td>1000</td>\n",
              "      <td>15-03-2015</td>\n",
              "      <td>whole milk</td>\n",
              "    </tr>\n",
              "    <tr>\n",
              "      <th>20992</th>\n",
              "      <td>1000</td>\n",
              "      <td>15-03-2015</td>\n",
              "      <td>semi-finished bread</td>\n",
              "    </tr>\n",
              "    <tr>\n",
              "      <th>24544</th>\n",
              "      <td>1000</td>\n",
              "      <td>15-03-2015</td>\n",
              "      <td>yogurt</td>\n",
              "    </tr>\n",
              "    <tr>\n",
              "      <th>13331</th>\n",
              "      <td>1000</td>\n",
              "      <td>24-06-2014</td>\n",
              "      <td>whole milk</td>\n",
              "    </tr>\n",
              "    <tr>\n",
              "      <th>29480</th>\n",
              "      <td>1000</td>\n",
              "      <td>24-06-2014</td>\n",
              "      <td>pastry</td>\n",
              "    </tr>\n",
              "    <tr>\n",
              "      <th>32851</th>\n",
              "      <td>1000</td>\n",
              "      <td>24-06-2014</td>\n",
              "      <td>salty snack</td>\n",
              "    </tr>\n",
              "    <tr>\n",
              "      <th>2047</th>\n",
              "      <td>1000</td>\n",
              "      <td>24-07-2015</td>\n",
              "      <td>canned beer</td>\n",
              "    </tr>\n",
              "    <tr>\n",
              "      <th>18196</th>\n",
              "      <td>1000</td>\n",
              "      <td>24-07-2015</td>\n",
              "      <td>misc. beverages</td>\n",
              "    </tr>\n",
              "    <tr>\n",
              "      <th>6388</th>\n",
              "      <td>1000</td>\n",
              "      <td>25-11-2015</td>\n",
              "      <td>sausage</td>\n",
              "    </tr>\n",
              "  </tbody>\n",
              "</table>\n",
              "</div>"
            ],
            "text/plain": [
              "       Member_number        Date      itemDescription\n",
              "4843            1000  15-03-2015              sausage\n",
              "8395            1000  15-03-2015           whole milk\n",
              "20992           1000  15-03-2015  semi-finished bread\n",
              "24544           1000  15-03-2015               yogurt\n",
              "13331           1000  24-06-2014           whole milk\n",
              "29480           1000  24-06-2014               pastry\n",
              "32851           1000  24-06-2014          salty snack\n",
              "2047            1000  24-07-2015          canned beer\n",
              "18196           1000  24-07-2015      misc. beverages\n",
              "6388            1000  25-11-2015              sausage"
            ]
          },
          "metadata": {
            "tags": []
          },
          "execution_count": 4
        }
      ]
    },
    {
      "cell_type": "code",
      "metadata": {
        "id": "IEorZs5owvx-"
      },
      "source": [
        "# Antes de continuar, obtemos los productos distintos que hay en la bd\n",
        "\n",
        "elementos_unicos = np.unique(datos['itemDescription'])\n",
        "\n",
        "# Número de elementos únicos\n",
        "\n",
        "cant_elementos_unicos = len(elementos_unicos)\n"
      ],
      "execution_count": null,
      "outputs": []
    },
    {
      "cell_type": "code",
      "metadata": {
        "id": "cfwDlWRJud_k",
        "colab": {
          "base_uri": "https://localhost:8080/",
          "height": 424
        },
        "outputId": "54350f98-1468-4f3f-bb8c-f105078a3189"
      },
      "source": [
        "# agrupamos los productos comprados en una misma transacción del mismo día, usando entonces el número (id) del cliente\n",
        "# y la fecha de la transacción\n",
        "\n",
        "datos_por_fecha = datos.groupby(['Member_number','Date'])['itemDescription'].apply(list).reset_index(name='itemDescription')\n",
        "datos_por_fecha"
      ],
      "execution_count": null,
      "outputs": [
        {
          "output_type": "execute_result",
          "data": {
            "text/html": [
              "<div>\n",
              "<style scoped>\n",
              "    .dataframe tbody tr th:only-of-type {\n",
              "        vertical-align: middle;\n",
              "    }\n",
              "\n",
              "    .dataframe tbody tr th {\n",
              "        vertical-align: top;\n",
              "    }\n",
              "\n",
              "    .dataframe thead th {\n",
              "        text-align: right;\n",
              "    }\n",
              "</style>\n",
              "<table border=\"1\" class=\"dataframe\">\n",
              "  <thead>\n",
              "    <tr style=\"text-align: right;\">\n",
              "      <th></th>\n",
              "      <th>Member_number</th>\n",
              "      <th>Date</th>\n",
              "      <th>itemDescription</th>\n",
              "    </tr>\n",
              "  </thead>\n",
              "  <tbody>\n",
              "    <tr>\n",
              "      <th>0</th>\n",
              "      <td>1000</td>\n",
              "      <td>15-03-2015</td>\n",
              "      <td>[sausage, whole milk, semi-finished bread, yog...</td>\n",
              "    </tr>\n",
              "    <tr>\n",
              "      <th>1</th>\n",
              "      <td>1000</td>\n",
              "      <td>24-06-2014</td>\n",
              "      <td>[whole milk, pastry, salty snack]</td>\n",
              "    </tr>\n",
              "    <tr>\n",
              "      <th>2</th>\n",
              "      <td>1000</td>\n",
              "      <td>24-07-2015</td>\n",
              "      <td>[canned beer, misc. beverages]</td>\n",
              "    </tr>\n",
              "    <tr>\n",
              "      <th>3</th>\n",
              "      <td>1000</td>\n",
              "      <td>25-11-2015</td>\n",
              "      <td>[sausage, hygiene articles]</td>\n",
              "    </tr>\n",
              "    <tr>\n",
              "      <th>4</th>\n",
              "      <td>1000</td>\n",
              "      <td>27-05-2015</td>\n",
              "      <td>[soda, pickled vegetables]</td>\n",
              "    </tr>\n",
              "    <tr>\n",
              "      <th>...</th>\n",
              "      <td>...</td>\n",
              "      <td>...</td>\n",
              "      <td>...</td>\n",
              "    </tr>\n",
              "    <tr>\n",
              "      <th>14958</th>\n",
              "      <td>4999</td>\n",
              "      <td>24-01-2015</td>\n",
              "      <td>[tropical fruit, berries, other vegetables, yo...</td>\n",
              "    </tr>\n",
              "    <tr>\n",
              "      <th>14959</th>\n",
              "      <td>4999</td>\n",
              "      <td>26-12-2015</td>\n",
              "      <td>[bottled water, herbs]</td>\n",
              "    </tr>\n",
              "    <tr>\n",
              "      <th>14960</th>\n",
              "      <td>5000</td>\n",
              "      <td>09-03-2014</td>\n",
              "      <td>[fruit/vegetable juice, onions]</td>\n",
              "    </tr>\n",
              "    <tr>\n",
              "      <th>14961</th>\n",
              "      <td>5000</td>\n",
              "      <td>10-02-2015</td>\n",
              "      <td>[soda, root vegetables, semi-finished bread]</td>\n",
              "    </tr>\n",
              "    <tr>\n",
              "      <th>14962</th>\n",
              "      <td>5000</td>\n",
              "      <td>16-11-2014</td>\n",
              "      <td>[bottled beer, other vegetables]</td>\n",
              "    </tr>\n",
              "  </tbody>\n",
              "</table>\n",
              "<p>14963 rows × 3 columns</p>\n",
              "</div>"
            ],
            "text/plain": [
              "       Member_number  ...                                    itemDescription\n",
              "0               1000  ...  [sausage, whole milk, semi-finished bread, yog...\n",
              "1               1000  ...                  [whole milk, pastry, salty snack]\n",
              "2               1000  ...                     [canned beer, misc. beverages]\n",
              "3               1000  ...                        [sausage, hygiene articles]\n",
              "4               1000  ...                         [soda, pickled vegetables]\n",
              "...              ...  ...                                                ...\n",
              "14958           4999  ...  [tropical fruit, berries, other vegetables, yo...\n",
              "14959           4999  ...                             [bottled water, herbs]\n",
              "14960           5000  ...                    [fruit/vegetable juice, onions]\n",
              "14961           5000  ...       [soda, root vegetables, semi-finished bread]\n",
              "14962           5000  ...                   [bottled beer, other vegetables]\n",
              "\n",
              "[14963 rows x 3 columns]"
            ]
          },
          "metadata": {
            "tags": []
          },
          "execution_count": 6
        }
      ]
    },
    {
      "cell_type": "code",
      "metadata": {
        "id": "SnYC3sXwwpYT",
        "colab": {
          "base_uri": "https://localhost:8080/"
        },
        "outputId": "7a224ee7-5910-4c99-9685-c2173c20fe1b"
      },
      "source": [
        "print(\"Número total de transacciones: \", len(datos_por_fecha))\n",
        "print(\"Número de productos únicos: \", cant_elementos_unicos)\n"
      ],
      "execution_count": null,
      "outputs": [
        {
          "output_type": "stream",
          "text": [
            "Número total de transacciones:  14963\n",
            "Número de productos únicos:  167\n"
          ],
          "name": "stdout"
        }
      ]
    },
    {
      "cell_type": "markdown",
      "metadata": {
        "id": "WweL1nrqv_eQ"
      },
      "source": [
        "Ahora sí vemos que realmente hay 14963 transacciones y 167 productos únicos."
      ]
    },
    {
      "cell_type": "code",
      "metadata": {
        "id": "7uZLFTyqBup_",
        "colab": {
          "base_uri": "https://localhost:8080/",
          "height": 206
        },
        "outputId": "2a88b959-02b8-4ad6-9b6b-37ea717aaddb"
      },
      "source": [
        "# Nos quedamos con solo la columna itemDescription, la cual tiene el nombre de los productos comprados\n",
        "\n",
        "datos_por_fecha = datos_por_fecha.drop(datos_por_fecha.columns[[0, 1]], axis=1)\n",
        "datos_por_fecha.head()"
      ],
      "execution_count": null,
      "outputs": [
        {
          "output_type": "execute_result",
          "data": {
            "text/html": [
              "<div>\n",
              "<style scoped>\n",
              "    .dataframe tbody tr th:only-of-type {\n",
              "        vertical-align: middle;\n",
              "    }\n",
              "\n",
              "    .dataframe tbody tr th {\n",
              "        vertical-align: top;\n",
              "    }\n",
              "\n",
              "    .dataframe thead th {\n",
              "        text-align: right;\n",
              "    }\n",
              "</style>\n",
              "<table border=\"1\" class=\"dataframe\">\n",
              "  <thead>\n",
              "    <tr style=\"text-align: right;\">\n",
              "      <th></th>\n",
              "      <th>itemDescription</th>\n",
              "    </tr>\n",
              "  </thead>\n",
              "  <tbody>\n",
              "    <tr>\n",
              "      <th>0</th>\n",
              "      <td>[sausage, whole milk, semi-finished bread, yog...</td>\n",
              "    </tr>\n",
              "    <tr>\n",
              "      <th>1</th>\n",
              "      <td>[whole milk, pastry, salty snack]</td>\n",
              "    </tr>\n",
              "    <tr>\n",
              "      <th>2</th>\n",
              "      <td>[canned beer, misc. beverages]</td>\n",
              "    </tr>\n",
              "    <tr>\n",
              "      <th>3</th>\n",
              "      <td>[sausage, hygiene articles]</td>\n",
              "    </tr>\n",
              "    <tr>\n",
              "      <th>4</th>\n",
              "      <td>[soda, pickled vegetables]</td>\n",
              "    </tr>\n",
              "  </tbody>\n",
              "</table>\n",
              "</div>"
            ],
            "text/plain": [
              "                                     itemDescription\n",
              "0  [sausage, whole milk, semi-finished bread, yog...\n",
              "1                  [whole milk, pastry, salty snack]\n",
              "2                     [canned beer, misc. beverages]\n",
              "3                        [sausage, hygiene articles]\n",
              "4                         [soda, pickled vegetables]"
            ]
          },
          "metadata": {
            "tags": []
          },
          "execution_count": 8
        }
      ]
    },
    {
      "cell_type": "markdown",
      "metadata": {
        "id": "yLSgIr3Vqq1J"
      },
      "source": [
        "## FP-Tree"
      ]
    },
    {
      "cell_type": "markdown",
      "metadata": {
        "id": "ThKFnwd2DJF8"
      },
      "source": [
        "### Paso 1: Escanear la base de datos y calcular la frecuencia de cada elemento. \n"
      ]
    },
    {
      "cell_type": "code",
      "metadata": {
        "id": "mag-p0sRDH1w",
        "colab": {
          "base_uri": "https://localhost:8080/"
        },
        "outputId": "20c25f16-c00f-4a9a-cbaa-9c8a3ab7bab7"
      },
      "source": [
        "# obtenemos un 'diccionario' \n",
        "# en counter le pasamos una lista, en dicha lista vamos almacenando los elementos, si hay\n",
        "# elementos repetidos los va contando (en el diccionario, la 'llave' es el nombre del producto \n",
        "# y su 'valor' es la frecuencia de dicho producto)\n",
        "frecuencia_elementos = Counter([e for t in datos_por_fecha['itemDescription'] for e in t])\n",
        "\n",
        "# sumamos la frecuencia de cada producto para verificar que coincida con el número de \n",
        "# renglones de la base de datos inicial (un solo producto en cada renglón)\n",
        "\n",
        "total_productos = sum(frecuencia_elementos.values())\n",
        "total_productos"
      ],
      "execution_count": null,
      "outputs": [
        {
          "output_type": "execute_result",
          "data": {
            "text/plain": [
              "38765"
            ]
          },
          "metadata": {
            "tags": []
          },
          "execution_count": 9
        }
      ]
    },
    {
      "cell_type": "markdown",
      "metadata": {
        "id": "05VuoBcTvSXt"
      },
      "source": [
        "### Paso 2: Ordenar por frecuencia descendentemente a los elementos y que cumplan con un minSup."
      ]
    },
    {
      "cell_type": "code",
      "metadata": {
        "id": "bTe8DqMN0dgl",
        "colab": {
          "base_uri": "https://localhost:8080/"
        },
        "outputId": "88f6dd04-f248-4bb6-b261-82a2a9c8c372"
      },
      "source": [
        "# ordenamos descendentemente el Counter anterior\n",
        "\n",
        "frecuencia_elementos_ord_desc = frecuencia_elementos.most_common()\n",
        "# Vemos que ahora es una lista de Tuplas (solo es para visualizar)\n",
        "\n",
        "frecuencia_elementos_ord_desc"
      ],
      "execution_count": null,
      "outputs": [
        {
          "output_type": "execute_result",
          "data": {
            "text/plain": [
              "[('whole milk', 2502),\n",
              " ('other vegetables', 1898),\n",
              " ('rolls/buns', 1716),\n",
              " ('soda', 1514),\n",
              " ('yogurt', 1334),\n",
              " ('root vegetables', 1071),\n",
              " ('tropical fruit', 1032),\n",
              " ('bottled water', 933),\n",
              " ('sausage', 924),\n",
              " ('citrus fruit', 812),\n",
              " ('pastry', 785),\n",
              " ('pip fruit', 744),\n",
              " ('shopping bags', 731),\n",
              " ('canned beer', 717),\n",
              " ('bottled beer', 687),\n",
              " ('whipped/sour cream', 662),\n",
              " ('newspapers', 596),\n",
              " ('frankfurter', 580),\n",
              " ('brown bread', 571),\n",
              " ('domestic eggs', 566),\n",
              " ('pork', 566),\n",
              " ('butter', 534),\n",
              " ('fruit/vegetable juice', 518),\n",
              " ('beef', 516),\n",
              " ('curd', 514),\n",
              " ('margarine', 491),\n",
              " ('coffee', 476),\n",
              " ('frozen vegetables', 425),\n",
              " ('chicken', 422),\n",
              " ('white bread', 362),\n",
              " ('cream cheese ', 358),\n",
              " ('chocolate', 357),\n",
              " ('dessert', 356),\n",
              " ('napkins', 335),\n",
              " ('hamburger meat', 327),\n",
              " ('berries', 327),\n",
              " ('UHT-milk', 323),\n",
              " ('onions', 305),\n",
              " ('salty snack', 283),\n",
              " ('waffles', 280),\n",
              " ('long life bakery product', 269),\n",
              " ('sugar', 265),\n",
              " ('butter milk', 263),\n",
              " ('ham', 256),\n",
              " ('meat', 254),\n",
              " ('frozen meals', 252),\n",
              " ('beverages', 251),\n",
              " ('specialty chocolate', 240),\n",
              " ('misc. beverages', 238),\n",
              " ('ice cream', 227),\n",
              " ('oil', 225),\n",
              " ('grapes', 220),\n",
              " ('hard cheese', 220),\n",
              " ('candy', 219),\n",
              " ('sliced cheese', 212),\n",
              " ('specialty bar', 210),\n",
              " ('hygiene articles', 208),\n",
              " ('chewing gum', 181),\n",
              " ('cat food', 177),\n",
              " ('white wine', 176),\n",
              " ('herbs', 159),\n",
              " ('red/blush wine', 157),\n",
              " ('processed cheese', 152),\n",
              " ('soft cheese', 152),\n",
              " ('flour', 146),\n",
              " ('semi-finished bread', 142),\n",
              " ('dishes', 135),\n",
              " ('pickled vegetables', 134),\n",
              " ('detergent', 130),\n",
              " ('packaged fruit/vegetables', 128),\n",
              " ('baking powder', 122),\n",
              " ('pasta', 121),\n",
              " ('pot plants', 118),\n",
              " ('canned fish', 116),\n",
              " ('seasonal products', 106),\n",
              " ('liquor', 103),\n",
              " ('frozen fish', 102),\n",
              " ('spread cheese', 100),\n",
              " ('condensed milk', 98),\n",
              " ('cake bar', 93),\n",
              " ('mustard', 92),\n",
              " ('frozen dessert', 92),\n",
              " ('salt', 89),\n",
              " ('pet care', 85),\n",
              " ('roll products ', 82),\n",
              " ('canned vegetables', 82),\n",
              " ('turkey', 80),\n",
              " ('photo/film', 79),\n",
              " ('mayonnaise', 75),\n",
              " ('cling film/bags', 74),\n",
              " ('dish cleaner', 73),\n",
              " ('frozen potato products', 72),\n",
              " ('specialty cheese', 72),\n",
              " ('flower (seeds)', 70),\n",
              " ('sweet spreads', 69),\n",
              " ('liquor (appetizer)', 67),\n",
              " ('dog food', 67),\n",
              " ('candles', 66),\n",
              " ('finished products', 64),\n",
              " ('instant coffee', 61),\n",
              " ('Instant food products', 60),\n",
              " ('chocolate marshmallow', 60),\n",
              " ('zwieback', 60),\n",
              " ('vinegar', 51),\n",
              " ('liver loaf', 50),\n",
              " ('rice', 49),\n",
              " ('popcorn', 48),\n",
              " ('soups', 48),\n",
              " ('curd cheese', 46),\n",
              " ('sparkling wine', 46),\n",
              " ('house keeping products', 45),\n",
              " ('sauces', 44),\n",
              " ('cereals', 42),\n",
              " ('softener', 41),\n",
              " ('spices', 40),\n",
              " ('female sanitary products', 40),\n",
              " ('brandy', 38),\n",
              " ('male cosmetics', 37),\n",
              " ('meat spreads', 35),\n",
              " ('jam', 34),\n",
              " ('dental care', 33),\n",
              " ('nuts/prunes', 33),\n",
              " ('ketchup', 32),\n",
              " ('rum', 32),\n",
              " ('cleaner', 31),\n",
              " ('kitchen towels', 30),\n",
              " ('fish', 29),\n",
              " ('artif. sweetener', 29),\n",
              " ('specialty fat', 29),\n",
              " ('light bulbs', 29),\n",
              " ('snack products', 27),\n",
              " ('tea', 27),\n",
              " ('potato products', 23),\n",
              " ('nut snack', 22),\n",
              " ('abrasive cleaner', 22),\n",
              " ('organic sausage', 22),\n",
              " ('tidbits', 22),\n",
              " ('syrup', 21),\n",
              " ('canned fruit', 21),\n",
              " ('skin care', 20),\n",
              " ('soap', 20),\n",
              " ('prosecco', 19),\n",
              " ('cookware', 17),\n",
              " ('bathroom cleaner', 17),\n",
              " ('pudding powder', 17),\n",
              " ('cocoa drinks', 16),\n",
              " ('flower soil/fertilizer', 16),\n",
              " ('ready soups', 15),\n",
              " ('cooking chocolate', 15),\n",
              " ('honey', 13),\n",
              " ('cream', 12),\n",
              " ('frozen fruits', 11),\n",
              " ('specialty vegetables', 11),\n",
              " ('organic products', 10),\n",
              " ('hair spray', 9),\n",
              " ('liqueur', 9),\n",
              " ('decalcifier', 9),\n",
              " ('whisky', 8),\n",
              " ('salad dressing', 6),\n",
              " ('make up remover', 5),\n",
              " ('frozen chicken', 5),\n",
              " ('toilet cleaner', 5),\n",
              " ('rubbing alcohol', 5),\n",
              " ('bags', 4),\n",
              " ('baby cosmetics', 3),\n",
              " ('preservation products', 1),\n",
              " ('kitchen utensil', 1)]"
            ]
          },
          "metadata": {
            "tags": []
          },
          "execution_count": 10
        }
      ]
    },
    {
      "cell_type": "code",
      "metadata": {
        "colab": {
          "base_uri": "https://localhost:8080/"
        },
        "id": "hwSzWdm7xzUt",
        "outputId": "7f131f05-b282-4c7e-b1d6-4210b957fa9e"
      },
      "source": [
        "j = 0\n",
        "for i in frecuencia_elementos_ord_desc:\n",
        "  j += i[1]\n",
        "j"
      ],
      "execution_count": null,
      "outputs": [
        {
          "output_type": "execute_result",
          "data": {
            "text/plain": [
              "38765"
            ]
          },
          "metadata": {
            "tags": []
          },
          "execution_count": 11
        }
      ]
    },
    {
      "cell_type": "code",
      "metadata": {
        "id": "TlLJzqWH1DKS",
        "colab": {
          "base_uri": "https://localhost:8080/"
        },
        "outputId": "826a24cd-6053-4241-e983-55763a21ac79"
      },
      "source": [
        "# indicamos el minSup\n",
        "minSup = 0.1136\n",
        "# nos quedamos con aquellos que cumplan con que sean mayores o iguales al minSup\n",
        "frecuencia_elementos_minSup = [c[0] for c in frecuencia_elementos.items() if c[1]/len(datos_por_fecha) >= minSup]\n",
        "# nos quedamos con la tupla (producto, frecuencia) de aquellos que cumplan con el minSup\n",
        "frecuencia_elementos_minSup_tup = [(c[0],c[1]) for c in frecuencia_elementos.items() if c[1]/len(datos_por_fecha) >= minSup]\n",
        "# ordenamos la lista de dichas tuplas descendentemente\n",
        "frecuencia_elementos_minSup_tup = sorted(frecuencia_elementos_minSup_tup, key=lambda x: x[1],reverse=True)\n",
        "frecuencia_elementos_minSup_tup"
      ],
      "execution_count": null,
      "outputs": [
        {
          "output_type": "execute_result",
          "data": {
            "text/plain": [
              "[('whole milk', 2502), ('other vegetables', 1898), ('rolls/buns', 1716)]"
            ]
          },
          "metadata": {
            "tags": []
          },
          "execution_count": 12
        }
      ]
    },
    {
      "cell_type": "code",
      "metadata": {
        "id": "cXZ-bl64q5gT",
        "colab": {
          "base_uri": "https://localhost:8080/"
        },
        "outputId": "f800280d-ac99-4f22-a56b-e358a5ca35c8"
      },
      "source": [
        "print(\"Total de transacciones con esos elementos: \", np.sum([c[1] for c in frecuencia_elementos_minSup_tup]))"
      ],
      "execution_count": null,
      "outputs": [
        {
          "output_type": "stream",
          "text": [
            "Total de transacciones con esos elementos:  6116\n"
          ],
          "name": "stdout"
        }
      ]
    },
    {
      "cell_type": "code",
      "metadata": {
        "id": "OW2t7eM217k1",
        "colab": {
          "base_uri": "https://localhost:8080/"
        },
        "outputId": "e203ffba-e80c-4785-f9ee-0c76d8179185"
      },
      "source": [
        "print(\"Número de productos que son mayores o iguales al soporte mínimo de {}: \".format(minSup), len(frecuencia_elementos_minSup))"
      ],
      "execution_count": null,
      "outputs": [
        {
          "output_type": "stream",
          "text": [
            "Número de productos que son mayores o iguales al soporte mínimo de 0.1136:  3\n"
          ],
          "name": "stdout"
        }
      ]
    },
    {
      "cell_type": "markdown",
      "metadata": {
        "id": "HrNLuNTu2V-V"
      },
      "source": [
        "### Paso 3: por cada transacción, escribimos los elementos frecuentes que cumplen con el minSup y los ordenamos de forma descendente.\n"
      ]
    },
    {
      "cell_type": "code",
      "metadata": {
        "id": "_ig7Rz6M7ush",
        "colab": {
          "base_uri": "https://localhost:8080/"
        },
        "outputId": "7a305914-4153-420a-ff9a-61dca709d030"
      },
      "source": [
        "# de la lista de tuplas (que contiene a los productos y su frecuencia de aquellos\n",
        "# que cumplen con ser mayores o iguales al minSup), nos quedamos solo con la primera\n",
        "# entrada de cada una, es decir, con el nombre del producto\n",
        "elementos_minSup_ord = [i[0] for i in frecuencia_elementos_minSup_tup]\n",
        "\n",
        "# creamos una lista vacía en la cual vamos a ir guardando en listas\n",
        "# los elementos frecuentes de cada transacción\n",
        "elementos_minSup_frecuentes = []\n",
        "\n",
        "# vamos a iterar por cada transacción de la bd: de la lista que contiene\n",
        "# a los productos que cumplen con el minSup, vamos a revisar uno por uno\n",
        "# si es que se encuentran en cada transaccion; van a estar ordenados \n",
        "# descendentemente ya que la lista elementos_minSup_ord extrajo los productos\n",
        "# en dicho orden\n",
        "for i in range(len(datos_por_fecha['itemDescription'])):\n",
        "  # esta lista es auxiliar, y la vamos a crear en cada transacción de la bd\n",
        "  # para guardar en dicha forma a los elementos (ordenados descendentemente)\n",
        "  # que sí sean frecuentes de la transacción corrrespondiente\n",
        "  elementos_minSup_frecuentes_trans = []\n",
        "  for j in range(len(elementos_minSup_ord)):\n",
        "    if elementos_minSup_ord[j] in datos_por_fecha['itemDescription'][i]: \n",
        "        elementos_minSup_frecuentes_trans.append(elementos_minSup_ord[j])\n",
        "  # entonces esta es una lista de listas, en la que cada una de dichas\n",
        "  # listas tiene a los elementos frecuentes de cada transacción\n",
        "  elementos_minSup_frecuentes.append(elementos_minSup_frecuentes_trans)\n",
        "\n",
        "len(elementos_minSup_frecuentes)"
      ],
      "execution_count": null,
      "outputs": [
        {
          "output_type": "execute_result",
          "data": {
            "text/plain": [
              "14963"
            ]
          },
          "metadata": {
            "tags": []
          },
          "execution_count": 15
        }
      ]
    },
    {
      "cell_type": "code",
      "metadata": {
        "id": "OOGC1FG07ubg",
        "colab": {
          "base_uri": "https://localhost:8080/",
          "height": 363
        },
        "outputId": "9a507b95-c60f-491a-a609-243e7b1bbecc"
      },
      "source": [
        "# Creamos una nueva columna para seleccionar los items que cumplen con ser mayores o iguales\n",
        "# al minSup, es decir, creamos la columna \"itemDescriptionFreq\" con los elementos (que son listas) \n",
        "# de la lista  que acabamos de crear en las dos iteraciones pasadas\n",
        "datos_por_fecha['itemDescriptionFreq'] = elementos_minSup_frecuentes\n",
        "datos_por_fecha.head(10)"
      ],
      "execution_count": null,
      "outputs": [
        {
          "output_type": "execute_result",
          "data": {
            "text/html": [
              "<div>\n",
              "<style scoped>\n",
              "    .dataframe tbody tr th:only-of-type {\n",
              "        vertical-align: middle;\n",
              "    }\n",
              "\n",
              "    .dataframe tbody tr th {\n",
              "        vertical-align: top;\n",
              "    }\n",
              "\n",
              "    .dataframe thead th {\n",
              "        text-align: right;\n",
              "    }\n",
              "</style>\n",
              "<table border=\"1\" class=\"dataframe\">\n",
              "  <thead>\n",
              "    <tr style=\"text-align: right;\">\n",
              "      <th></th>\n",
              "      <th>itemDescription</th>\n",
              "      <th>itemDescriptionFreq</th>\n",
              "    </tr>\n",
              "  </thead>\n",
              "  <tbody>\n",
              "    <tr>\n",
              "      <th>0</th>\n",
              "      <td>[sausage, whole milk, semi-finished bread, yog...</td>\n",
              "      <td>[whole milk]</td>\n",
              "    </tr>\n",
              "    <tr>\n",
              "      <th>1</th>\n",
              "      <td>[whole milk, pastry, salty snack]</td>\n",
              "      <td>[whole milk]</td>\n",
              "    </tr>\n",
              "    <tr>\n",
              "      <th>2</th>\n",
              "      <td>[canned beer, misc. beverages]</td>\n",
              "      <td>[]</td>\n",
              "    </tr>\n",
              "    <tr>\n",
              "      <th>3</th>\n",
              "      <td>[sausage, hygiene articles]</td>\n",
              "      <td>[]</td>\n",
              "    </tr>\n",
              "    <tr>\n",
              "      <th>4</th>\n",
              "      <td>[soda, pickled vegetables]</td>\n",
              "      <td>[]</td>\n",
              "    </tr>\n",
              "    <tr>\n",
              "      <th>5</th>\n",
              "      <td>[frankfurter, curd]</td>\n",
              "      <td>[]</td>\n",
              "    </tr>\n",
              "    <tr>\n",
              "      <th>6</th>\n",
              "      <td>[sausage, whole milk, rolls/buns]</td>\n",
              "      <td>[whole milk, rolls/buns]</td>\n",
              "    </tr>\n",
              "    <tr>\n",
              "      <th>7</th>\n",
              "      <td>[whole milk, soda]</td>\n",
              "      <td>[whole milk]</td>\n",
              "    </tr>\n",
              "    <tr>\n",
              "      <th>8</th>\n",
              "      <td>[beef, white bread]</td>\n",
              "      <td>[]</td>\n",
              "    </tr>\n",
              "    <tr>\n",
              "      <th>9</th>\n",
              "      <td>[frankfurter, soda, whipped/sour cream]</td>\n",
              "      <td>[]</td>\n",
              "    </tr>\n",
              "  </tbody>\n",
              "</table>\n",
              "</div>"
            ],
            "text/plain": [
              "                                     itemDescription       itemDescriptionFreq\n",
              "0  [sausage, whole milk, semi-finished bread, yog...              [whole milk]\n",
              "1                  [whole milk, pastry, salty snack]              [whole milk]\n",
              "2                     [canned beer, misc. beverages]                        []\n",
              "3                        [sausage, hygiene articles]                        []\n",
              "4                         [soda, pickled vegetables]                        []\n",
              "5                                [frankfurter, curd]                        []\n",
              "6                  [sausage, whole milk, rolls/buns]  [whole milk, rolls/buns]\n",
              "7                                 [whole milk, soda]              [whole milk]\n",
              "8                                [beef, white bread]                        []\n",
              "9            [frankfurter, soda, whipped/sour cream]                        []"
            ]
          },
          "metadata": {
            "tags": []
          },
          "execution_count": 16
        }
      ]
    },
    {
      "cell_type": "code",
      "metadata": {
        "id": "QytWm0kDvjwn"
      },
      "source": [
        "#datos_por_fecha.to_csv('drive/My Drive/dm.txt')"
      ],
      "execution_count": null,
      "outputs": []
    },
    {
      "cell_type": "markdown",
      "metadata": {
        "id": "9Rbkxf_swVCj"
      },
      "source": [
        "### Paso 4: por cada transacción se construye una rama en el FP-tree. \n",
        "\n",
        "- Si existe una ruta con prefijo común: Incrementar la frecuencia de los nodos en esta ruta y agregar el sufijo\n",
        "- En caso contrario crear una nueva rama."
      ]
    },
    {
      "cell_type": "code",
      "metadata": {
        "id": "jsrNjbbPBF0h",
        "colab": {
          "base_uri": "https://localhost:8080/",
          "height": 363
        },
        "outputId": "fcb895e2-f21c-4cd6-ceb0-e75e6a92cd9a"
      },
      "source": [
        "# creamos la columna itemDescriptionFreqString para convertir las listas que contienen los elementos frecuentes de cada transaccion a un string\n",
        "datos_por_fecha['itemDescriptionFreqString'] = [', '.join(map(str, l)) for l in datos_por_fecha['itemDescriptionFreq']]\n",
        "datos_por_fecha.head(10)"
      ],
      "execution_count": null,
      "outputs": [
        {
          "output_type": "execute_result",
          "data": {
            "text/html": [
              "<div>\n",
              "<style scoped>\n",
              "    .dataframe tbody tr th:only-of-type {\n",
              "        vertical-align: middle;\n",
              "    }\n",
              "\n",
              "    .dataframe tbody tr th {\n",
              "        vertical-align: top;\n",
              "    }\n",
              "\n",
              "    .dataframe thead th {\n",
              "        text-align: right;\n",
              "    }\n",
              "</style>\n",
              "<table border=\"1\" class=\"dataframe\">\n",
              "  <thead>\n",
              "    <tr style=\"text-align: right;\">\n",
              "      <th></th>\n",
              "      <th>itemDescription</th>\n",
              "      <th>itemDescriptionFreq</th>\n",
              "      <th>itemDescriptionFreqString</th>\n",
              "    </tr>\n",
              "  </thead>\n",
              "  <tbody>\n",
              "    <tr>\n",
              "      <th>0</th>\n",
              "      <td>[sausage, whole milk, semi-finished bread, yog...</td>\n",
              "      <td>[whole milk]</td>\n",
              "      <td>whole milk</td>\n",
              "    </tr>\n",
              "    <tr>\n",
              "      <th>1</th>\n",
              "      <td>[whole milk, pastry, salty snack]</td>\n",
              "      <td>[whole milk]</td>\n",
              "      <td>whole milk</td>\n",
              "    </tr>\n",
              "    <tr>\n",
              "      <th>2</th>\n",
              "      <td>[canned beer, misc. beverages]</td>\n",
              "      <td>[]</td>\n",
              "      <td></td>\n",
              "    </tr>\n",
              "    <tr>\n",
              "      <th>3</th>\n",
              "      <td>[sausage, hygiene articles]</td>\n",
              "      <td>[]</td>\n",
              "      <td></td>\n",
              "    </tr>\n",
              "    <tr>\n",
              "      <th>4</th>\n",
              "      <td>[soda, pickled vegetables]</td>\n",
              "      <td>[]</td>\n",
              "      <td></td>\n",
              "    </tr>\n",
              "    <tr>\n",
              "      <th>5</th>\n",
              "      <td>[frankfurter, curd]</td>\n",
              "      <td>[]</td>\n",
              "      <td></td>\n",
              "    </tr>\n",
              "    <tr>\n",
              "      <th>6</th>\n",
              "      <td>[sausage, whole milk, rolls/buns]</td>\n",
              "      <td>[whole milk, rolls/buns]</td>\n",
              "      <td>whole milk, rolls/buns</td>\n",
              "    </tr>\n",
              "    <tr>\n",
              "      <th>7</th>\n",
              "      <td>[whole milk, soda]</td>\n",
              "      <td>[whole milk]</td>\n",
              "      <td>whole milk</td>\n",
              "    </tr>\n",
              "    <tr>\n",
              "      <th>8</th>\n",
              "      <td>[beef, white bread]</td>\n",
              "      <td>[]</td>\n",
              "      <td></td>\n",
              "    </tr>\n",
              "    <tr>\n",
              "      <th>9</th>\n",
              "      <td>[frankfurter, soda, whipped/sour cream]</td>\n",
              "      <td>[]</td>\n",
              "      <td></td>\n",
              "    </tr>\n",
              "  </tbody>\n",
              "</table>\n",
              "</div>"
            ],
            "text/plain": [
              "                                     itemDescription  ... itemDescriptionFreqString\n",
              "0  [sausage, whole milk, semi-finished bread, yog...  ...                whole milk\n",
              "1                  [whole milk, pastry, salty snack]  ...                whole milk\n",
              "2                     [canned beer, misc. beverages]  ...                          \n",
              "3                        [sausage, hygiene articles]  ...                          \n",
              "4                         [soda, pickled vegetables]  ...                          \n",
              "5                                [frankfurter, curd]  ...                          \n",
              "6                  [sausage, whole milk, rolls/buns]  ...    whole milk, rolls/buns\n",
              "7                                 [whole milk, soda]  ...                whole milk\n",
              "8                                [beef, white bread]  ...                          \n",
              "9            [frankfurter, soda, whipped/sour cream]  ...                          \n",
              "\n",
              "[10 rows x 3 columns]"
            ]
          },
          "metadata": {
            "tags": []
          },
          "execution_count": 18
        }
      ]
    },
    {
      "cell_type": "code",
      "metadata": {
        "id": "LsfdVKfAEbj8",
        "colab": {
          "base_uri": "https://localhost:8080/",
          "height": 300
        },
        "outputId": "7b5cae54-25bc-44bf-da3d-c5a6b06575a9"
      },
      "source": [
        "# obtenemos el arbol con el orden descendente en sus ramas \n",
        "\n",
        "# agrupamos con la  columna que acabamos de crear, itemDescriptionFreqString, para ver la frecuencia de cada rama\n",
        "# usamos el método size para contar el número de renglones de cada grupo \n",
        "arbol = datos_por_fecha.groupby(['itemDescriptionFreqString']).size().reset_index(name = 'frecuencia')\n",
        "arbol"
      ],
      "execution_count": null,
      "outputs": [
        {
          "output_type": "execute_result",
          "data": {
            "text/html": [
              "<div>\n",
              "<style scoped>\n",
              "    .dataframe tbody tr th:only-of-type {\n",
              "        vertical-align: middle;\n",
              "    }\n",
              "\n",
              "    .dataframe tbody tr th {\n",
              "        vertical-align: top;\n",
              "    }\n",
              "\n",
              "    .dataframe thead th {\n",
              "        text-align: right;\n",
              "    }\n",
              "</style>\n",
              "<table border=\"1\" class=\"dataframe\">\n",
              "  <thead>\n",
              "    <tr style=\"text-align: right;\">\n",
              "      <th></th>\n",
              "      <th>itemDescriptionFreqString</th>\n",
              "      <th>frecuencia</th>\n",
              "    </tr>\n",
              "  </thead>\n",
              "  <tbody>\n",
              "    <tr>\n",
              "      <th>0</th>\n",
              "      <td></td>\n",
              "      <td>9698</td>\n",
              "    </tr>\n",
              "    <tr>\n",
              "      <th>1</th>\n",
              "      <td>other vegetables</td>\n",
              "      <td>1465</td>\n",
              "    </tr>\n",
              "    <tr>\n",
              "      <th>2</th>\n",
              "      <td>other vegetables, rolls/buns</td>\n",
              "      <td>140</td>\n",
              "    </tr>\n",
              "    <tr>\n",
              "      <th>3</th>\n",
              "      <td>rolls/buns</td>\n",
              "      <td>1297</td>\n",
              "    </tr>\n",
              "    <tr>\n",
              "      <th>4</th>\n",
              "      <td>whole milk</td>\n",
              "      <td>1950</td>\n",
              "    </tr>\n",
              "    <tr>\n",
              "      <th>5</th>\n",
              "      <td>whole milk, other vegetables</td>\n",
              "      <td>204</td>\n",
              "    </tr>\n",
              "    <tr>\n",
              "      <th>6</th>\n",
              "      <td>whole milk, other vegetables, rolls/buns</td>\n",
              "      <td>18</td>\n",
              "    </tr>\n",
              "    <tr>\n",
              "      <th>7</th>\n",
              "      <td>whole milk, rolls/buns</td>\n",
              "      <td>191</td>\n",
              "    </tr>\n",
              "  </tbody>\n",
              "</table>\n",
              "</div>"
            ],
            "text/plain": [
              "                  itemDescriptionFreqString  frecuencia\n",
              "0                                                  9698\n",
              "1                          other vegetables        1465\n",
              "2              other vegetables, rolls/buns         140\n",
              "3                                rolls/buns        1297\n",
              "4                                whole milk        1950\n",
              "5              whole milk, other vegetables         204\n",
              "6  whole milk, other vegetables, rolls/buns          18\n",
              "7                    whole milk, rolls/buns         191"
            ]
          },
          "metadata": {
            "tags": []
          },
          "execution_count": 19
        }
      ]
    },
    {
      "cell_type": "markdown",
      "metadata": {
        "id": "wjT2-2b1pukn"
      },
      "source": [
        "Vemos que hay 9698 transacciones en las que no hay ninguno de los elementos que cumplen con ser mayores o iguales al minSup; por lo que vamos a eliminar ese renglón.\n",
        "\n"
      ]
    },
    {
      "cell_type": "code",
      "metadata": {
        "id": "tL9JBHU7pnHV",
        "colab": {
          "base_uri": "https://localhost:8080/",
          "height": 269
        },
        "outputId": "2b942bbf-f3dd-4586-e425-b3bb84cea61c"
      },
      "source": [
        "arbol = arbol.iloc[1:]\n",
        "arbol"
      ],
      "execution_count": null,
      "outputs": [
        {
          "output_type": "execute_result",
          "data": {
            "text/html": [
              "<div>\n",
              "<style scoped>\n",
              "    .dataframe tbody tr th:only-of-type {\n",
              "        vertical-align: middle;\n",
              "    }\n",
              "\n",
              "    .dataframe tbody tr th {\n",
              "        vertical-align: top;\n",
              "    }\n",
              "\n",
              "    .dataframe thead th {\n",
              "        text-align: right;\n",
              "    }\n",
              "</style>\n",
              "<table border=\"1\" class=\"dataframe\">\n",
              "  <thead>\n",
              "    <tr style=\"text-align: right;\">\n",
              "      <th></th>\n",
              "      <th>itemDescriptionFreqString</th>\n",
              "      <th>frecuencia</th>\n",
              "    </tr>\n",
              "  </thead>\n",
              "  <tbody>\n",
              "    <tr>\n",
              "      <th>1</th>\n",
              "      <td>other vegetables</td>\n",
              "      <td>1465</td>\n",
              "    </tr>\n",
              "    <tr>\n",
              "      <th>2</th>\n",
              "      <td>other vegetables, rolls/buns</td>\n",
              "      <td>140</td>\n",
              "    </tr>\n",
              "    <tr>\n",
              "      <th>3</th>\n",
              "      <td>rolls/buns</td>\n",
              "      <td>1297</td>\n",
              "    </tr>\n",
              "    <tr>\n",
              "      <th>4</th>\n",
              "      <td>whole milk</td>\n",
              "      <td>1950</td>\n",
              "    </tr>\n",
              "    <tr>\n",
              "      <th>5</th>\n",
              "      <td>whole milk, other vegetables</td>\n",
              "      <td>204</td>\n",
              "    </tr>\n",
              "    <tr>\n",
              "      <th>6</th>\n",
              "      <td>whole milk, other vegetables, rolls/buns</td>\n",
              "      <td>18</td>\n",
              "    </tr>\n",
              "    <tr>\n",
              "      <th>7</th>\n",
              "      <td>whole milk, rolls/buns</td>\n",
              "      <td>191</td>\n",
              "    </tr>\n",
              "  </tbody>\n",
              "</table>\n",
              "</div>"
            ],
            "text/plain": [
              "                  itemDescriptionFreqString  frecuencia\n",
              "1                          other vegetables        1465\n",
              "2              other vegetables, rolls/buns         140\n",
              "3                                rolls/buns        1297\n",
              "4                                whole milk        1950\n",
              "5              whole milk, other vegetables         204\n",
              "6  whole milk, other vegetables, rolls/buns          18\n",
              "7                    whole milk, rolls/buns         191"
            ]
          },
          "metadata": {
            "tags": []
          },
          "execution_count": 20
        }
      ]
    },
    {
      "cell_type": "code",
      "metadata": {
        "id": "hN8q6kHHredS",
        "colab": {
          "base_uri": "https://localhost:8080/"
        },
        "outputId": "1a798fab-6aac-4f28-ceff-7c640dee458f"
      },
      "source": [
        "# vamos a obtener el primer elemento de cada lista y contar su frecuencia\n",
        "un_elemento_frec = Counter(datos_por_fecha['itemDescriptionFreq'].str[0].dropna())\n",
        "un_elemento_frec\n"
      ],
      "execution_count": null,
      "outputs": [
        {
          "output_type": "execute_result",
          "data": {
            "text/plain": [
              "Counter({'other vegetables': 1605, 'rolls/buns': 1297, 'whole milk': 2363})"
            ]
          },
          "metadata": {
            "tags": []
          },
          "execution_count": 21
        }
      ]
    },
    {
      "cell_type": "code",
      "metadata": {
        "id": "Q1xLLKRGuoHW"
      },
      "source": [
        "# Creamos un grafo dirigido con networkx para visualizar el árbol\n",
        "\n",
        "# Generamos el grafo dirigido D\n",
        "G = nx.DiGraph()\n",
        "\n",
        "# Insertamos el nodo vacío\n",
        "G.add_node(\"{}\")\n",
        "\n",
        "for nodo in un_elemento_frec.keys():\n",
        "    # nos quedamos con las primera letra de cada producto\n",
        "    palabra_abrev = [s[0] for s in nodo.split()]\n",
        "    palabra_abrev = \" \".join(palabra_abrev)\n",
        "    #print(palabra_abrev)\n",
        "    # Agregamos los nodos del árbol en el primer nivel con su respectiva frecuencia\n",
        "    G.add_node(palabra_abrev+\":\"+str(un_elemento_frec.get(nodo)))\n",
        "    #print(nodo)\n",
        "    # Creamos los aristas que van desde el nodo vacío a estos nodos del primer nivel\n",
        "    G.add_edges_from([(\"{}\", palabra_abrev+\":\"+str(un_elemento_frec.get(nodo)))])\n",
        "    #print(\"{}\", palabra_abrev+\":\"+str(un_elemento_frec.get(nodo)))\n"
      ],
      "execution_count": null,
      "outputs": []
    },
    {
      "cell_type": "code",
      "metadata": {
        "id": "FHyxFta246jY",
        "colab": {
          "base_uri": "https://localhost:8080/"
        },
        "outputId": "38c525b4-9e1a-4956-9d2a-db7ff06db72a"
      },
      "source": [
        "# vamos a crear las ramas de cada rama, es decir, vamos a insertar los nodos del segundo nivel\n",
        "# del árbol con su correspondiente nodo antecedente\n",
        "\n",
        "# obtenemos las listas que tengan hasta dos elementos y contamos su frecuencia\n",
        "\n",
        "# hacemos el map a una tupla ya que las listas son unhashables\n",
        "dos_elementos_frec = Counter(map(tuple, datos_por_fecha['itemDescriptionFreq'].str[0:2]))\n",
        "\n",
        "# este diccionario contendrá solo las llaves que sean de longitud 2\n",
        "dos_elementos_frec_dict = {}\n",
        "\n",
        "# iteramos con los elementos del counter para quedarnos con los que tengan en su llave una longitud\n",
        "# de dos\n",
        "for k in dos_elementos_frec.keys():\n",
        "  if len(k) == 2:\n",
        "    dos_elementos_frec_dict[k] = dos_elementos_frec[k]\n",
        "\n",
        "dos_elementos_frec_dict\n"
      ],
      "execution_count": null,
      "outputs": [
        {
          "output_type": "execute_result",
          "data": {
            "text/plain": [
              "{('other vegetables', 'rolls/buns'): 140,\n",
              " ('whole milk', 'other vegetables'): 222,\n",
              " ('whole milk', 'rolls/buns'): 191}"
            ]
          },
          "metadata": {
            "tags": []
          },
          "execution_count": 23
        }
      ]
    },
    {
      "cell_type": "markdown",
      "metadata": {
        "id": "-Fl7QqC8lAvJ"
      },
      "source": [
        "En la celda anterior realmente solo nos va a interesar el segundo valor de la tupla de cada llave del diccionario, pero nos quedamos con el primer valor para saber a qué rama corresponde"
      ]
    },
    {
      "cell_type": "code",
      "metadata": {
        "id": "WIw4uDLAEMrC"
      },
      "source": [
        "# añadimos los nodos y sus aristas del segundo nivel\n",
        "# notamos que tenemos varios 'indices' para un mismo producto, ya\n",
        "# que están en un distinto nivel (profundidad) en el árbol,\n",
        "\n",
        "G.add_node(\"r 2:140\")\n",
        "G.add_node(\"o v:222\")\n",
        "G.add_node(\"r 3:191\")\n",
        "G.add_edges_from([(\"o v:1605\",\"r 2:140\"),(\"w m:2363\",\"o v:222\"),(\"w m:2363\",\"r 3:191\")])"
      ],
      "execution_count": null,
      "outputs": []
    },
    {
      "cell_type": "code",
      "metadata": {
        "id": "L2iyF1hx5PVm",
        "colab": {
          "base_uri": "https://localhost:8080/"
        },
        "outputId": "45d5dd40-8ca2-4c55-ed18-80623fb2e997"
      },
      "source": [
        "\n",
        "# hacemos lo mismo que en el caso del segundo nivel pero ahora para el tercer nivel del árbol \n",
        "\n",
        "tres_elementos_frec = Counter(map(tuple, datos_por_fecha['itemDescriptionFreq'].str[0:3]))\n",
        "tres_elementos_frec_dict = {}\n",
        "\n",
        "for k in tres_elementos_frec.keys():\n",
        "  if len(k) == 3:\n",
        "    tres_elementos_frec_dict[k] = tres_elementos_frec[k]\n",
        "\n",
        "tres_elementos_frec_dict"
      ],
      "execution_count": null,
      "outputs": [
        {
          "output_type": "execute_result",
          "data": {
            "text/plain": [
              "{('whole milk', 'other vegetables', 'rolls/buns'): 18}"
            ]
          },
          "metadata": {
            "tags": []
          },
          "execution_count": 25
        }
      ]
    },
    {
      "cell_type": "code",
      "metadata": {
        "id": "z_Hsg-b5HhHj"
      },
      "source": [
        "G.add_node(\"r 4:18\")\n",
        "G.add_edges_from([(\"o v:222\",\"r 4:18\")])"
      ],
      "execution_count": null,
      "outputs": []
    },
    {
      "cell_type": "code",
      "metadata": {
        "id": "wMGDji2h-a8j",
        "colab": {
          "base_uri": "https://localhost:8080/",
          "height": 591
        },
        "outputId": "96dd64d7-f145-4a34-cc0c-0a9bf09cc1ed"
      },
      "source": [
        "import networkx as nx\n",
        "from networkx.drawing.nx_pydot import graphviz_layout\n",
        "import matplotlib.pyplot as plt\n",
        "\n",
        "plt.figure(figsize=(10,10))\n",
        "plt.title('FP-Tree')\n",
        "#pos=graphviz_layout(G, prog='dot')\n",
        "nx.draw(G, with_labels=True, node_size=2000)"
      ],
      "execution_count": null,
      "outputs": [
        {
          "output_type": "display_data",
          "data": {
            "image/png": "[encoded data removed]",
            "text/plain": [
              "<Figure size 720x720 with 1 Axes>"
            ]
          },
          "metadata": {
            "tags": []
          }
        }
      ]
    },
    {
      "cell_type": "markdown",
      "metadata": {
        "id": "6lCXnixal0m2"
      },
      "source": [
        "Vamos a hacer lo mismo que en las celdas anteriores, pero ahora con un minSup distinto al anterior"
      ]
    },
    {
      "cell_type": "code",
      "metadata": {
        "id": "JmZ0hXN3l8H7",
        "colab": {
          "base_uri": "https://localhost:8080/",
          "height": 418
        },
        "outputId": "d042dd6c-645c-41df-a11c-8e58e2dce3a2"
      },
      "source": [
        "minSup2 = 0.1\n",
        "frecuencia_elementos_minSup2 = [c[0] for c in frecuencia_elementos.items() if c[1]/len(datos_por_fecha) >= minSup2]\n",
        "frecuencia_elementos_minSup2_tup = [(c[0],c[1]) for c in frecuencia_elementos.items() if c[1]/len(datos_por_fecha) >= minSup2]\n",
        "frecuencia_elementos_minSup2_tup = sorted(frecuencia_elementos_minSup2_tup, key=lambda x: x[1],reverse=True)\n",
        "print(\"Elementos que son mayores o iguales al minSup2:\", frecuencia_elementos_minSup2_tup)\n",
        "print(\"Número de productos que son mayores o iguales al soporte mínimo de {}: \".format(minSup2), len(frecuencia_elementos_minSup2))\n",
        "print(\"Total de transacciones que con esos elementos: \", np.sum([c[1] for c in frecuencia_elementos_minSup2_tup]))\n",
        "\n",
        "elementos_minSup2_ord = [i[0] for i in frecuencia_elementos_minSup2_tup]\n",
        "\n",
        "elementos_minSup2_frecuentes = []\n",
        "\n",
        "for i in range(len(datos_por_fecha['itemDescription'])):\n",
        "  # esta lista es auxiliar, y la vamos a crear en cada transacción de la bd\n",
        "  # para guardar en dicha forma a los elementos (ordenados descendentemente)\n",
        "  # que sí sean frecuentes de la transacción corrrespondiente\n",
        "  elementos_minSup2_frecuentes_trans = []\n",
        "  for j in range(len(elementos_minSup2_ord)):\n",
        "    if elementos_minSup2_ord[j] in datos_por_fecha['itemDescription'][i]: \n",
        "        elementos_minSup2_frecuentes_trans.append(elementos_minSup2_ord[j])\n",
        "  # entonces esta es una lista de listas, en la que cada una de dichas\n",
        "  # listas tiene a los elementos frecuentes de cada transacción\n",
        "  elementos_minSup2_frecuentes.append(elementos_minSup2_frecuentes_trans)\n",
        "\n",
        "datos_por_fecha['itemDescriptionFreq2'] = elementos_minSup2_frecuentes\n",
        "datos_por_fecha['itemDescriptionFreqString2'] = [', '.join(map(str, l)) for l in datos_por_fecha['itemDescriptionFreq2']]\n",
        "datos_por_fecha.head(10)"
      ],
      "execution_count": null,
      "outputs": [
        {
          "output_type": "stream",
          "text": [
            "Elementos que son mayores o iguales al minSup2: [('whole milk', 2502), ('other vegetables', 1898), ('rolls/buns', 1716), ('soda', 1514)]\n",
            "Número de productos que son mayores o iguales al soporte mínimo de 0.1:  4\n",
            "Total de transacciones que con esos elementos:  7630\n"
          ],
          "name": "stdout"
        },
        {
          "output_type": "execute_result",
          "data": {
            "text/html": [
              "<div>\n",
              "<style scoped>\n",
              "    .dataframe tbody tr th:only-of-type {\n",
              "        vertical-align: middle;\n",
              "    }\n",
              "\n",
              "    .dataframe tbody tr th {\n",
              "        vertical-align: top;\n",
              "    }\n",
              "\n",
              "    .dataframe thead th {\n",
              "        text-align: right;\n",
              "    }\n",
              "</style>\n",
              "<table border=\"1\" class=\"dataframe\">\n",
              "  <thead>\n",
              "    <tr style=\"text-align: right;\">\n",
              "      <th></th>\n",
              "      <th>itemDescription</th>\n",
              "      <th>itemDescriptionFreq</th>\n",
              "      <th>itemDescriptionFreqString</th>\n",
              "      <th>itemDescriptionFreq2</th>\n",
              "      <th>itemDescriptionFreqString2</th>\n",
              "    </tr>\n",
              "  </thead>\n",
              "  <tbody>\n",
              "    <tr>\n",
              "      <th>0</th>\n",
              "      <td>[sausage, whole milk, semi-finished bread, yog...</td>\n",
              "      <td>[whole milk]</td>\n",
              "      <td>whole milk</td>\n",
              "      <td>[whole milk]</td>\n",
              "      <td>whole milk</td>\n",
              "    </tr>\n",
              "    <tr>\n",
              "      <th>1</th>\n",
              "      <td>[whole milk, pastry, salty snack]</td>\n",
              "      <td>[whole milk]</td>\n",
              "      <td>whole milk</td>\n",
              "      <td>[whole milk]</td>\n",
              "      <td>whole milk</td>\n",
              "    </tr>\n",
              "    <tr>\n",
              "      <th>2</th>\n",
              "      <td>[canned beer, misc. beverages]</td>\n",
              "      <td>[]</td>\n",
              "      <td></td>\n",
              "      <td>[]</td>\n",
              "      <td></td>\n",
              "    </tr>\n",
              "    <tr>\n",
              "      <th>3</th>\n",
              "      <td>[sausage, hygiene articles]</td>\n",
              "      <td>[]</td>\n",
              "      <td></td>\n",
              "      <td>[]</td>\n",
              "      <td></td>\n",
              "    </tr>\n",
              "    <tr>\n",
              "      <th>4</th>\n",
              "      <td>[soda, pickled vegetables]</td>\n",
              "      <td>[]</td>\n",
              "      <td></td>\n",
              "      <td>[soda]</td>\n",
              "      <td>soda</td>\n",
              "    </tr>\n",
              "    <tr>\n",
              "      <th>5</th>\n",
              "      <td>[frankfurter, curd]</td>\n",
              "      <td>[]</td>\n",
              "      <td></td>\n",
              "      <td>[]</td>\n",
              "      <td></td>\n",
              "    </tr>\n",
              "    <tr>\n",
              "      <th>6</th>\n",
              "      <td>[sausage, whole milk, rolls/buns]</td>\n",
              "      <td>[whole milk, rolls/buns]</td>\n",
              "      <td>whole milk, rolls/buns</td>\n",
              "      <td>[whole milk, rolls/buns]</td>\n",
              "      <td>whole milk, rolls/buns</td>\n",
              "    </tr>\n",
              "    <tr>\n",
              "      <th>7</th>\n",
              "      <td>[whole milk, soda]</td>\n",
              "      <td>[whole milk]</td>\n",
              "      <td>whole milk</td>\n",
              "      <td>[whole milk, soda]</td>\n",
              "      <td>whole milk, soda</td>\n",
              "    </tr>\n",
              "    <tr>\n",
              "      <th>8</th>\n",
              "      <td>[beef, white bread]</td>\n",
              "      <td>[]</td>\n",
              "      <td></td>\n",
              "      <td>[]</td>\n",
              "      <td></td>\n",
              "    </tr>\n",
              "    <tr>\n",
              "      <th>9</th>\n",
              "      <td>[frankfurter, soda, whipped/sour cream]</td>\n",
              "      <td>[]</td>\n",
              "      <td></td>\n",
              "      <td>[soda]</td>\n",
              "      <td>soda</td>\n",
              "    </tr>\n",
              "  </tbody>\n",
              "</table>\n",
              "</div>"
            ],
            "text/plain": [
              "                                     itemDescription  ... itemDescriptionFreqString2\n",
              "0  [sausage, whole milk, semi-finished bread, yog...  ...                 whole milk\n",
              "1                  [whole milk, pastry, salty snack]  ...                 whole milk\n",
              "2                     [canned beer, misc. beverages]  ...                           \n",
              "3                        [sausage, hygiene articles]  ...                           \n",
              "4                         [soda, pickled vegetables]  ...                       soda\n",
              "5                                [frankfurter, curd]  ...                           \n",
              "6                  [sausage, whole milk, rolls/buns]  ...     whole milk, rolls/buns\n",
              "7                                 [whole milk, soda]  ...           whole milk, soda\n",
              "8                                [beef, white bread]  ...                           \n",
              "9            [frankfurter, soda, whipped/sour cream]  ...                       soda\n",
              "\n",
              "[10 rows x 5 columns]"
            ]
          },
          "metadata": {
            "tags": []
          },
          "execution_count": 28
        }
      ]
    },
    {
      "cell_type": "code",
      "metadata": {
        "id": "Qrpe0NZKl8gW",
        "colab": {
          "base_uri": "https://localhost:8080/",
          "height": 520
        },
        "outputId": "9ba10401-2b07-4e88-bfb5-0d928fd6f4f5"
      },
      "source": [
        "arbol = datos_por_fecha.groupby(['itemDescriptionFreqString2']).size().reset_index(name = 'frecuencia')\n",
        "arbol = arbol.iloc[1:]\n",
        "arbol"
      ],
      "execution_count": null,
      "outputs": [
        {
          "output_type": "execute_result",
          "data": {
            "text/html": [
              "<div>\n",
              "<style scoped>\n",
              "    .dataframe tbody tr th:only-of-type {\n",
              "        vertical-align: middle;\n",
              "    }\n",
              "\n",
              "    .dataframe tbody tr th {\n",
              "        vertical-align: top;\n",
              "    }\n",
              "\n",
              "    .dataframe thead th {\n",
              "        text-align: right;\n",
              "    }\n",
              "</style>\n",
              "<table border=\"1\" class=\"dataframe\">\n",
              "  <thead>\n",
              "    <tr style=\"text-align: right;\">\n",
              "      <th></th>\n",
              "      <th>itemDescriptionFreqString2</th>\n",
              "      <th>frecuencia</th>\n",
              "    </tr>\n",
              "  </thead>\n",
              "  <tbody>\n",
              "    <tr>\n",
              "      <th>1</th>\n",
              "      <td>other vegetables</td>\n",
              "      <td>1353</td>\n",
              "    </tr>\n",
              "    <tr>\n",
              "      <th>2</th>\n",
              "      <td>other vegetables, rolls/buns</td>\n",
              "      <td>124</td>\n",
              "    </tr>\n",
              "    <tr>\n",
              "      <th>3</th>\n",
              "      <td>other vegetables, rolls/buns, soda</td>\n",
              "      <td>16</td>\n",
              "    </tr>\n",
              "    <tr>\n",
              "      <th>4</th>\n",
              "      <td>other vegetables, soda</td>\n",
              "      <td>112</td>\n",
              "    </tr>\n",
              "    <tr>\n",
              "      <th>5</th>\n",
              "      <td>rolls/buns</td>\n",
              "      <td>1207</td>\n",
              "    </tr>\n",
              "    <tr>\n",
              "      <th>6</th>\n",
              "      <td>rolls/buns, soda</td>\n",
              "      <td>90</td>\n",
              "    </tr>\n",
              "    <tr>\n",
              "      <th>7</th>\n",
              "      <td>soda</td>\n",
              "      <td>1061</td>\n",
              "    </tr>\n",
              "    <tr>\n",
              "      <th>8</th>\n",
              "      <td>whole milk</td>\n",
              "      <td>1807</td>\n",
              "    </tr>\n",
              "    <tr>\n",
              "      <th>9</th>\n",
              "      <td>whole milk, other vegetables</td>\n",
              "      <td>188</td>\n",
              "    </tr>\n",
              "    <tr>\n",
              "      <th>10</th>\n",
              "      <td>whole milk, other vegetables, rolls/buns</td>\n",
              "      <td>17</td>\n",
              "    </tr>\n",
              "    <tr>\n",
              "      <th>11</th>\n",
              "      <td>whole milk, other vegetables, rolls/buns, soda</td>\n",
              "      <td>1</td>\n",
              "    </tr>\n",
              "    <tr>\n",
              "      <th>12</th>\n",
              "      <td>whole milk, other vegetables, soda</td>\n",
              "      <td>16</td>\n",
              "    </tr>\n",
              "    <tr>\n",
              "      <th>13</th>\n",
              "      <td>whole milk, rolls/buns</td>\n",
              "      <td>177</td>\n",
              "    </tr>\n",
              "    <tr>\n",
              "      <th>14</th>\n",
              "      <td>whole milk, rolls/buns, soda</td>\n",
              "      <td>14</td>\n",
              "    </tr>\n",
              "    <tr>\n",
              "      <th>15</th>\n",
              "      <td>whole milk, soda</td>\n",
              "      <td>143</td>\n",
              "    </tr>\n",
              "  </tbody>\n",
              "</table>\n",
              "</div>"
            ],
            "text/plain": [
              "                        itemDescriptionFreqString2  frecuencia\n",
              "1                                 other vegetables        1353\n",
              "2                     other vegetables, rolls/buns         124\n",
              "3               other vegetables, rolls/buns, soda          16\n",
              "4                           other vegetables, soda         112\n",
              "5                                       rolls/buns        1207\n",
              "6                                 rolls/buns, soda          90\n",
              "7                                             soda        1061\n",
              "8                                       whole milk        1807\n",
              "9                     whole milk, other vegetables         188\n",
              "10        whole milk, other vegetables, rolls/buns          17\n",
              "11  whole milk, other vegetables, rolls/buns, soda           1\n",
              "12              whole milk, other vegetables, soda          16\n",
              "13                          whole milk, rolls/buns         177\n",
              "14                    whole milk, rolls/buns, soda          14\n",
              "15                                whole milk, soda         143"
            ]
          },
          "metadata": {
            "tags": []
          },
          "execution_count": 29
        }
      ]
    },
    {
      "cell_type": "code",
      "metadata": {
        "id": "LdlHi5tVl8bE"
      },
      "source": [
        "\n",
        "# la siguiente función calcula las listas que tengan hasta n elementos, de la columna con el minSup2, y contamos su frecuencia\n",
        "def elementosFrec(n):\n",
        "\n",
        "  n_elementos_frec = Counter(map(tuple, datos_por_fecha['itemDescriptionFreq2'].str[0:n]))\n",
        "  n_elementos_frec_dict = {}\n",
        "\n",
        "  # de dos\n",
        "  for k in n_elementos_frec.keys():\n",
        "    if len(k) == n:\n",
        "      n_elementos_frec_dict[k] = n_elementos_frec[k]\n",
        "\n",
        "  return n_elementos_frec_dict"
      ],
      "execution_count": null,
      "outputs": []
    },
    {
      "cell_type": "code",
      "metadata": {
        "id": "iIpeTBUNtv9Y",
        "colab": {
          "base_uri": "https://localhost:8080/"
        },
        "outputId": "4701d444-c9cc-4b16-b52c-cccb924059c3"
      },
      "source": [
        "un_elemento_frec1 = Counter(datos_por_fecha['itemDescriptionFreq2'].str[0].dropna())\n",
        "un_elemento_frec1"
      ],
      "execution_count": null,
      "outputs": [
        {
          "output_type": "execute_result",
          "data": {
            "text/plain": [
              "Counter({'other vegetables': 1605,\n",
              "         'rolls/buns': 1297,\n",
              "         'soda': 1061,\n",
              "         'whole milk': 2363})"
            ]
          },
          "metadata": {
            "tags": []
          },
          "execution_count": 31
        }
      ]
    },
    {
      "cell_type": "code",
      "metadata": {
        "id": "lUlseVaHl8XW",
        "colab": {
          "base_uri": "https://localhost:8080/"
        },
        "outputId": "ec9c04d5-ef81-49cc-b4a7-1d2f35336aee"
      },
      "source": [
        "dos_elementos_frec_dict2 = elementosFrec(2)\n",
        "dos_elementos_frec_dict2"
      ],
      "execution_count": null,
      "outputs": [
        {
          "output_type": "execute_result",
          "data": {
            "text/plain": [
              "{('other vegetables', 'rolls/buns'): 140,\n",
              " ('other vegetables', 'soda'): 112,\n",
              " ('rolls/buns', 'soda'): 90,\n",
              " ('whole milk', 'other vegetables'): 222,\n",
              " ('whole milk', 'rolls/buns'): 191,\n",
              " ('whole milk', 'soda'): 143}"
            ]
          },
          "metadata": {
            "tags": []
          },
          "execution_count": 32
        }
      ]
    },
    {
      "cell_type": "code",
      "metadata": {
        "id": "ofhdOsHZl8S2",
        "colab": {
          "base_uri": "https://localhost:8080/"
        },
        "outputId": "16dce999-c53f-45dd-9361-ea7868245223"
      },
      "source": [
        "tres_elementos_frec_dict2 = elementosFrec(3)\n",
        "tres_elementos_frec_dict2"
      ],
      "execution_count": null,
      "outputs": [
        {
          "output_type": "execute_result",
          "data": {
            "text/plain": [
              "{('other vegetables', 'rolls/buns', 'soda'): 16,\n",
              " ('whole milk', 'other vegetables', 'rolls/buns'): 18,\n",
              " ('whole milk', 'other vegetables', 'soda'): 16,\n",
              " ('whole milk', 'rolls/buns', 'soda'): 14}"
            ]
          },
          "metadata": {
            "tags": []
          },
          "execution_count": 33
        }
      ]
    },
    {
      "cell_type": "code",
      "metadata": {
        "id": "Xd31-2MOts4_",
        "colab": {
          "base_uri": "https://localhost:8080/"
        },
        "outputId": "b9ad7e1c-6023-4ac7-ce16-6d2a88bf5e5d"
      },
      "source": [
        "cuatro_elementos_frec_dict2 = elementosFrec(4)\n",
        "cuatro_elementos_frec_dict2"
      ],
      "execution_count": null,
      "outputs": [
        {
          "output_type": "execute_result",
          "data": {
            "text/plain": [
              "{('whole milk', 'other vegetables', 'rolls/buns', 'soda'): 1}"
            ]
          },
          "metadata": {
            "tags": []
          },
          "execution_count": 34
        }
      ]
    },
    {
      "cell_type": "markdown",
      "metadata": {
        "id": "q9N1Sip0vFq0"
      },
      "source": [
        "NOTA: Ya no dibujo el grafo porque quedaba muy amontonado y no había una buena visualización"
      ]
    },
    {
      "cell_type": "markdown",
      "metadata": {
        "id": "d0exsQ60vOO-"
      },
      "source": [
        "## Conclusiones\n",
        "\n",
        "Podemos observar que realmente los conjuntos de elementos en los árboles de cada minSup son distintos. Sin embargo, lo que pasa es que en el segundo árbol se le agregan nodos a las ramas del primer árbol, incluyendo una nueva rama: soda. Por lo tanto, la profundidad del segundo árbol es de 4  (sin incluir al nodo vacío).\n",
        "\n",
        "Podemos observar que en el primer árbol tenemos $2^3 - 1$ nodos (sin incluir al nodo vacío, es decir,a la raíz); mientras que en el segundo árbol tendríamos  $2^4 - 1$ nodos (sin incluir al nodo vacío, es decir,a la raíz). El exponente está relacionado con el número de elementos que son mayores o iguales al minSup en cada caso; sin embargo, eso no bastaría para generalizar la relación de que hay un total de $2^n-1$ nodos, donde $n$ sería el número de elementos que son mayores o iguales al minSup; pues puede darse el caso en que no tengamos en el arbol el conjunto potencia de dichos $n$ elementos."
      ]
    }
  ]
}