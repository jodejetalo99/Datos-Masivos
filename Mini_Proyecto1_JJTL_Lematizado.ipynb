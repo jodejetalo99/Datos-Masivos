{
  "nbformat": 4,
  "nbformat_minor": 0,
  "metadata": {
    "kernelspec": {
      "display_name": "Python 3",
      "language": "python",
      "name": "python3"
    },
    "language_info": {
      "codemirror_mode": {
        "name": "ipython",
        "version": 3
      },
      "file_extension": ".py",
      "mimetype": "text/x-python",
      "name": "python",
      "nbconvert_exporter": "python",
      "pygments_lexer": "ipython3",
      "version": "3.7.3"
    },
    "colab": {
      "name": "Mini_Proyecto1_JJTL_Lematizado.ipynb",
      "provenance": [],
      "collapsed_sections": [],
      "include_colab_link": true
    }
  },
  "cells": [
    {
      "cell_type": "markdown",
      "metadata": {
        "id": "view-in-github",
        "colab_type": "text"
      },
      "source": [
        "<a href=\"https://colab.research.google.com/github/jodejetalo99/Datos-Masivos/blob/master/Mini_Proyecto1_JJTL_Lematizado.ipynb\" target=\"_parent\"><img src=\"https://colab.research.google.com/assets/colab-badge.svg\" alt=\"Open In Colab\"/></a>"
      ]
    },
    {
      "cell_type": "markdown",
      "metadata": {
        "id": "DT-ZJb_r1v5y"
      },
      "source": [
        "# Universidad Nacional Autónoma de México\n",
        "# Instituto de Investigaciones en Matemáticas Aplicadas y en Sistemas\n",
        "# Datos Masivos II\n",
        "# José de Jesús Tapia López\n",
        "# Mini-proyecto: Modelado de tópicos con SVD\n",
        "# 07 de Octubre del 2020\n"
      ]
    },
    {
      "cell_type": "markdown",
      "metadata": {
        "id": "bkTFimkY1v6G"
      },
      "source": [
        "## Objetivo\n",
        "\n",
        "El objetivo de este mini-proyecto es identificar los tópicos a partir de un conjunto de biografías usando el método de SVD.\n",
        "\n",
        "La base de datos usada es: https://www.kaggle.com/sameersmahajan/people-wikipedia-data\n",
        "La columna usada es: $text$\n",
        "\n",
        "La extracción de tópicos será utilizando la descomposición de valores singulares."
      ]
    },
    {
      "cell_type": "markdown",
      "metadata": {
        "id": "JoMK6C3TCQAW"
      },
      "source": [
        "Contenido del CSV: Contiene URI, nombres de personas y texto de su página de wikipedia."
      ]
    },
    {
      "cell_type": "code",
      "metadata": {
        "id": "YDahuAt015V5",
        "colab": {
          "resources": {
            "http://localhost:8080/nbextensions/google.colab/files.js": {
              "data": "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",
              "ok": true,
              "headers": [
                [
                  "content-type",
                  "application/javascript"
                ]
              ],
              "status": 200,
              "status_text": "OK"
            }
          },
          "base_uri": "https://localhost:8080/",
          "height": 82
        },
        "outputId": "3ec3bc98-5f8f-431f-9f82-e405a44bda2a"
      },
      "source": [
        "#from google.colab import files\n",
        "#files.upload()"
      ],
      "execution_count": null,
      "outputs": [
        {
          "output_type": "display_data",
          "data": {
            "text/html": [
              "\n",
              "     <input type=\"file\" id=\"files-1abb4a3c-f73c-4c3f-a715-f1604c59446b\" name=\"files[]\" multiple disabled\n",
              "        style=\"border:none\" />\n",
              "     <output id=\"result-1abb4a3c-f73c-4c3f-a715-f1604c59446b\">\n",
              "      Upload widget is only available when the cell has been executed in the\n",
              "      current browser session. Please rerun this cell to enable.\n",
              "      </output>\n",
              "      <script src=\"/nbextensions/google.colab/files.js\"></script> "
            ],
            "text/plain": [
              "<IPython.core.display.HTML object>"
            ]
          },
          "metadata": {
            "tags": []
          }
        },
        {
          "output_type": "stream",
          "text": [
            "Saving people_wiki.csv to people_wiki.csv\n"
          ],
          "name": "stdout"
        }
      ]
    },
    {
      "cell_type": "code",
      "metadata": {
        "id": "qYILiw9CdZVJ",
        "colab": {
          "base_uri": "https://localhost:8080/"
        },
        "outputId": "cb0ed73b-a350-48ab-ae7a-69ffc5837060"
      },
      "source": [
        "from google.colab import drive\n",
        "drive.mount('/content/drive')"
      ],
      "execution_count": null,
      "outputs": [
        {
          "output_type": "stream",
          "text": [
            "Drive already mounted at /content/drive; to attempt to forcibly remount, call drive.mount(\"/content/drive\", force_remount=True).\n"
          ],
          "name": "stdout"
        }
      ]
    },
    {
      "cell_type": "code",
      "metadata": {
        "id": "MDPSmBIr1v6g",
        "colab": {
          "base_uri": "https://localhost:8080/",
          "height": 191
        },
        "outputId": "3645e865-a2de-43e1-937d-cc1ad3cbf918"
      },
      "source": [
        "import pandas as pd\n",
        "import nltk\n",
        "from nltk.corpus import stopwords\n",
        "#nltk.download('stopwords')\n",
        "\n",
        "# cargamos los datos y mostramos los primeros 5 registros del csv\n",
        "datos = pd.read_csv('drive/My Drive/people_wiki.csv')\n",
        "#datos.drop(datos.tail(42500).index,inplace=True) \n",
        "datos.head()"
      ],
      "execution_count": null,
      "outputs": [
        {
          "output_type": "execute_result",
          "data": {
            "text/html": [
              "<div>\n",
              "<style scoped>\n",
              "    .dataframe tbody tr th:only-of-type {\n",
              "        vertical-align: middle;\n",
              "    }\n",
              "\n",
              "    .dataframe tbody tr th {\n",
              "        vertical-align: top;\n",
              "    }\n",
              "\n",
              "    .dataframe thead th {\n",
              "        text-align: right;\n",
              "    }\n",
              "</style>\n",
              "<table border=\"1\" class=\"dataframe\">\n",
              "  <thead>\n",
              "    <tr style=\"text-align: right;\">\n",
              "      <th></th>\n",
              "      <th>URI</th>\n",
              "      <th>name</th>\n",
              "      <th>text</th>\n",
              "    </tr>\n",
              "  </thead>\n",
              "  <tbody>\n",
              "    <tr>\n",
              "      <th>0</th>\n",
              "      <td>&lt;http://dbpedia.org/resource/Digby_Morrell&gt;</td>\n",
              "      <td>Digby Morrell</td>\n",
              "      <td>digby morrell born 10 october 1979 is a former...</td>\n",
              "    </tr>\n",
              "    <tr>\n",
              "      <th>1</th>\n",
              "      <td>&lt;http://dbpedia.org/resource/Alfred_J._Lewy&gt;</td>\n",
              "      <td>Alfred J. Lewy</td>\n",
              "      <td>alfred j lewy aka sandy lewy graduated from un...</td>\n",
              "    </tr>\n",
              "    <tr>\n",
              "      <th>2</th>\n",
              "      <td>&lt;http://dbpedia.org/resource/Harpdog_Brown&gt;</td>\n",
              "      <td>Harpdog Brown</td>\n",
              "      <td>harpdog brown is a singer and harmonica player...</td>\n",
              "    </tr>\n",
              "    <tr>\n",
              "      <th>3</th>\n",
              "      <td>&lt;http://dbpedia.org/resource/Franz_Rottensteiner&gt;</td>\n",
              "      <td>Franz Rottensteiner</td>\n",
              "      <td>franz rottensteiner born in waidmannsfeld lowe...</td>\n",
              "    </tr>\n",
              "    <tr>\n",
              "      <th>4</th>\n",
              "      <td>&lt;http://dbpedia.org/resource/G-Enka&gt;</td>\n",
              "      <td>G-Enka</td>\n",
              "      <td>henry krvits born 30 december 1974 in tallinn ...</td>\n",
              "    </tr>\n",
              "  </tbody>\n",
              "</table>\n",
              "</div>"
            ],
            "text/plain": [
              "                                                 URI  ...                                               text\n",
              "0        <http://dbpedia.org/resource/Digby_Morrell>  ...  digby morrell born 10 october 1979 is a former...\n",
              "1       <http://dbpedia.org/resource/Alfred_J._Lewy>  ...  alfred j lewy aka sandy lewy graduated from un...\n",
              "2        <http://dbpedia.org/resource/Harpdog_Brown>  ...  harpdog brown is a singer and harmonica player...\n",
              "3  <http://dbpedia.org/resource/Franz_Rottensteiner>  ...  franz rottensteiner born in waidmannsfeld lowe...\n",
              "4               <http://dbpedia.org/resource/G-Enka>  ...  henry krvits born 30 december 1974 in tallinn ...\n",
              "\n",
              "[5 rows x 3 columns]"
            ]
          },
          "metadata": {
            "tags": []
          },
          "execution_count": 2
        }
      ]
    },
    {
      "cell_type": "code",
      "metadata": {
        "id": "JIPQ6lt41v78",
        "colab": {
          "base_uri": "https://localhost:8080/"
        },
        "outputId": "8396734a-2e32-4157-92df-4ad7110ab1ee"
      },
      "source": [
        "datos.shape"
      ],
      "execution_count": null,
      "outputs": [
        {
          "output_type": "execute_result",
          "data": {
            "text/plain": [
              "(42786, 3)"
            ]
          },
          "metadata": {
            "tags": []
          },
          "execution_count": 3
        }
      ]
    },
    {
      "cell_type": "code",
      "metadata": {
        "id": "RmA2gJcCeCFr",
        "colab": {
          "base_uri": "https://localhost:8080/"
        },
        "outputId": "63968166-97b8-4504-f7c9-8e86e163f402"
      },
      "source": [
        "nltk.download('stopwords')\n"
      ],
      "execution_count": null,
      "outputs": [
        {
          "output_type": "stream",
          "text": [
            "[nltk_data] Downloading package stopwords to /root/nltk_data...\n",
            "[nltk_data]   Unzipping corpora/stopwords.zip.\n"
          ],
          "name": "stdout"
        },
        {
          "output_type": "execute_result",
          "data": {
            "text/plain": [
              "True"
            ]
          },
          "metadata": {
            "tags": []
          },
          "execution_count": 4
        }
      ]
    },
    {
      "cell_type": "code",
      "metadata": {
        "id": "HMTI0XyNVyVZ"
      },
      "source": [
        "w_tokenizer = nltk.tokenize.WhitespaceTokenizer()\n",
        "lemmatizer = nltk.stem.WordNetLemmatizer()\n",
        "\n",
        "def lemmatize_text(text):\n",
        "    return [lemmatizer.lemmatize(w) for w in w_tokenizer.tokenize(text)]\n",
        "\n",
        "\n",
        "def convert_list_to_string(org_list, seperator=' '):\n",
        "    \n",
        "    return seperator.join(org_list)\n"
      ],
      "execution_count": null,
      "outputs": []
    },
    {
      "cell_type": "code",
      "metadata": {
        "id": "dC4YfWEzYcTs",
        "colab": {
          "base_uri": "https://localhost:8080/"
        },
        "outputId": "51bba345-3248-4fdf-d0de-2af7754d8c31"
      },
      "source": [
        "nltk.download('wordnet')"
      ],
      "execution_count": null,
      "outputs": [
        {
          "output_type": "stream",
          "text": [
            "[nltk_data] Downloading package wordnet to /root/nltk_data...\n",
            "[nltk_data]   Package wordnet is already up-to-date!\n"
          ],
          "name": "stdout"
        },
        {
          "output_type": "execute_result",
          "data": {
            "text/plain": [
              "True"
            ]
          },
          "metadata": {
            "tags": []
          },
          "execution_count": 4
        }
      ]
    },
    {
      "cell_type": "code",
      "metadata": {
        "id": "WQrnzEuX1v8w"
      },
      "source": [
        "# Pre-procesamiento de los documentos\n",
        "\n",
        "datos['clean_text'] = datos['text'].str.replace(\"[^a-zA-Z#]\", \" \") # se remueve signos, caracteres especiales.\n",
        "#datos['clean_text'] = datos['clean_text'].apply(lambda x: ' '.join([item for item in x if item not in stop_words])) # se remueve palabras cortas\n",
        "datos['clean_text'] = datos['clean_text'].apply(lambda x: x.lower())\n",
        "datos['clean_text'] = datos.clean_text.apply(lemmatize_text)"
      ],
      "execution_count": null,
      "outputs": []
    },
    {
      "cell_type": "code",
      "metadata": {
        "id": "gwWVMQhDZYmK"
      },
      "source": [
        "for i in range(len(datos['clean_text'])):\n",
        "  datos['clean_text'][i] = convert_list_to_string(datos['clean_text'][i])"
      ],
      "execution_count": null,
      "outputs": []
    },
    {
      "cell_type": "code",
      "metadata": {
        "id": "OKhRi9cW1v9h"
      },
      "source": [
        "stop_words = stopwords.words('english')\n",
        "\n",
        "tokenized_doc = datos['clean_text'].apply(lambda x: x.split())#tokenización\n",
        "tokenized_doc = tokenized_doc.apply(lambda x: [item for item in x if item not in stop_words])#eliminación de stop-words\n",
        "detokenized_doc = []\n",
        "for i in range(len(datos)):\n",
        "    t = ' '.join(tokenized_doc[i])\n",
        "    detokenized_doc.append(t)\n",
        "datos['clean_text'] = detokenized_doc"
      ],
      "execution_count": null,
      "outputs": []
    },
    {
      "cell_type": "code",
      "metadata": {
        "id": "KJx39ES_1v_A",
        "colab": {
          "base_uri": "https://localhost:8080/",
          "height": 100
        },
        "outputId": "74af1607-3498-4b11-c5d9-8fe3b19000fa"
      },
      "source": [
        "datos['text'][0]"
      ],
      "execution_count": null,
      "outputs": [
        {
          "output_type": "execute_result",
          "data": {
            "application/vnd.google.colaboratory.intrinsic+json": {
              "type": "string"
            },
            "text/plain": [
              "'digby morrell born 10 october 1979 is a former australian rules footballer who played with the kangaroos and carlton in the australian football league aflfrom western australia morrell played his early senior football for west perth his 44game senior career for the falcons spanned 19982000 and he was the clubs leading goalkicker in 2000 at the age of 21 morrell was recruited to the australian football league by the kangaroos football club with its third round selection in the 2001 afl rookie draft as a forward he twice kicked five goals during his time with the kangaroos the first was in a losing cause against sydney in 2002 and the other the following season in a drawn game against brisbaneafter the 2003 season morrell was traded along with david teague to the carlton football club in exchange for corey mckernan he played 32 games for the blues before being delisted at the end of 2005 he continued to play victorian football league vfl football with the northern bullants carltons vflaffiliate in 2006 and acted as playing assistant coach in 2007 in 2008 he shifted to the box hill hawks before retiring from playing at the end of the season from 2009 until 2013 morrell was the senior coach of the strathmore football club in the essendon district football league leading the club to the 2011 premier division premiership since 2014 he has coached the west coburg football club also in the edflhe currently teaches physical education at parade college in melbourne'"
            ]
          },
          "metadata": {
            "tags": []
          },
          "execution_count": 8
        }
      ]
    },
    {
      "cell_type": "code",
      "metadata": {
        "id": "j-mWtdUg1v_n",
        "colab": {
          "base_uri": "https://localhost:8080/",
          "height": 100
        },
        "outputId": "67b24281-7744-457c-cf09-d9e477b93825"
      },
      "source": [
        "datos['clean_text'][0]"
      ],
      "execution_count": null,
      "outputs": [
        {
          "output_type": "execute_result",
          "data": {
            "application/vnd.google.colaboratory.intrinsic+json": {
              "type": "string"
            },
            "text/plain": [
              "'digby morrell born october former australian rule footballer played kangaroo carlton australian football league aflfrom western australia morrell played early senior football west perth game senior career falcon spanned wa club leading goalkicker age morrell wa recruited australian football league kangaroo football club third round selection afl rookie draft forward twice kicked five goal time kangaroo first wa losing cause sydney following season drawn game brisbaneafter season morrell wa traded along david teague carlton football club exchange corey mckernan played game blue delisted end continued play victorian football league vfl football northern bullants carltons vflaffiliate acted playing assistant coach shifted box hill hawk retiring playing end season morrell wa senior coach strathmore football club essendon district football league leading club premier division premiership since ha coached west coburg football club also edflhe currently teach physical education parade college melbourne'"
            ]
          },
          "metadata": {
            "tags": []
          },
          "execution_count": 9
        }
      ]
    },
    {
      "cell_type": "markdown",
      "metadata": {
        "id": "hRy4JRNC6TvZ"
      },
      "source": [
        "Dado que la Descomposición de Valores Singulares es para matrices, necesitamos convertir todos esos documentos (que ya están pre-procesados) a una matriz."
      ]
    },
    {
      "cell_type": "code",
      "metadata": {
        "id": "3i9LRkTPwE4Z",
        "colab": {
          "base_uri": "https://localhost:8080/"
        },
        "outputId": "7b5be8b0-c626-4a9a-a97f-f63cd52f24d5"
      },
      "source": [
        "#Creamos una matriz de documentos y términos usando TfidfVectorizer\n",
        "from sklearn.feature_extraction.text import TfidfVectorizer\n",
        "\n",
        "vectorizer = TfidfVectorizer(stop_words='english', \n",
        "                            max_features= 1000, # máximo número de términos (1000 características, es decir, 1000 palabras)\n",
        "                            max_df = 0.5, \n",
        "                            smooth_idf=True)\n",
        "\n",
        "X = vectorizer.fit_transform(datos['clean_text'])\n",
        "print(\"Tamaño de la matriz T-D: \", X.shape) # visualizamos el tamaño de la matriz\n",
        "print(X)"
      ],
      "execution_count": null,
      "outputs": [
        {
          "output_type": "stream",
          "text": [
            "Tamaño de la matriz T-D:  (42786, 1000)\n",
            "  (0, 558)\t0.09157224872188534\n",
            "  (0, 157)\t0.04753191653574068\n",
            "  (0, 268)\t0.0645198350133814\n",
            "  (0, 904)\t0.08234516604056165\n",
            "  (0, 209)\t0.04910754694003716\n",
            "  (0, 246)\t0.06997416400090573\n",
            "  (0, 697)\t0.08590038221884506\n",
            "  (0, 245)\t0.0698384296691039\n",
            "  (0, 400)\t0.08407448122693519\n",
            "  (0, 152)\t0.1365644428118901\n",
            "  (0, 48)\t0.06584758307151911\n",
            "  (0, 681)\t0.11567352624555806\n",
            "  (0, 611)\t0.08016523155735393\n",
            "  (0, 678)\t0.05535037648074053\n",
            "  (0, 184)\t0.06943043181712222\n",
            "  (0, 274)\t0.12617232275787008\n",
            "  (0, 85)\t0.07694438543986452\n",
            "  (0, 214)\t0.0640676289034298\n",
            "  (0, 815)\t0.15485816105732536\n",
            "  (0, 334)\t0.055029479767559564\n",
            "  (0, 897)\t0.08566213770435405\n",
            "  (0, 922)\t0.03835607153027166\n",
            "  (0, 367)\t0.0755989786543026\n",
            "  (0, 944)\t0.08114269817909812\n",
            "  (0, 253)\t0.07911375659655492\n",
            "  :\t:\n",
            "  (42785, 928)\t0.08250912473524345\n",
            "  (42785, 990)\t0.05947696083105489\n",
            "  (42785, 805)\t0.05575118930682469\n",
            "  (42785, 397)\t0.07420051679691327\n",
            "  (42785, 291)\t0.09624884530974578\n",
            "  (42785, 930)\t0.10906799781421281\n",
            "  (42785, 292)\t0.09210276588643225\n",
            "  (42785, 603)\t0.09708491665758293\n",
            "  (42785, 362)\t0.21801290262393477\n",
            "  (42785, 829)\t0.06517390987545\n",
            "  (42785, 833)\t0.09675899634170804\n",
            "  (42785, 875)\t0.05687609112738417\n",
            "  (42785, 947)\t0.06580114660815319\n",
            "  (42785, 13)\t0.10916059486001337\n",
            "  (42785, 987)\t0.056027342925281276\n",
            "  (42785, 222)\t0.07699655078205106\n",
            "  (42785, 988)\t0.1971635602352659\n",
            "  (42785, 921)\t0.33167543426236706\n",
            "  (42785, 989)\t0.07890998905951863\n",
            "  (42785, 948)\t0.04715039747320947\n",
            "  (42785, 377)\t0.16743037626851776\n",
            "  (42785, 944)\t0.11167621919033698\n",
            "  (42785, 975)\t0.09261733932566014\n",
            "  (42785, 976)\t0.10526593821431954\n",
            "  (42785, 679)\t0.06563294902620241\n"
          ],
          "name": "stdout"
        }
      ]
    },
    {
      "cell_type": "markdown",
      "metadata": {
        "id": "NOeNJNhN_D-F"
      },
      "source": [
        "Este transformador realiza una reducción de dimensionalidad lineal mediante descomposición de valor singular truncado (SVD). A diferencia del PCA, este estimador no centra los datos antes de calcular la descomposición del valor singular. Esto significa que puede trabajar con matrices dispersas de manera eficiente.\n",
        "\n",
        "En particular, SVD truncado funciona en matrices de conteo de términos / tf-idf como lo devuelven los vectorizadores en sklearn.feature_extraction.text. En ese contexto, se lo conoce como análisis semántico latente (LSA).\n",
        "\n",
        "Semántica: estudio de diversos aspectos del significado, sentido o interpretación de signos lingüísticos como símbolos, palabras, expresiones o representaciones formales.\n",
        "\n",
        "n_components: La dimensionalidad deseada de los datos de salida. Debe ser estrictamente menor que el número de funciones. El valor predeterminado es útil para la visualización. Para LSA, se recomienda un valor de 100.\n"
      ]
    },
    {
      "cell_type": "code",
      "metadata": {
        "id": "8eMtzSkEwRAq",
        "colab": {
          "base_uri": "https://localhost:8080/"
        },
        "outputId": "be2e67ef-5649-4377-aec2-292ca9eeb70e"
      },
      "source": [
        "#Calculamos la descomposición de valores singulares de la matriz, usando la función \"TruncatedSVD\"\n",
        "\n",
        "from sklearn.decomposition import TruncatedSVD\n",
        "\n",
        "svd_model = TruncatedSVD(n_components=100, \n",
        "                        algorithm='randomized', \n",
        "                         n_iter=100, \n",
        "                         random_state=122)\n",
        "#modelo que va a contener mis valores singulares\n",
        "\n",
        "\n",
        "svd_model.fit(X)\n",
        "\n",
        "# número de tópicos de este modelo\n",
        "len(svd_model.components_)"
      ],
      "execution_count": null,
      "outputs": [
        {
          "output_type": "execute_result",
          "data": {
            "text/plain": [
              "100"
            ]
          },
          "metadata": {
            "tags": []
          },
          "execution_count": 11
        }
      ]
    },
    {
      "cell_type": "markdown",
      "metadata": {
        "id": "z6CkhERa_waY"
      },
      "source": [
        "Atributos\n",
        "\n",
        "components_ matriz, forma (n_components, n_features)\n",
        "\n",
        "explained_variance_ : matriz, de forma (n_components, ) La varianza de las muestras de entrenamiento transformadas por una proyección a cada componente.\n",
        "\n",
        "explained_variance_ratio_ : matriz, de forma (n_components,) Porcentaje de varianza explicada por cada uno de los componentes seleccionados.\n",
        "\n",
        "singular_values_ :matriz, forma (n_components,)\n",
        "\n",
        "Los valores singulares correspondientes a cada uno de los componentes seleccionados. Los valores singulares son iguales a las 2 normas de las n_components variables en el espacio de menor dimensión.\n",
        "\n"
      ]
    },
    {
      "cell_type": "code",
      "metadata": {
        "id": "duL045ZEAHne",
        "colab": {
          "base_uri": "https://localhost:8080/"
        },
        "outputId": "ec80d2ab-d197-427e-e07f-59e32d5e188f"
      },
      "source": [
        "svd_model.singular_values_"
      ],
      "execution_count": null,
      "outputs": [
        {
          "output_type": "execute_result",
          "data": {
            "text/plain": [
              "array([49.07524902, 32.31128432, 29.73993252, 24.47580897, 23.00026837,\n",
              "       20.04370716, 19.16582495, 18.61232911, 17.73750161, 17.3195915 ,\n",
              "       17.04598652, 16.0732717 , 15.46929256, 15.18447347, 14.56434069,\n",
              "       14.3143898 , 13.88275926, 13.67379564, 13.53257895, 13.31452872,\n",
              "       13.15663804, 13.11559811, 12.92139241, 12.83363255, 12.66527568,\n",
              "       12.64765859, 12.29616248, 12.2331827 , 12.12735474, 11.83334241,\n",
              "       11.73173316, 11.70965812, 11.52490912, 11.45643355, 11.33844473,\n",
              "       11.28817787, 11.13083963, 11.05395585, 10.93164892, 10.79740442,\n",
              "       10.72471498, 10.64258231, 10.56767198, 10.49590858, 10.455643  ,\n",
              "       10.43986879, 10.41826594, 10.31129607, 10.27318216, 10.24453887,\n",
              "       10.23767067, 10.11519738, 10.06378006,  9.94549469,  9.89194312,\n",
              "        9.84067331,  9.82992869,  9.76653593,  9.6775405 ,  9.67043229,\n",
              "        9.5916582 ,  9.54906946,  9.48551877,  9.46802146,  9.42974459,\n",
              "        9.38829962,  9.33775545,  9.28430082,  9.24625241,  9.1979689 ,\n",
              "        9.15321195,  9.09697966,  9.04030567,  9.01037909,  8.99649212,\n",
              "        8.96497465,  8.96115435,  8.88687258,  8.86003237,  8.83020304,\n",
              "        8.80632273,  8.78661654,  8.73110438,  8.72026532,  8.6563873 ,\n",
              "        8.64338293,  8.59068851,  8.56568126,  8.52369272,  8.49590934,\n",
              "        8.47456211,  8.46263684,  8.42576549,  8.39605756,  8.38018538,\n",
              "        8.34841638,  8.32386124,  8.3040207 ,  8.28793678,  8.25947754])"
            ]
          },
          "metadata": {
            "tags": []
          },
          "execution_count": 12
        }
      ]
    },
    {
      "cell_type": "code",
      "metadata": {
        "id": "v5bNMqh64bqF",
        "colab": {
          "base_uri": "https://localhost:8080/"
        },
        "outputId": "731bd710-84b7-4211-a8ba-d7b22bba7d87"
      },
      "source": [
        "svd_model.singular_values_.shape"
      ],
      "execution_count": null,
      "outputs": [
        {
          "output_type": "execute_result",
          "data": {
            "text/plain": [
              "(100,)"
            ]
          },
          "metadata": {
            "tags": []
          },
          "execution_count": 13
        }
      ]
    },
    {
      "cell_type": "markdown",
      "metadata": {
        "id": "EBvgN9R6Cs8n"
      },
      "source": [
        "Buscando en la documentación de TruncatedSVD, este es básicamente una envoltura de sklearn.utils.extmath.randomized_svd; podemos llamarlo manualmente así:\n",
        "\n"
      ]
    },
    {
      "cell_type": "code",
      "metadata": {
        "id": "MPYvywUgC6GD",
        "colab": {
          "base_uri": "https://localhost:8080/"
        },
        "outputId": "6283c9fb-c9e6-47e4-80ee-0138945887e1"
      },
      "source": [
        "from sklearn.utils.extmath import randomized_svd\n",
        "\n",
        "U, Sigma, VT = randomized_svd(X, n_components=100, \n",
        "                              n_iter=100, \n",
        "                              random_state=122)\n",
        "\n",
        "print(\"Matriz U:\\n\",U)\n",
        "print(\"Matriz Sigma: \\n\",Sigma)\n",
        "print(\"Matriz VT:\\n\",VT)\n"
      ],
      "execution_count": null,
      "outputs": [
        {
          "output_type": "stream",
          "text": [
            "Matriz U:\n",
            " [[ 5.19495625e-03  1.46259823e-02 -2.51288257e-03 ... -2.69407591e-03\n",
            "   4.37788642e-04  3.70166543e-03]\n",
            " [ 3.46725547e-03 -2.70975040e-03 -3.03695719e-03 ... -6.95282221e-04\n",
            "   3.87736057e-03  2.83557215e-03]\n",
            " [ 3.77378456e-03  3.98458019e-04  5.35808705e-03 ... -1.48511798e-03\n",
            "   4.90369095e-03 -1.14763491e-03]\n",
            " ...\n",
            " [ 4.57945091e-03  1.01017278e-02 -2.05128313e-03 ... -4.62897853e-03\n",
            "  -7.33097489e-05  7.69986956e-04]\n",
            " [ 4.02938243e-03 -2.60858650e-03 -1.68104542e-03 ... -8.41227538e-03\n",
            "   1.94235981e-02 -5.19694716e-03]\n",
            " [ 4.35013795e-03 -5.02099835e-04 -2.85943233e-03 ... -1.04897970e-03\n",
            "  -6.59885833e-04  4.50964546e-03]]\n",
            "Matriz Sigma: \n",
            " [49.07524902 32.31128432 29.73993252 24.47580897 23.00026837 20.04370716\n",
            " 19.16582495 18.61232911 17.73750161 17.3195915  17.04598652 16.0732717\n",
            " 15.46929256 15.18447347 14.56434069 14.3143898  13.88275926 13.67379564\n",
            " 13.53257895 13.31452872 13.15663804 13.11559811 12.92139241 12.83363255\n",
            " 12.66527568 12.64765859 12.29616248 12.2331827  12.12735474 11.83334241\n",
            " 11.73173316 11.70965812 11.52490912 11.45643355 11.33844473 11.28817787\n",
            " 11.13083963 11.05395585 10.93164892 10.79740442 10.72471498 10.64258231\n",
            " 10.56767198 10.49590858 10.455643   10.43986879 10.41826594 10.31129607\n",
            " 10.27318216 10.24453887 10.23767067 10.11519738 10.06378006  9.94549469\n",
            "  9.89194312  9.84067331  9.82992869  9.76653593  9.6775405   9.67043229\n",
            "  9.5916582   9.54906946  9.48551877  9.46802146  9.42974459  9.38829962\n",
            "  9.33775545  9.28430082  9.24625241  9.1979689   9.15321195  9.09697966\n",
            "  9.04030567  9.01037909  8.99649212  8.96497465  8.96115435  8.88687258\n",
            "  8.86003237  8.83020304  8.80632273  8.78661654  8.73110438  8.72026532\n",
            "  8.6563873   8.64338293  8.59068851  8.56568126  8.52369272  8.49590934\n",
            "  8.47456211  8.46263684  8.42576549  8.39605756  8.38018538  8.34841638\n",
            "  8.32386124  8.3040207   8.28793678  8.25947754]\n",
            "Matriz VT:\n",
            " [[ 0.02015773  0.04107139  0.01366778 ...  0.03621292  0.02474881\n",
            "   0.01948968]\n",
            " [-0.0203593  -0.02656422 -0.00649603 ... -0.00694134  0.01580338\n",
            "   0.0055644 ]\n",
            " [-0.02299201  0.00122983 -0.00263982 ...  0.01429284 -0.00829369\n",
            "   0.00377566]\n",
            " ...\n",
            " [ 0.01113355  0.05668013  0.00246214 ...  0.03209279  0.00624952\n",
            "  -0.08701306]\n",
            " [-0.00781268 -0.01848547  0.0017526  ... -0.0287231   0.00864764\n",
            "   0.24610549]\n",
            " [-0.00807744  0.02745058 -0.00339573 ...  0.04645678  0.02256305\n",
            "   0.06814148]]\n"
          ],
          "name": "stdout"
        }
      ]
    },
    {
      "cell_type": "markdown",
      "metadata": {
        "id": "Ibahv7o1DvIg"
      },
      "source": [
        "Este algoritmo encuentra una descomposición de valor singular truncado aproximado (generalmente muy bueno) utilizando la aleatorización para acelerar los cálculos. Es particularmente rápido en matrices grandes en las que desea extraer solo una pequeña cantidad de componentes. Para obtener una mayor velocidad, n_iter se puede establecer <= 2 (a costa de la pérdida de precisión). "
      ]
    },
    {
      "cell_type": "code",
      "metadata": {
        "id": "LOXtkzh9wfId",
        "colab": {
          "base_uri": "https://localhost:8080/"
        },
        "outputId": "652de52d-a065-4058-8098-58701dbb0b2e"
      },
      "source": [
        "#Los componentes del modelo, serán los tópicos de los documentos \n",
        "\n",
        "# Recupérame las palabras que van a conformar esa matriz, que son 1000\n",
        "terms = vectorizer.get_feature_names()\n",
        "\n",
        "#Visualizamos algunas de las plabras más importantes en cada uno de los 42786 tópicos\n",
        "for i, comp in enumerate(svd_model.components_):\n",
        "  # términos o 1000 palabras que vamos a analizar en cada uno de los tópicos\n",
        "    terms_comp = zip(terms, comp)\n",
        "    # los ordeno porque cada palabra tiene un peso\n",
        "    sorted_terms = sorted(terms_comp, key= lambda x:x[1], reverse=True)[:5]\n",
        "    # Visualizo las 5 palabras más importantes de cada tópico\n",
        "    print(\"Tópico \"+str(i+1)+\":\")\n",
        "    for t in sorted_terms:\n",
        "        print(t[0])\n",
        "\n"
      ],
      "execution_count": null,
      "outputs": [
        {
          "output_type": "stream",
          "text": [
            "Tópico 1:\n",
            "university\n",
            "new\n",
            "film\n",
            "music\n",
            "season\n",
            "Tópico 2:\n",
            "season\n",
            "league\n",
            "game\n",
            "played\n",
            "team\n",
            "Tópico 3:\n",
            "album\n",
            "music\n",
            "film\n",
            "band\n",
            "song\n",
            "Tópico 4:\n",
            "album\n",
            "band\n",
            "party\n",
            "music\n",
            "election\n",
            "Tópico 5:\n",
            "film\n",
            "party\n",
            "election\n",
            "role\n",
            "minister\n",
            "Tópico 6:\n",
            "championship\n",
            "world\n",
            "team\n",
            "race\n",
            "medal\n",
            "Tópico 7:\n",
            "art\n",
            "book\n",
            "museum\n",
            "new\n",
            "work\n",
            "Tópico 8:\n",
            "music\n",
            "art\n",
            "orchestra\n",
            "opera\n",
            "symphony\n",
            "Tópico 9:\n",
            "football\n",
            "club\n",
            "australian\n",
            "goal\n",
            "book\n",
            "Tópico 10:\n",
            "art\n",
            "film\n",
            "album\n",
            "museum\n",
            "band\n",
            "Tópico 11:\n",
            "law\n",
            "football\n",
            "court\n",
            "state\n",
            "united\n",
            "Tópico 12:\n",
            "film\n",
            "coach\n",
            "book\n",
            "university\n",
            "novel\n",
            "Tópico 13:\n",
            "coach\n",
            "basketball\n",
            "band\n",
            "radio\n",
            "head\n",
            "Tópico 14:\n",
            "role\n",
            "tour\n",
            "theatre\n",
            "law\n",
            "band\n",
            "Tópico 15:\n",
            "band\n",
            "tour\n",
            "film\n",
            "jazz\n",
            "new\n",
            "Tópico 16:\n",
            "new\n",
            "york\n",
            "republican\n",
            "football\n",
            "city\n",
            "Tópico 17:\n",
            "law\n",
            "radio\n",
            "australian\n",
            "game\n",
            "court\n",
            "Tópico 18:\n",
            "australian\n",
            "australia\n",
            "award\n",
            "game\n",
            "theatre\n",
            "Tópico 19:\n",
            "new\n",
            "york\n",
            "law\n",
            "minister\n",
            "hockey\n",
            "Tópico 20:\n",
            "canadian\n",
            "hockey\n",
            "canada\n",
            "award\n",
            "season\n",
            "Tópico 21:\n",
            "radio\n",
            "church\n",
            "canadian\n",
            "league\n",
            "canada\n",
            "Tópico 22:\n",
            "tour\n",
            "golf\n",
            "open\n",
            "rugby\n",
            "professional\n",
            "Tópico 23:\n",
            "racing\n",
            "church\n",
            "race\n",
            "season\n",
            "new\n",
            "Tópico 24:\n",
            "rugby\n",
            "coach\n",
            "law\n",
            "london\n",
            "company\n",
            "Tópico 25:\n",
            "state\n",
            "rugby\n",
            "force\n",
            "award\n",
            "air\n",
            "Tópico 26:\n",
            "game\n",
            "hockey\n",
            "church\n",
            "played\n",
            "point\n",
            "Tópico 27:\n",
            "award\n",
            "canadian\n",
            "church\n",
            "canada\n",
            "music\n",
            "Tópico 28:\n",
            "series\n",
            "award\n",
            "rugby\n",
            "racing\n",
            "minister\n",
            "Tópico 29:\n",
            "opera\n",
            "orchestra\n",
            "canadian\n",
            "woman\n",
            "australian\n",
            "Tópico 30:\n",
            "canadian\n",
            "canada\n",
            "university\n",
            "toronto\n",
            "ontario\n",
            "Tópico 31:\n",
            "opera\n",
            "company\n",
            "la\n",
            "award\n",
            "design\n",
            "Tópico 32:\n",
            "orchestra\n",
            "symphony\n",
            "conductor\n",
            "series\n",
            "album\n",
            "Tópico 33:\n",
            "church\n",
            "bishop\n",
            "coach\n",
            "president\n",
            "law\n",
            "Tópico 34:\n",
            "football\n",
            "rugby\n",
            "game\n",
            "party\n",
            "racing\n",
            "Tópico 35:\n",
            "song\n",
            "team\n",
            "football\n",
            "opera\n",
            "radio\n",
            "Tópico 36:\n",
            "song\n",
            "party\n",
            "force\n",
            "air\n",
            "poetry\n",
            "Tópico 37:\n",
            "team\n",
            "australian\n",
            "book\n",
            "hockey\n",
            "album\n",
            "Tópico 38:\n",
            "rugby\n",
            "california\n",
            "san\n",
            "novel\n",
            "health\n",
            "Tópico 39:\n",
            "jazz\n",
            "poetry\n",
            "album\n",
            "team\n",
            "novel\n",
            "Tópico 40:\n",
            "poetry\n",
            "opera\n",
            "poet\n",
            "music\n",
            "woman\n",
            "Tópico 41:\n",
            "jazz\n",
            "record\n",
            "la\n",
            "book\n",
            "radio\n",
            "Tópico 42:\n",
            "opera\n",
            "law\n",
            "design\n",
            "la\n",
            "air\n",
            "Tópico 43:\n",
            "poetry\n",
            "poet\n",
            "hockey\n",
            "orchestra\n",
            "poem\n",
            "Tópico 44:\n",
            "hockey\n",
            "novel\n",
            "football\n",
            "record\n",
            "world\n",
            "Tópico 45:\n",
            "woman\n",
            "game\n",
            "jazz\n",
            "hockey\n",
            "goal\n",
            "Tópico 46:\n",
            "world\n",
            "title\n",
            "record\n",
            "poetry\n",
            "law\n",
            "Tópico 47:\n",
            "book\n",
            "radio\n",
            "club\n",
            "indian\n",
            "role\n",
            "Tópico 48:\n",
            "jazz\n",
            "woman\n",
            "album\n",
            "news\n",
            "opera\n",
            "Tópico 49:\n",
            "opera\n",
            "woman\n",
            "record\n",
            "radio\n",
            "party\n",
            "Tópico 50:\n",
            "game\n",
            "united\n",
            "party\n",
            "medical\n",
            "health\n",
            "Tópico 51:\n",
            "miss\n",
            "season\n",
            "book\n",
            "california\n",
            "los\n",
            "Tópico 52:\n",
            "miss\n",
            "record\n",
            "design\n",
            "magazine\n",
            "poetry\n",
            "Tópico 53:\n",
            "la\n",
            "french\n",
            "team\n",
            "design\n",
            "los\n",
            "Tópico 54:\n",
            "india\n",
            "indian\n",
            "law\n",
            "miss\n",
            "research\n",
            "Tópico 55:\n",
            "president\n",
            "design\n",
            "mayor\n",
            "city\n",
            "radio\n",
            "Tópico 56:\n",
            "design\n",
            "designer\n",
            "championship\n",
            "chinese\n",
            "radio\n",
            "Tópico 57:\n",
            "record\n",
            "india\n",
            "south\n",
            "indian\n",
            "city\n",
            "Tópico 58:\n",
            "miss\n",
            "chinese\n",
            "hong\n",
            "team\n",
            "university\n",
            "Tópico 59:\n",
            "ireland\n",
            "irish\n",
            "record\n",
            "chinese\n",
            "hong\n",
            "Tópico 60:\n",
            "miss\n",
            "work\n",
            "game\n",
            "championship\n",
            "title\n",
            "Tópico 61:\n",
            "work\n",
            "sport\n",
            "basketball\n",
            "chinese\n",
            "hong\n",
            "Tópico 62:\n",
            "chinese\n",
            "hong\n",
            "team\n",
            "kong\n",
            "china\n",
            "Tópico 63:\n",
            "soccer\n",
            "south\n",
            "world\n",
            "member\n",
            "africa\n",
            "Tópico 64:\n",
            "russian\n",
            "miss\n",
            "team\n",
            "soviet\n",
            "moscow\n",
            "Tópico 65:\n",
            "south\n",
            "ireland\n",
            "irish\n",
            "chinese\n",
            "law\n",
            "Tópico 66:\n",
            "soccer\n",
            "goal\n",
            "work\n",
            "cup\n",
            "science\n",
            "Tópico 67:\n",
            "ireland\n",
            "irish\n",
            "india\n",
            "indian\n",
            "president\n",
            "Tópico 68:\n",
            "russian\n",
            "president\n",
            "club\n",
            "soccer\n",
            "south\n",
            "Tópico 69:\n",
            "russian\n",
            "right\n",
            "human\n",
            "bishop\n",
            "philosophy\n",
            "Tópico 70:\n",
            "san\n",
            "marathon\n",
            "book\n",
            "work\n",
            "south\n",
            "Tópico 71:\n",
            "soccer\n",
            "research\n",
            "director\n",
            "sport\n",
            "bishop\n",
            "Tópico 72:\n",
            "human\n",
            "right\n",
            "sport\n",
            "international\n",
            "zealand\n",
            "Tópico 73:\n",
            "single\n",
            "hit\n",
            "dance\n",
            "cup\n",
            "right\n",
            "Tópico 74:\n",
            "research\n",
            "ireland\n",
            "law\n",
            "party\n",
            "governor\n",
            "Tópico 75:\n",
            "south\n",
            "los\n",
            "team\n",
            "angeles\n",
            "africa\n",
            "Tópico 76:\n",
            "san\n",
            "history\n",
            "science\n",
            "francisco\n",
            "american\n",
            "Tópico 77:\n",
            "science\n",
            "world\n",
            "health\n",
            "cup\n",
            "bishop\n",
            "Tópico 78:\n",
            "marathon\n",
            "team\n",
            "history\n",
            "time\n",
            "country\n",
            "Tópico 79:\n",
            "theory\n",
            "physic\n",
            "design\n",
            "news\n",
            "television\n",
            "Tópico 80:\n",
            "san\n",
            "bishop\n",
            "st\n",
            "francisco\n",
            "research\n",
            "Tópico 81:\n",
            "la\n",
            "soccer\n",
            "el\n",
            "sport\n",
            "science\n",
            "Tópico 82:\n",
            "dance\n",
            "ballet\n",
            "news\n",
            "police\n",
            "novel\n",
            "Tópico 83:\n",
            "comic\n",
            "goal\n",
            "zealand\n",
            "police\n",
            "magazine\n",
            "Tópico 84:\n",
            "san\n",
            "francisco\n",
            "house\n",
            "goal\n",
            "texas\n",
            "Tópico 85:\n",
            "french\n",
            "sport\n",
            "party\n",
            "france\n",
            "russian\n",
            "Tópico 86:\n",
            "zealand\n",
            "comic\n",
            "european\n",
            "bishop\n",
            "air\n",
            "Tópico 87:\n",
            "world\n",
            "sport\n",
            "war\n",
            "club\n",
            "bishop\n",
            "Tópico 88:\n",
            "french\n",
            "france\n",
            "city\n",
            "party\n",
            "political\n",
            "Tópico 89:\n",
            "zealand\n",
            "texas\n",
            "video\n",
            "norwegian\n",
            "magazine\n",
            "Tópico 90:\n",
            "air\n",
            "european\n",
            "health\n",
            "texas\n",
            "computer\n",
            "Tópico 91:\n",
            "governor\n",
            "general\n",
            "norwegian\n",
            "comedy\n",
            "festival\n",
            "Tópico 92:\n",
            "norwegian\n",
            "th\n",
            "ballet\n",
            "dance\n",
            "national\n",
            "Tópico 93:\n",
            "dance\n",
            "ballet\n",
            "comic\n",
            "marathon\n",
            "cup\n",
            "Tópico 94:\n",
            "national\n",
            "physic\n",
            "health\n",
            "th\n",
            "comic\n",
            "Tópico 95:\n",
            "played\n",
            "champion\n",
            "title\n",
            "dance\n",
            "round\n",
            "Tópico 96:\n",
            "history\n",
            "norwegian\n",
            "video\n",
            "police\n",
            "work\n",
            "Tópico 97:\n",
            "norwegian\n",
            "german\n",
            "college\n",
            "war\n",
            "board\n",
            "Tópico 98:\n",
            "played\n",
            "general\n",
            "guitar\n",
            "production\n",
            "artist\n",
            "Tópico 99:\n",
            "house\n",
            "zealand\n",
            "president\n",
            "dance\n",
            "ballet\n",
            "Tópico 100:\n",
            "texas\n",
            "guitar\n",
            "national\n",
            "german\n",
            "group\n"
          ],
          "name": "stdout"
        }
      ]
    }
  ]
}