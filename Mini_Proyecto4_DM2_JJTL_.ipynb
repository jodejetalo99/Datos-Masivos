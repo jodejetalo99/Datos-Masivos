{
  "nbformat": 4,
  "nbformat_minor": 0,
  "metadata": {
    "colab": {
      "name": "Mini-Proyecto4-DM2-JJTL .ipynb",
      "provenance": [],
      "collapsed_sections": [],
      "toc_visible": true,
      "authorship_tag": "ABX9TyPQB1e7cQkiDgGUVc5BnHWr",
      "include_colab_link": true
    },
    "kernelspec": {
      "name": "python3",
      "display_name": "Python 3"
    }
  },
  "cells": [
    {
      "cell_type": "markdown",
      "metadata": {
        "id": "view-in-github",
        "colab_type": "text"
      },
      "source": [
        "<a href=\"https://colab.research.google.com/github/jodejetalo99/Datos-Masivos/blob/master/Mini_Proyecto4_DM2_JJTL_.ipynb\" target=\"_parent\"><img src=\"https://colab.research.google.com/assets/colab-badge.svg\" alt=\"Open In Colab\"/></a>"
      ]
    },
    {
      "cell_type": "markdown",
      "metadata": {
        "id": "FSQTPiRvne0p"
      },
      "source": [
        "# Universidad Nacional Autónoma de México\n",
        "# Instituto de Investigaciones en Matemáticas Aplicadas y en Sistemas\n",
        "# Datos Masivos II\n",
        "# José de Jesús Tapia López\n",
        "# Mini-proyecto4: Desarrollo de un sistema de recomendación.\n",
        "# 20 de Enero del 2021\n"
      ]
    },
    {
      "cell_type": "markdown",
      "metadata": {
        "id": "D5c8mGNuoIpy"
      },
      "source": [
        "## Objetivo del mini-proyecto: \n",
        "Dado el conjunto de datos que te fue asignado, desarrolla y evalúa un sistema de recomendación. De los métodos que se analizaron dentro de la unidad 4, selecciona el método que tu prefieras (basado en contenido, filtrado colaborativo o learning-to rank) es importante que justifiques el método de tu selección, por ejemplo en algunas base de datos es más apropiado usar filtrado colaborativo , sin embargo en algunas bases de datos este método no es el ideal.\n",
        "\n",
        "## Base de datos asignada: [Netflix_combined_data_3](https://www.kaggle.com/laowingkin/netflix-movie-recommendation/data)"
      ]
    },
    {
      "cell_type": "markdown",
      "metadata": {
        "id": "JIix1MkyS0we"
      },
      "source": [
        "### Entendimiento de los datos\n",
        "\n",
        "Este conjunto de datos se construyó para apoyar a los participantes del Premio Netflix.\n",
        "* Los archivos de clasificación de películas contienen más de 100 millones de clasificaciones de 480 mil clientes de Netflix anónimos y elegidos al azar en más de 17 mil títulos de películas. \n",
        "\n",
        "* Los datos fueron recolectados entre octubre de 1998 y diciembre de 2005 y reflejan la distribución de todas las calificaciones recibidas durante este período. Las calificaciones están en una escala de 1 a 5 estrellas (enteros). \n",
        "* Para proteger la privacidad del cliente, cada uno ha sido reemplazado por un id asignado al azar. La fecha de cada calificación y\n",
        "*  También se proporcionan el título y el año de lanzamiento de cada id de película.\n",
        "\n",
        "Cada línea subsiguiente del archivo corresponde a una calificación de un cliente y su fecha en el siguiente formato: **CustomerID, calificación, fecha**\n",
        "\n",
        "- MovieIDs varían de 1 a 17770 secuencialmente.\n",
        "\n",
        "- Los ID de cliente van de 1 a 2649429, con espacios. Hay 480189 usuarios.\n",
        "\n",
        "- Las calificaciones están en una escala de cinco estrellas (integral) de 1 a 5.\n",
        "\n",
        "- Las fechas tienen el formato AAAA-MM-DD.\n",
        "\n",
        "La información de la película en \"movie_titles.txt\" tiene el siguiente formato: **MovieID, YearOfRelease, Título**\n",
        "\n",
        "- MovieID corresponde con los ID de películas de Netflix o los ID de películas IMDB reales.\n",
        "\n",
        "- YearOfRelease puede oscilar entre 1890 y 2005 y puede corresponder al lanzamiento de DVD correspondiente, no necesariamente su lanzamiento teatral.\n",
        "\n",
        "- Title es el título de la película de Netflix y puede no corresponder a títulos utilizados en otros sitios. Los títulos están en inglés.\n"
      ]
    },
    {
      "cell_type": "code",
      "metadata": {
        "colab": {
          "base_uri": "https://localhost:8080/"
        },
        "id": "VDjYrT_FscKf",
        "outputId": "57dad216-be60-4ea2-bb8c-c5cbd7c7deb5"
      },
      "source": [
        "!pip install surprise"
      ],
      "execution_count": null,
      "outputs": [
        {
          "output_type": "stream",
          "text": [
            "Requirement already satisfied: surprise in /usr/local/lib/python3.6/dist-packages (0.1)\n",
            "Requirement already satisfied: scikit-surprise in /usr/local/lib/python3.6/dist-packages (from surprise) (1.1.1)\n",
            "Requirement already satisfied: six>=1.10.0 in /usr/local/lib/python3.6/dist-packages (from scikit-surprise->surprise) (1.15.0)\n",
            "Requirement already satisfied: scipy>=1.0.0 in /usr/local/lib/python3.6/dist-packages (from scikit-surprise->surprise) (1.4.1)\n",
            "Requirement already satisfied: joblib>=0.11 in /usr/local/lib/python3.6/dist-packages (from scikit-surprise->surprise) (1.0.0)\n",
            "Requirement already satisfied: numpy>=1.11.2 in /usr/local/lib/python3.6/dist-packages (from scikit-surprise->surprise) (1.19.5)\n"
          ],
          "name": "stdout"
        }
      ]
    },
    {
      "cell_type": "code",
      "metadata": {
        "id": "oK5xYS5XoVcy",
        "colab": {
          "base_uri": "https://localhost:8080/"
        },
        "outputId": "88607eef-977d-48c3-9428-cdb7d70d68aa"
      },
      "source": [
        "import numpy as np\n",
        "import pandas as pd\n",
        "from google.colab import drive\n",
        "from matplotlib import pyplot as plt\n",
        "import math\n",
        "import re\n",
        "from scipy.sparse import csr_matrix\n",
        "import seaborn as sns\n",
        "from surprise import Reader, Dataset, SVD\n",
        "import time\n",
        "from surprise.model_selection import cross_validate\n",
        "from scipy.sparse import coo_matrix\n",
        "from numpy.linalg import norm\n",
        "\n",
        "\n",
        "drive.mount('/content/drive')"
      ],
      "execution_count": null,
      "outputs": [
        {
          "output_type": "stream",
          "text": [
            "Drive already mounted at /content/drive; to attempt to forcibly remount, call drive.mount(\"/content/drive\", force_remount=True).\n"
          ],
          "name": "stdout"
        }
      ]
    },
    {
      "cell_type": "code",
      "metadata": {
        "id": "LXDR0oLPobaQ",
        "colab": {
          "base_uri": "https://localhost:8080/",
          "height": 191
        },
        "outputId": "f468950b-5f90-45e5-8895-9545029dddaf"
      },
      "source": [
        "# leemos el txt, de tal forma que el delimitador sea el que está por defecto, no ponemos\n",
        "# encabezado, nombramos las columnas e indicamos que solo usemos las primeras dos, ya que\n",
        "# la tercera contiene información de la fecha y esta no es útil para los fines del mini-proyecto\n",
        "df = pd.read_csv('drive/My Drive/combined_data_3.txt', header = None, names = ['Cust_Id', 'Rating'], usecols = [0,1])\n",
        "df.head()"
      ],
      "execution_count": null,
      "outputs": [
        {
          "output_type": "execute_result",
          "data": {
            "text/html": [
              "<div>\n",
              "<style scoped>\n",
              "    .dataframe tbody tr th:only-of-type {\n",
              "        vertical-align: middle;\n",
              "    }\n",
              "\n",
              "    .dataframe tbody tr th {\n",
              "        vertical-align: top;\n",
              "    }\n",
              "\n",
              "    .dataframe thead th {\n",
              "        text-align: right;\n",
              "    }\n",
              "</style>\n",
              "<table border=\"1\" class=\"dataframe\">\n",
              "  <thead>\n",
              "    <tr style=\"text-align: right;\">\n",
              "      <th></th>\n",
              "      <th>Cust_Id</th>\n",
              "      <th>Rating</th>\n",
              "    </tr>\n",
              "  </thead>\n",
              "  <tbody>\n",
              "    <tr>\n",
              "      <th>0</th>\n",
              "      <td>9211:</td>\n",
              "      <td>NaN</td>\n",
              "    </tr>\n",
              "    <tr>\n",
              "      <th>1</th>\n",
              "      <td>1277134</td>\n",
              "      <td>1.0</td>\n",
              "    </tr>\n",
              "    <tr>\n",
              "      <th>2</th>\n",
              "      <td>2435457</td>\n",
              "      <td>2.0</td>\n",
              "    </tr>\n",
              "    <tr>\n",
              "      <th>3</th>\n",
              "      <td>2338545</td>\n",
              "      <td>3.0</td>\n",
              "    </tr>\n",
              "    <tr>\n",
              "      <th>4</th>\n",
              "      <td>2218269</td>\n",
              "      <td>1.0</td>\n",
              "    </tr>\n",
              "  </tbody>\n",
              "</table>\n",
              "</div>"
            ],
            "text/plain": [
              "   Cust_Id  Rating\n",
              "0    9211:     NaN\n",
              "1  1277134     1.0\n",
              "2  2435457     2.0\n",
              "3  2338545     3.0\n",
              "4  2218269     1.0"
            ]
          },
          "metadata": {
            "tags": []
          },
          "execution_count": 3
        }
      ]
    },
    {
      "cell_type": "markdown",
      "metadata": {
        "id": "DgUK3LygXL3H"
      },
      "source": [
        "### Análisis exploratorio"
      ]
    },
    {
      "cell_type": "code",
      "metadata": {
        "colab": {
          "base_uri": "https://localhost:8080/"
        },
        "id": "xszOWmn_VRHe",
        "outputId": "2ad24d1b-7530-42b7-879b-5ddcc9313f35"
      },
      "source": [
        "# Ahora mostramos la dimensión de esta base de datos\n",
        "df.shape"
      ],
      "execution_count": null,
      "outputs": [
        {
          "output_type": "execute_result",
          "data": {
            "text/plain": [
              "(22605786, 2)"
            ]
          },
          "metadata": {
            "tags": []
          },
          "execution_count": 4
        }
      ]
    },
    {
      "cell_type": "markdown",
      "metadata": {
        "id": "5iA_7elZVkwG"
      },
      "source": [
        "Podemos observar que tenemos un total de 22,605,786 renglones con 2 columnas.\n",
        "\n",
        "Ahora vamos a mostrar cuántas calificaciones hay en la base de datos, así como los usuarios y películas distintos: "
      ]
    },
    {
      "cell_type": "code",
      "metadata": {
        "colab": {
          "base_uri": "https://localhost:8080/"
        },
        "id": "_vjH26qfXIp1",
        "outputId": "0e3a253c-f7db-49f3-a895-afbcd8e17039"
      },
      "source": [
        "# contamos los nulos que tiene la columna de Rating, ya que en la forma\n",
        "# en que leímos la base de datos, esos corresponden a las películas y no realmente\n",
        "# al ID del cliente\n",
        "cant_pelis = df.isnull().sum()[1] \n",
        "print(\"El número de películas distintas es: \", cant_pelis)\n",
        "\n",
        "# Obtenemos la cantidad de clientes distintos. Contamos los registros únicos\n",
        "# de la columna de \"Cust_ID\" pero le restamos la cantidad de películas, ya que\n",
        "#  dijimos anteriormente que hay renglones en esa columna que corresponden a películas\n",
        "cant_clientes = df['Cust_Id'].nunique() - cant_pelis\n",
        "print(\"El número de clientes distintos es: \", cant_clientes)\n",
        "\n",
        "\n",
        "# Obtenemos la cantidad de calificaciones. Contamos los registros\n",
        "# de la columna de \"Cust_ID\" pero le restamos la cantidad de pelíículas, ya que\n",
        "# dijimos anteriormente que hay renglones en esa columna que corresponden a películas\n",
        "cant_calif = df['Cust_Id'].count() - cant_pelis\n",
        "print(\"La cantidad total de calificaciones es: \", cant_calif)\n"
      ],
      "execution_count": null,
      "outputs": [
        {
          "output_type": "stream",
          "text": [
            "El número de películas distintas es:  4157\n",
            "El número de clientes distintos es:  474662\n",
            "La cantidad total de calificaciones es:  22601629\n"
          ],
          "name": "stdout"
        }
      ]
    },
    {
      "cell_type": "markdown",
      "metadata": {
        "id": "AojSe33fYs-L"
      },
      "source": [
        "A continuación mostramos la frecuencia relativa de cada calificación, es decir, el porcentaje de estas:"
      ]
    },
    {
      "cell_type": "code",
      "metadata": {
        "colab": {
          "base_uri": "https://localhost:8080/",
          "height": 678
        },
        "id": "UdfdtlYGXWyu",
        "outputId": "816c0e30-43f0-429b-a2a7-2179979b685b"
      },
      "source": [
        "df.groupby('Rating')['Rating'].agg(['count']).plot.pie(autopct=\"%.2f%%\", subplots=True, figsize=(12,10), title='Gráfica de pastel de las calificaciones')"
      ],
      "execution_count": null,
      "outputs": [
        {
          "output_type": "execute_result",
          "data": {
            "text/plain": [
              "array([<matplotlib.axes._subplots.AxesSubplot object at 0x7f0894ddf588>],\n",
              "      dtype=object)"
            ]
          },
          "metadata": {
            "tags": []
          },
          "execution_count": 6
        },
        {
          "output_type": "display_data",
          "data": {
            "image/png": "[encoded data removed]",
            "text/plain": [
              "<Figure size 864x720 with 1 Axes>"
            ]
          },
          "metadata": {
            "tags": []
          }
        }
      ]
    },
    {
      "cell_type": "markdown",
      "metadata": {
        "id": "qql7LTA_YqrY"
      },
      "source": [
        "De la gráfica anterior podemos observar que poco más de la mitad de las calificaciones son positivas, pues el $(33.39\\% +23.32\\%)= 56.71\\%$ corresponde a calificaciones mayores 3."
      ]
    },
    {
      "cell_type": "markdown",
      "metadata": {
        "id": "2o-ucA5qD_4i"
      },
      "source": [
        "### Pre-procesamiento de los datos"
      ]
    },
    {
      "cell_type": "markdown",
      "metadata": {
        "id": "hr89sY4TZjbd"
      },
      "source": [
        "Lo que sigue es crear una matriz de numpy con la longitud correcta y luego agregar toda la matriz como columna en el dataframe"
      ]
    },
    {
      "cell_type": "code",
      "metadata": {
        "colab": {
          "base_uri": "https://localhost:8080/"
        },
        "id": "nQEQRTP62zoi",
        "outputId": "b6fd4257-756d-4dbc-a7f0-c375b87b19a6"
      },
      "source": [
        "\"\"\"Crear una matriz de numpy para el ID de la película (procesamiento más eficiente)\"\"\"\n",
        "# Convertimos a dataframe la serie que indica (con True o False) si cada renglon de la \n",
        "# base de datos tiene un nulo en la columna de Rating, esto para saber cuáles son películas\n",
        "df_nan = pd.DataFrame(pd.isnull(df.Rating))\n",
        "# Ahora nos quedamos con los registros (del dataframe que acabamos de crear) que tengan un\n",
        "# nulo en la columna de rating\n",
        "df_nan = df_nan[df_nan['Rating'] == True]\n",
        "# reseteamos el indice del dataframe para que tengamos la columna de index que indica el ID\n",
        "# de la película\n",
        "df_nan = df_nan.reset_index()\n",
        "\n",
        "# creamos una lista vacía para irle agregandole las peliculas\n",
        "movie_np = []\n",
        "# empezamos con el indice 1 de las películas\n",
        "movie_id = 1\n",
        "\n",
        "# mapeamos los valores del indice de la pelicula para ir llenando la matriz de numpy\n",
        "for i,j in zip(df_nan['index'][1:],df_nan['index'][:-1]):\n",
        "    # matriz de numpy\n",
        "    temp = np.full((1,i-j-1), movie_id)\n",
        "    movie_np = np.append(movie_np, temp)\n",
        "    movie_id += 1\n",
        "\n",
        "# Se toma en cuenta el último registro y la longitud correspondiente\n",
        "last_record = np.full((1,len(df) - df_nan.iloc[-1, 0] - 1),movie_id)\n",
        "movie_np = np.append(movie_np, last_record)\n",
        "\n",
        "print('Películas (numpy): {}'.format(movie_np))\n",
        "print('Tamaño: {}'.format(len(movie_np)))"
      ],
      "execution_count": null,
      "outputs": [
        {
          "output_type": "stream",
          "text": [
            "Películas (numpy): [1.000e+00 1.000e+00 1.000e+00 ... 4.157e+03 4.157e+03 4.157e+03]\n",
            "Tamaño: 22601629\n"
          ],
          "name": "stdout"
        }
      ]
    },
    {
      "cell_type": "code",
      "metadata": {
        "colab": {
          "base_uri": "https://localhost:8080/"
        },
        "id": "VbXCW0546Vx1",
        "outputId": "6c7d7a5a-3b31-4fe3-fe8a-9c5d9e0d5a87"
      },
      "source": [
        "\"\"\"Visualizamos nuevamente\"\"\"\n",
        "\n",
        "# obtenemos una serie que contiene a los renglones sin valores nulos en Rating\n",
        "# y le agregamos a dicho renglon el id de la película (esto lo hacemos para\n",
        "# eliminar los renglones que son de ID de películas)\n",
        "df = df[pd.notnull(df['Rating'])]\n",
        "# creamos la columna que contiene el id de la película de la repectva calificación\n",
        "# del usuario\n",
        "df['Movie_Id'] = movie_np.astype(int)\n",
        "df['Cust_Id'] = df['Cust_Id'] .astype(int)\n",
        "\n",
        "print('-Dataset examples-')\n",
        "print(df.iloc[::5000000, :])\n",
        "\n"
      ],
      "execution_count": null,
      "outputs": [
        {
          "output_type": "stream",
          "text": [
            "-Dataset examples-\n",
            "          Cust_Id  Rating  Movie_Id\n",
            "1         1277134     1.0         1\n",
            "5001019    361439     4.0      1019\n",
            "10001942   488142     5.0      1942\n",
            "15002874  1572917     4.0      2874\n",
            "20003671   550725     3.0      3671\n"
          ],
          "name": "stdout"
        }
      ]
    },
    {
      "cell_type": "markdown",
      "metadata": {
        "id": "3xBlahtjJW2z"
      },
      "source": [
        "Ahora podemos aprovechar esto para ver cuáles son los primeros 10 usuarios que más calificaciones dan a las películas y las 10 películas que más calificaciones tienen en esta base de datos:"
      ]
    },
    {
      "cell_type": "code",
      "metadata": {
        "colab": {
          "base_uri": "https://localhost:8080/",
          "height": 630
        },
        "id": "xrfmL09oKFGp",
        "outputId": "c26f6169-d168-472f-dc41-f206464b230b"
      },
      "source": [
        "# contamos el número de usuarios que más calificaciones han dado\n",
        "# y los ordenamos descendentemente\n",
        "frecuencia_usuarios = df.groupby(\"Cust_Id\")['Movie_Id'].count().sort_values(ascending=False)\n",
        "# obtenemos los primeros 10 que más calificaciones han hecho\n",
        "frecuencia_usuarios_10 = frecuencia_usuarios[0:10]\n",
        "plt.figure(figsize=(12,10))\n",
        "ax = frecuencia_usuarios_10.plot(kind = 'barh')\n",
        "ax.set_title(\"Los 10 usuarios que más calificaciones dan a las películas\",fontsize=15)\n",
        "ax.set_ylabel(\"ID del usuario\",fontsize=12)\n",
        "ax.set_xlabel(\"Cantidad de calificaciones que colocaron\", fontsize=12)\n",
        "ax.tick_params(axis='both', which='major', labelsize=12)\n",
        "for i in ax.patches:\n",
        "    ax.text(i.get_width()+.09, i.get_y()+.3, str(round((i.get_width()), 1)), fontsize=12)"
      ],
      "execution_count": null,
      "outputs": [
        {
          "output_type": "display_data",
          "data": {
            "image/png": "[encoded data removed]",
            "text/plain": [
              "<Figure size 864x720 with 1 Axes>"
            ]
          },
          "metadata": {
            "tags": [],
            "needs_background": "light"
          }
        }
      ]
    },
    {
      "cell_type": "markdown",
      "metadata": {
        "id": "7mqpf7RtK2bH"
      },
      "source": [
        "Vemos que el usuario de ID 305344 es el que más calificaciones ha hecho con 4126. En segunda lugar fue el usuario de 387418 con 4068 y en tercer lugar es el usuario de ID 2439493 con 3884. Al parecer han visto muchas películas."
      ]
    },
    {
      "cell_type": "markdown",
      "metadata": {
        "id": "KEbN7Sr67v56"
      },
      "source": [
        "Ahora vamos a cargar la base de datos que contiene el nombre de las películas, para mostrar la gráfica que contiene a aquellas que más calificaciones reciben en la base de datos de *ratings* de las películas:"
      ]
    },
    {
      "cell_type": "code",
      "metadata": {
        "colab": {
          "base_uri": "https://localhost:8080/",
          "height": 363
        },
        "id": "xCjXzWHV72by",
        "outputId": "3601e341-beaf-4db1-db05-790dd5af2fb0"
      },
      "source": [
        "\"\"\"Carga de la base de datos de películas, sin encabezado pero con nombre de las columnas: Movie_Id, Year, Name, \"\"\"\r\n",
        "df_title = pd.read_csv('drive/My Drive/movie_titles.csv', encoding = \"ISO-8859-1\", header = None, \r\n",
        "                       names = ['Movie_Id', 'Year', 'Name'])\r\n",
        "# indicamos que el indice de este dataframe sea el id de las peliculas\r\n",
        "df_title.set_index('Movie_Id', inplace = True)\r\n",
        "# mostramos los primeros 10 registros del dataframe que contiene información de las películas\r\n",
        "df_title.head(10)"
      ],
      "execution_count": null,
      "outputs": [
        {
          "output_type": "execute_result",
          "data": {
            "text/html": [
              "<div>\n",
              "<style scoped>\n",
              "    .dataframe tbody tr th:only-of-type {\n",
              "        vertical-align: middle;\n",
              "    }\n",
              "\n",
              "    .dataframe tbody tr th {\n",
              "        vertical-align: top;\n",
              "    }\n",
              "\n",
              "    .dataframe thead th {\n",
              "        text-align: right;\n",
              "    }\n",
              "</style>\n",
              "<table border=\"1\" class=\"dataframe\">\n",
              "  <thead>\n",
              "    <tr style=\"text-align: right;\">\n",
              "      <th></th>\n",
              "      <th>Year</th>\n",
              "      <th>Name</th>\n",
              "    </tr>\n",
              "    <tr>\n",
              "      <th>Movie_Id</th>\n",
              "      <th></th>\n",
              "      <th></th>\n",
              "    </tr>\n",
              "  </thead>\n",
              "  <tbody>\n",
              "    <tr>\n",
              "      <th>1</th>\n",
              "      <td>2003.0</td>\n",
              "      <td>Dinosaur Planet</td>\n",
              "    </tr>\n",
              "    <tr>\n",
              "      <th>2</th>\n",
              "      <td>2004.0</td>\n",
              "      <td>Isle of Man TT 2004 Review</td>\n",
              "    </tr>\n",
              "    <tr>\n",
              "      <th>3</th>\n",
              "      <td>1997.0</td>\n",
              "      <td>Character</td>\n",
              "    </tr>\n",
              "    <tr>\n",
              "      <th>4</th>\n",
              "      <td>1994.0</td>\n",
              "      <td>Paula Abdul's Get Up &amp; Dance</td>\n",
              "    </tr>\n",
              "    <tr>\n",
              "      <th>5</th>\n",
              "      <td>2004.0</td>\n",
              "      <td>The Rise and Fall of ECW</td>\n",
              "    </tr>\n",
              "    <tr>\n",
              "      <th>6</th>\n",
              "      <td>1997.0</td>\n",
              "      <td>Sick</td>\n",
              "    </tr>\n",
              "    <tr>\n",
              "      <th>7</th>\n",
              "      <td>1992.0</td>\n",
              "      <td>8 Man</td>\n",
              "    </tr>\n",
              "    <tr>\n",
              "      <th>8</th>\n",
              "      <td>2004.0</td>\n",
              "      <td>What the #$*! Do We Know!?</td>\n",
              "    </tr>\n",
              "    <tr>\n",
              "      <th>9</th>\n",
              "      <td>1991.0</td>\n",
              "      <td>Class of Nuke 'Em High 2</td>\n",
              "    </tr>\n",
              "    <tr>\n",
              "      <th>10</th>\n",
              "      <td>2001.0</td>\n",
              "      <td>Fighter</td>\n",
              "    </tr>\n",
              "  </tbody>\n",
              "</table>\n",
              "</div>"
            ],
            "text/plain": [
              "            Year                          Name\n",
              "Movie_Id                                      \n",
              "1         2003.0               Dinosaur Planet\n",
              "2         2004.0    Isle of Man TT 2004 Review\n",
              "3         1997.0                     Character\n",
              "4         1994.0  Paula Abdul's Get Up & Dance\n",
              "5         2004.0      The Rise and Fall of ECW\n",
              "6         1997.0                          Sick\n",
              "7         1992.0                         8 Man\n",
              "8         2004.0    What the #$*! Do We Know!?\n",
              "9         1991.0      Class of Nuke 'Em High 2\n",
              "10        2001.0                       Fighter"
            ]
          },
          "metadata": {
            "tags": []
          },
          "execution_count": 10
        }
      ]
    },
    {
      "cell_type": "code",
      "metadata": {
        "colab": {
          "base_uri": "https://localhost:8080/",
          "height": 630
        },
        "id": "UNvxpDm8Nyap",
        "outputId": "6bad6877-eeb8-4cff-890c-872031b0f828"
      },
      "source": [
        "# contamos el número de películas que más calificaciones reciben\n",
        "# y los ordenamos descendentemente\n",
        "frecuencia_pelis = df.groupby(\"Movie_Id\")['Cust_Id'].count().sort_values(ascending=False)\n",
        "# obtenemos los ID's de las primeras 10 que más calificaciones han hecho\n",
        "frecuencia_pelis_10 = list(frecuencia_pelis[0:10].keys())\n",
        "# obtenemos la frecuencia de cada uno\n",
        "frec_val_pelis_10 = frecuencia_pelis[0:10].values\n",
        "# ahora usamos estos ID's para obtener el nombre de la película con cada uno\n",
        "frecuencia_pelis_10 = [df_title.loc[x]['Name'] for x in frecuencia_pelis_10]\n",
        "plt.figure(figsize=(12,10))\n",
        "bar = plt.barh(frecuencia_pelis_10, frec_val_pelis_10)\n",
        "plt.title(\"Las 10 películas que más calificaciones reciben\",fontsize=15)\n",
        "plt.ylabel(\"ID de la película\", fontsize=12)\n",
        "plt.xlim(0,200000)\n",
        "plt.xlabel(\"Cantidad de calificaciones que recibieron\",fontsize=12)\n",
        "plt.tick_params(axis='both', which='major', labelsize=12)\n",
        "for rect in bar:\n",
        "    width = rect.get_width()\n",
        "    plt.text(width+7000, rect.get_y() + rect.get_height()/2.0, '%d' % int(width), ha='center', va='bottom', fontsize=12)"
      ],
      "execution_count": null,
      "outputs": [
        {
          "output_type": "display_data",
          "data": {
            "image/png": "[encoded data removed]",
            "text/plain": [
              "<Figure size 864x720 with 1 Axes>"
            ]
          },
          "metadata": {
            "tags": [],
            "needs_background": "light"
          }
        }
      ]
    },
    {
      "cell_type": "markdown",
      "metadata": {
        "id": "ynUGMmBPOEy7"
      },
      "source": [
        "Vemos que *Two's Company: Series 1* es la que más calificaciones recibe con 181508. En segunda lugar fue la película *The Man Who Laughs* con 177556 y en tercer lugar fue la película *Drowning on Dry Land* con 173596."
      ]
    },
    {
      "cell_type": "markdown",
      "metadata": {
        "id": "_YffB_DMDs-N"
      },
      "source": [
        "### División de los datos"
      ]
    },
    {
      "cell_type": "markdown",
      "metadata": {
        "id": "yO7szWir9b5B"
      },
      "source": [
        "Dado que el conjunto de datos ahora es muy grande, lo que sigue es:\n",
        "\n",
        "* Eliminar películas con menos ratings (relativamente no son populares)\n",
        "* Eliminar a los usuarios que dieron menos reseñas (son relativamente menos activos)"
      ]
    },
    {
      "cell_type": "code",
      "metadata": {
        "colab": {
          "base_uri": "https://localhost:8080/"
        },
        "id": "hnz0uijz9wx3",
        "outputId": "2a47e8a3-49ef-46bc-86d9-f03818e84fcf"
      },
      "source": [
        "# Agrupamos por id de la película y a cada una de ella le calculamos el total\n",
        "# de veces que fue calificada y el promedio de su calificación\n",
        "df_movie_summary = df.groupby('Movie_Id')['Rating'].agg(['count','mean'])\n",
        "# redondeamos (0 decimales) el valor dado del cuantil de orden 70%\n",
        "movie_benchmark = round(df_movie_summary['count'].quantile(0.7),0)\n",
        "# nos quedamos con los indices de las peliculas que son menores al valor del cuantil anterior\n",
        "drop_movie_list = df_movie_summary[df_movie_summary['count'] < movie_benchmark].index\n",
        "\n",
        "print('Películas menos populares: {}'.format(movie_benchmark))\n",
        "\n",
        "# Agrupamos por id del cliente y a cada uno de ellos le calculamos el total\n",
        "# de veces que calificó y el promedio de las calificaciones que hizo\n",
        "df_cust_summary = df.groupby('Cust_Id')['Rating'].agg(['count','mean'])\n",
        "# redondeamos (0 decimales) el valor dado del cuantil de orden 70%\n",
        "cust_benchmark = round(df_cust_summary['count'].quantile(0.7),0)\n",
        "# nos quedamos con los indices de los clientes que son menores al cuantil\n",
        "drop_cust_list = df_cust_summary[df_cust_summary['count'] < cust_benchmark].index\n",
        "\n",
        "print('Usuarios menos activos: {}'.format(cust_benchmark))"
      ],
      "execution_count": null,
      "outputs": [
        {
          "output_type": "stream",
          "text": [
            "Películas menos populares: 1908.0\n",
            "Usuarios menos activos: 48.0\n"
          ],
          "name": "stdout"
        }
      ]
    },
    {
      "cell_type": "markdown",
      "metadata": {
        "id": "mtHHjDrqCnDO"
      },
      "source": [
        "En seguida revisamos la base de datos, después de reducirla:\n",
        "\n"
      ]
    },
    {
      "cell_type": "code",
      "metadata": {
        "colab": {
          "base_uri": "https://localhost:8080/"
        },
        "id": "IkG5DSd3CjO4",
        "outputId": "bbde12c6-e465-42dd-e4dc-0d6770cf615d"
      },
      "source": [
        "print('Tamaño original: {}'.format(df.shape))\n",
        "df = df[~df['Movie_Id'].isin(drop_movie_list)]\n",
        "df = df[~df['Cust_Id'].isin(drop_cust_list)]\n",
        "print('Tamaño después de la reducción: {}'.format(df.shape))\n",
        "print('-Data Examples-')\n",
        "print(df.iloc[::5000000, :])"
      ],
      "execution_count": null,
      "outputs": [
        {
          "output_type": "stream",
          "text": [
            "Tamaño original: (22601629, 3)\n",
            "Tamaño después de la reducción: (16008083, 3)\n",
            "-Data Examples-\n",
            "          Cust_Id  Rating  Movie_Id\n",
            "2561       306466     2.0         7\n",
            "6964285   2555377     4.0      1397\n",
            "14073380  1475279     3.0      2678\n",
            "21130651   982635     4.0      3842\n"
          ],
          "name": "stdout"
        }
      ]
    },
    {
      "cell_type": "markdown",
      "metadata": {
        "id": "k1Zab99sDEiJ"
      },
      "source": [
        "Observamos que ahora tenemos un $\\dfrac{16,008,083}{22,601,629} = 70.83\\%$ de la información original."
      ]
    },
    {
      "cell_type": "markdown",
      "metadata": {
        "id": "3xqj5mSZEHCA"
      },
      "source": [
        "Generamos una tabla pivote para que las columnas correspondan al ID de la película, los renglones sean el ID del cliente o usuario y los valores de la tabla sean los ratings que el usuario le ha dado a la película (si no le ha dado una calificación el usuario, aparece un valor *NaN*). Esto lo necesitamos para nuestro sistema de recomendación."
      ]
    },
    {
      "cell_type": "code",
      "metadata": {
        "colab": {
          "base_uri": "https://localhost:8080/"
        },
        "id": "02Q87wXGGEFM",
        "outputId": "418c1205-dd99-41a3-96a0-5f8f625203cc"
      },
      "source": [
        "\"\"\"Generar una tabla pivote\"\"\"\n",
        "df_p = pd.pivot_table(df,values='Rating',index='Cust_Id',columns='Movie_Id')\n",
        "#df_p = pd.pivot_table(df,values='Rating',index='Cust_Id',columns='Movie_Id').fillna(0)\n",
        "\n",
        "print(\" La dimensión de la tabla pivote es: \", df_p.shape)"
      ],
      "execution_count": null,
      "outputs": [
        {
          "output_type": "stream",
          "text": [
            " La dimensión de la tabla pivote es:  (143119, 1248)\n"
          ],
          "name": "stdout"
        }
      ]
    },
    {
      "cell_type": "code",
      "metadata": {
        "colab": {
          "base_uri": "https://localhost:8080/"
        },
        "id": "G12L7FKaHy95",
        "outputId": "0f3bb23c-9703-439d-c34e-c79f89eaa701"
      },
      "source": [
        "#visualizamos como matriz los datos de la tabla\n",
        "df_p.values"
      ],
      "execution_count": null,
      "outputs": [
        {
          "output_type": "execute_result",
          "data": {
            "text/plain": [
              "array([[ 2., nan, nan, ..., nan,  1., nan],\n",
              "       [ 5., nan, nan, ..., nan,  4., nan],\n",
              "       [nan, nan, nan, ..., nan, nan, nan],\n",
              "       ...,\n",
              "       [nan, nan, nan, ..., nan,  2., nan],\n",
              "       [nan, nan, nan, ...,  4.,  3., nan],\n",
              "       [nan, nan, nan, ..., nan, nan, nan]])"
            ]
          },
          "metadata": {
            "tags": []
          },
          "execution_count": 15
        }
      ]
    },
    {
      "cell_type": "code",
      "metadata": {
        "id": "5f1dnlJ5JL5b"
      },
      "source": [
        "\"\"\"Extracción de usuarios y libros para representarlos como listas (y las reservamos) \"\"\"\n",
        "cust_lista = list(df_p.index)\n",
        "peli_lista = list(df_p.columns)"
      ],
      "execution_count": null,
      "outputs": []
    },
    {
      "cell_type": "code",
      "metadata": {
        "colab": {
          "base_uri": "https://localhost:8080/"
        },
        "id": "aEL3tT4mJJBI",
        "outputId": "f73b940e-7a09-44e9-a87d-42d68ac432cc"
      },
      "source": [
        "\n",
        "# Construimos una matriz dispersa con los valores de la matriz anterior\n",
        "R = coo_matrix(df_p.values)\n",
        "print(\"Tamaño de la matriz dispersa\", R.shape)\n"
      ],
      "execution_count": null,
      "outputs": [
        {
          "output_type": "stream",
          "text": [
            "Tamaño de la matriz dispersa (143119, 1248)\n"
          ],
          "name": "stdout"
        }
      ]
    },
    {
      "cell_type": "markdown",
      "metadata": {
        "id": "re0jfXJwI5zB"
      },
      "source": [
        "Una vez que todos los datos requeridos están cargados y limpiados, empezamos ahora sí con el sistema de recomendación."
      ]
    },
    {
      "cell_type": "markdown",
      "metadata": {
        "id": "WVTWNrj4JCPq"
      },
      "source": [
        "### Sistema de Recomendación usando el filtrado colaborativo\n",
        "\n",
        "¿Por qué utilizamos este método? Porque el filtrado colaborativo es un método para hacer predicciones automáticas (filtrado) sobre los intereses de un usuario mediante la recopilación de las preferencias o gustos de información de muchos usuarios (colaborador)\n",
        "\n",
        "El Filtrado colaborativo se basa, en que si una persona A tiene la misma opinión que una persona B sobre un tema, A es más probable que tenga la misma opinión que B en otro tema diferente que la opinión que tendría una persona elegida azar. Por ello, la similitud entre usuarios puede ser usada para inferir\n",
        "las calificaciones no observadas; la mayoría de los modelos de filtrado colaborativo aprovechan las correlaciones (similitudes) entre los gustos de películas en los usuarios.\n",
        "\n",
        "Además, esto ayuda pues las calificaciones están en una escala de Likert (1-5).\n",
        "\n",
        "Usamos la biblioteca [Surprise](http://surpriselib.com/) y se emplea el algoritmo de [factorización de matrices probabilísticas](https://surprise.readthedocs.io/en/stable/matrix_factorization.html#surprise.prediction_algorithms.matrix_factorization.SVD).\n",
        "\n"
      ]
    },
    {
      "cell_type": "markdown",
      "metadata": {
        "id": "EfbmTEUE8U3z"
      },
      "source": [
        "Antes de continuar, vamos a mostrar las películas que le hayan gustado al usuario 1117, que es al quien le haremos recomendaciones de películas."
      ]
    },
    {
      "cell_type": "code",
      "metadata": {
        "colab": {
          "base_uri": "https://localhost:8080/"
        },
        "id": "rGO17bE68QjK",
        "outputId": "b2e530de-6399-4cc2-9842-693c30938c0b"
      },
      "source": [
        "# Seleccionamos la información de las películas que le hayan gustado al usuario con ID 1117\r\n",
        "df_1117 = df[(df['Cust_Id'] == 1117) & (df['Rating'] == 5)]\r\n",
        "# indicamos que el indice de este df sea el ID de la pelicula\r\n",
        "df_1117 = df_1117.set_index('Movie_Id')\r\n",
        "# hacemos un join mediante el ID de la pelicula con su nombre (ya que\r\n",
        "# el nombre no se presenta en la primera base de datos que cargamos)\r\n",
        "df_1117 = df_1117.join(df_title)['Name']\r\n",
        "print(df_1117) #Estas son las películas que ha visto y le han gustado"
      ],
      "execution_count": null,
      "outputs": [
        {
          "output_type": "stream",
          "text": [
            "Movie_Id\n",
            "1208                   The Twilight Zone: Vol. 15\n",
            "1854                              Crazy/Beautiful\n",
            "1942                    REO Speedwagon: Live Plus\n",
            "1981                                  Needing You\n",
            "2073                      Two's Company: Series 1\n",
            "2602                                 Stuck on You\n",
            "3283                         Cadfael: Monk's Hood\n",
            "4045    The Indiana Jones Trilogy: Bonus Material\n",
            "Name: Name, dtype: object\n"
          ],
          "name": "stdout"
        }
      ]
    },
    {
      "cell_type": "markdown",
      "metadata": {
        "id": "GVPppOW09EXA"
      },
      "source": [
        "Vamos a utilizar dos métodos para comparar las recomendaciones que nos arrojan ambos para el usuario con ID 1117"
      ]
    },
    {
      "cell_type": "markdown",
      "metadata": {
        "id": "swtUNFV6Kxgk"
      },
      "source": [
        "#### Factor Latente"
      ]
    },
    {
      "cell_type": "code",
      "metadata": {
        "colab": {
          "base_uri": "https://localhost:8080/"
        },
        "id": "LAWJJWU4KzAF",
        "outputId": "e6186dd4-0064-4021-84fa-5284ea5baa69"
      },
      "source": [
        "\"\"\"Inicializar las matrices U y V\"\"\"\n",
        "M, N = R.shape\n",
        "print(\"Tamaño de las matrices M y N: \", M,N)\n",
        "K = 3 #no. de factores a calcular\n",
        "\n",
        "U=np.random.rand(M,K) #inicializar la matriz U\n",
        "V=np.random.rand(K,N) #inicalizar la matriz V\n",
        "\n",
        "print(\"Tamaño de la matriz U: \", U.shape)\n",
        "print(U)\n",
        "print(\"Tamaño de la matriz V: \", V.shape)\n",
        "print(V)"
      ],
      "execution_count": null,
      "outputs": [
        {
          "output_type": "stream",
          "text": [
            "Tamaño de las matrices M y N:  143119 1248\n",
            "Tamaño de la matriz U:  (143119, 3)\n",
            "[[0.23166926 0.71258439 0.72997839]\n",
            " [0.22611214 0.08115321 0.15152758]\n",
            " [0.89418689 0.48719729 0.52493928]\n",
            " ...\n",
            " [0.17640947 0.69564281 0.72198464]\n",
            " [0.44746805 0.28533174 0.81876097]\n",
            " [0.73169046 0.88300051 0.09525982]]\n",
            "Tamaño de la matriz V:  (3, 1248)\n",
            "[[0.41104594 0.26449267 0.72956562 ... 0.96918491 0.65604794 0.71633526]\n",
            " [0.09496622 0.55655215 0.45862495 ... 0.28399091 0.22169371 0.34425731]\n",
            " [0.94987769 0.70582398 0.49601053 ... 0.23364846 0.28335643 0.7932408 ]]\n"
          ],
          "name": "stdout"
        }
      ]
    },
    {
      "cell_type": "code",
      "metadata": {
        "id": "KN0ZgA8qK5pI"
      },
      "source": [
        "\"\"\"Función para calcular el error cuadrático\"\"\"\n",
        "\n",
        "def error(R,U,V,lamda=0.02):\n",
        "    ratings = R.data\n",
        "    filas = R.row\n",
        "    columnas = R.col\n",
        "    e = 0 \n",
        "    for ui in range(len(ratings)):\n",
        "        rui=ratings[ui]\n",
        "        u = filas[ui]\n",
        "        i = columnas[ui]\n",
        "        if rui>0:\n",
        "            e= e + pow(rui-np.dot(U[u,:],V[:,i]),2)+\\\n",
        "                lamda*(pow(norm(U[u,:]),2)+pow(norm(V[:,i]),2))\n",
        "    return e"
      ],
      "execution_count": null,
      "outputs": []
    },
    {
      "cell_type": "code",
      "metadata": {
        "colab": {
          "base_uri": "https://localhost:8080/"
        },
        "id": "oys_j9-6LEDq",
        "outputId": "570864b7-23b4-448c-a699-9d023c6d37dc"
      },
      "source": [
        "#Calcular el error\n",
        "\n",
        "#tiempo para observar cuanto se tarda en ejecutarse la celda\n",
        "t1 = time.time()\n",
        "rmse = np.sqrt(error(R,U,V)/len(R.data))\n",
        "print(\"RMSE: \", rmse)\n",
        "print(\"Tiempo de ejecuación RMSE (en segundos):\", time.time() - t1) # aprox 5 minutos"
      ],
      "execution_count": null,
      "outputs": [
        {
          "output_type": "stream",
          "text": [
            "RMSE:  0.9193753691027149\n",
            "Tiempo de ejecuación del RMSE (en segundos): 386.4318265914917\n"
          ],
          "name": "stdout"
        }
      ]
    },
    {
      "cell_type": "code",
      "metadata": {
        "id": "5jFInT5DLSUd"
      },
      "source": [
        "\"\"\"Función para optimizar las matrices U y V usando el SGD\"\"\"\n",
        "\n",
        "def SGD(R, K, lamda=0.02,steps=10, gamma=0.001):\n",
        "    M,N = R.shape\n",
        "    U = np.random.rand(M,K)\n",
        "    V = np.random.rand(K,N)\n",
        "    \n",
        "    rmse = np.sqrt(error(R,U,V,lamda)/len(R.data))\n",
        "    print(\"RMSE inicial: \"+str(rmse))\n",
        "    \n",
        "    for step in range(steps):\n",
        "        for ui in range(len(R.data)):\n",
        "            rui=R.data[ui]\n",
        "            u = R.row[ui]\n",
        "            i = R.col[ui]\n",
        "            if rui>0:\n",
        "                eui=rui-np.dot(U[u,:],V[:,i])\n",
        "                U[u,:]=U[u,:]+gamma*2*(eui*V[:,i]-lamda*U[u,:])\n",
        "                V[:,i]=V[:,i]+gamma*2*(eui*U[u,:]-lamda*V[:,i])\n",
        "        rmse = np.sqrt(error(R,U,V,lamda)/len(R.data))\n",
        "        if rmse<0.5:\n",
        "            break\n",
        "    print(\"RMSE final: \"+str(rmse))\n",
        "    return U,V"
      ],
      "execution_count": null,
      "outputs": []
    },
    {
      "cell_type": "code",
      "metadata": {
        "colab": {
          "base_uri": "https://localhost:8080/"
        },
        "id": "odcmcYx7LcGZ",
        "outputId": "8c9beebe-36ae-46a4-9ffa-210828014b96"
      },
      "source": [
        "#tiempo para observar cuanto se tarda en ejecutarse la celda\n",
        "t1 = time.time()\n",
        "U,V=SGD(R,K=3,gamma=0.0007,lamda=0.001, steps=500)\n",
        "print(\"Tiempo de ejecuación del RMSE con SGD (en segundos):\", time.time() - t1) # tarda aprox 20 minutos"
      ],
      "execution_count": null,
      "outputs": [
        {
          "output_type": "stream",
          "text": [
            "RMSE inicial: 0.9163282993892183\n",
            "RMSE final: 0.30734966438659694\n",
            "Tiempo de ejecuación del RMSE (en segundos): 1177.3839900493622\n"
          ],
          "name": "stdout"
        }
      ]
    },
    {
      "cell_type": "code",
      "metadata": {
        "id": "LDCvpHLJLcyl",
        "colab": {
          "base_uri": "https://localhost:8080/"
        },
        "outputId": "3510def6-f885-4914-e702-983e3d061d80"
      },
      "source": [
        "#Generar las predicciones para todos los usuarios\n",
        "pred_user_ratings =np.matmul(U, V) # multiplicacion de U por V como lo vimos en clase\n",
        "pred_user_ratings"
      ],
      "execution_count": null,
      "outputs": [
        {
          "output_type": "execute_result",
          "data": {
            "text/plain": [
              "array([[4.84853113, 4.71985941, 4.47877376, ..., 4.6960353 , 5.19797066,\n",
              "        4.5154739 ],\n",
              "       [4.88195559, 4.76251386, 4.30748816, ..., 4.68739607, 5.1756225 ,\n",
              "        4.57550084],\n",
              "       [5.21421669, 4.86427582, 4.58584573, ..., 4.90413453, 5.45033904,\n",
              "        4.69770905],\n",
              "       ...,\n",
              "       [2.82189642, 2.61351676, 2.68457069, ..., 2.69127582, 3.00512779,\n",
              "        2.50579744],\n",
              "       [3.72965829, 3.75801751, 3.37521018, ..., 3.65325094, 4.01897562,\n",
              "        3.58965269],\n",
              "       [3.73926342, 3.53993609, 3.29461492, ..., 3.54121132, 3.92736488,\n",
              "        3.41253084]])"
            ]
          },
          "metadata": {
            "tags": []
          },
          "execution_count": 23
        }
      ]
    },
    {
      "cell_type": "code",
      "metadata": {
        "id": "qfqNefVhLc_H",
        "colab": {
          "base_uri": "https://localhost:8080/"
        },
        "outputId": "83a04fd8-242a-4e7e-a5d7-aac7980c5b81"
      },
      "source": [
        "\"\"\"Convertir la matriz reconstruida a dataframe\"\"\"\n",
        "# las columnas son el ID de las peliculas, el indice de los renglones es el id de los clientes, y los valores\n",
        "# del dataframe son las predicciones para todos los usuarios de los ratings\n",
        "df_pred_user_ratings = pd.DataFrame(np.round(pred_user_ratings,2),columns=peli_lista, index=cust_lista)#redondear los ratings a 2 dígitos\n",
        "print(\"Tamaño de la matriz reconstruida: \", df_pred_user_ratings.shape)"
      ],
      "execution_count": null,
      "outputs": [
        {
          "output_type": "stream",
          "text": [
            "Tamaño de la matriz reconstruida:  (143119, 1248)\n"
          ],
          "name": "stdout"
        }
      ]
    },
    {
      "cell_type": "markdown",
      "metadata": {
        "id": "rI-ttBjVLqZS"
      },
      "source": [
        "Recordemos:\n",
        "\n",
        "El dataframe 'df_pred_user_ratings' es la matriz reconstruida de $U \\cdot V$, donde: $M$ es el número de usuarios y $N$ es el número de productos.\n",
        "\n",
        "Cada $r_{ij}$ es la predicción del usuario $i$ para el libro $j$.\n",
        "\n",
        "Cuando $r_{ij}$ tiene un valor alto indica una alta probabilidad que el usuario compre un libro"
      ]
    },
    {
      "cell_type": "code",
      "metadata": {
        "id": "ocihwW8-LkJ6",
        "colab": {
          "base_uri": "https://localhost:8080/",
          "height": 382
        },
        "outputId": "ce4ee6de-521e-49b0-a6d2-fcc8ae7a43e6"
      },
      "source": [
        "#Visualizar la matriz reconstruida\n",
        "df_pred_user_ratings.head(10)"
      ],
      "execution_count": null,
      "outputs": [
        {
          "output_type": "execute_result",
          "data": {
            "text/html": [
              "<div>\n",
              "<style scoped>\n",
              "    .dataframe tbody tr th:only-of-type {\n",
              "        vertical-align: middle;\n",
              "    }\n",
              "\n",
              "    .dataframe tbody tr th {\n",
              "        vertical-align: top;\n",
              "    }\n",
              "\n",
              "    .dataframe thead th {\n",
              "        text-align: right;\n",
              "    }\n",
              "</style>\n",
              "<table border=\"1\" class=\"dataframe\">\n",
              "  <thead>\n",
              "    <tr style=\"text-align: right;\">\n",
              "      <th></th>\n",
              "      <th>7</th>\n",
              "      <th>8</th>\n",
              "      <th>12</th>\n",
              "      <th>13</th>\n",
              "      <th>14</th>\n",
              "      <th>18</th>\n",
              "      <th>19</th>\n",
              "      <th>21</th>\n",
              "      <th>22</th>\n",
              "      <th>24</th>\n",
              "      <th>25</th>\n",
              "      <th>26</th>\n",
              "      <th>27</th>\n",
              "      <th>28</th>\n",
              "      <th>30</th>\n",
              "      <th>31</th>\n",
              "      <th>32</th>\n",
              "      <th>44</th>\n",
              "      <th>47</th>\n",
              "      <th>50</th>\n",
              "      <th>52</th>\n",
              "      <th>55</th>\n",
              "      <th>64</th>\n",
              "      <th>66</th>\n",
              "      <th>69</th>\n",
              "      <th>78</th>\n",
              "      <th>84</th>\n",
              "      <th>85</th>\n",
              "      <th>86</th>\n",
              "      <th>88</th>\n",
              "      <th>93</th>\n",
              "      <th>99</th>\n",
              "      <th>100</th>\n",
              "      <th>110</th>\n",
              "      <th>113</th>\n",
              "      <th>116</th>\n",
              "      <th>117</th>\n",
              "      <th>119</th>\n",
              "      <th>120</th>\n",
              "      <th>121</th>\n",
              "      <th>...</th>\n",
              "      <th>3997</th>\n",
              "      <th>4001</th>\n",
              "      <th>4004</th>\n",
              "      <th>4006</th>\n",
              "      <th>4007</th>\n",
              "      <th>4009</th>\n",
              "      <th>4017</th>\n",
              "      <th>4020</th>\n",
              "      <th>4022</th>\n",
              "      <th>4024</th>\n",
              "      <th>4034</th>\n",
              "      <th>4038</th>\n",
              "      <th>4041</th>\n",
              "      <th>4044</th>\n",
              "      <th>4045</th>\n",
              "      <th>4051</th>\n",
              "      <th>4059</th>\n",
              "      <th>4060</th>\n",
              "      <th>4063</th>\n",
              "      <th>4066</th>\n",
              "      <th>4069</th>\n",
              "      <th>4070</th>\n",
              "      <th>4072</th>\n",
              "      <th>4078</th>\n",
              "      <th>4083</th>\n",
              "      <th>4088</th>\n",
              "      <th>4091</th>\n",
              "      <th>4092</th>\n",
              "      <th>4094</th>\n",
              "      <th>4101</th>\n",
              "      <th>4103</th>\n",
              "      <th>4107</th>\n",
              "      <th>4108</th>\n",
              "      <th>4109</th>\n",
              "      <th>4116</th>\n",
              "      <th>4117</th>\n",
              "      <th>4118</th>\n",
              "      <th>4132</th>\n",
              "      <th>4149</th>\n",
              "      <th>4155</th>\n",
              "    </tr>\n",
              "  </thead>\n",
              "  <tbody>\n",
              "    <tr>\n",
              "      <th>6</th>\n",
              "      <td>4.849</td>\n",
              "      <td>4.720</td>\n",
              "      <td>4.479</td>\n",
              "      <td>4.020</td>\n",
              "      <td>5.009</td>\n",
              "      <td>4.963</td>\n",
              "      <td>4.875</td>\n",
              "      <td>4.493</td>\n",
              "      <td>4.093</td>\n",
              "      <td>4.432</td>\n",
              "      <td>4.924</td>\n",
              "      <td>5.764</td>\n",
              "      <td>4.859</td>\n",
              "      <td>3.746</td>\n",
              "      <td>4.806</td>\n",
              "      <td>4.944</td>\n",
              "      <td>5.436</td>\n",
              "      <td>5.561</td>\n",
              "      <td>4.120</td>\n",
              "      <td>4.826</td>\n",
              "      <td>3.750</td>\n",
              "      <td>4.827</td>\n",
              "      <td>5.405</td>\n",
              "      <td>4.200</td>\n",
              "      <td>4.682</td>\n",
              "      <td>4.420</td>\n",
              "      <td>4.735</td>\n",
              "      <td>5.229</td>\n",
              "      <td>5.100</td>\n",
              "      <td>4.805</td>\n",
              "      <td>4.315</td>\n",
              "      <td>4.097</td>\n",
              "      <td>4.912</td>\n",
              "      <td>5.218</td>\n",
              "      <td>4.353</td>\n",
              "      <td>5.859</td>\n",
              "      <td>5.557</td>\n",
              "      <td>4.765</td>\n",
              "      <td>5.695</td>\n",
              "      <td>3.639</td>\n",
              "      <td>...</td>\n",
              "      <td>5.720</td>\n",
              "      <td>4.447</td>\n",
              "      <td>4.029</td>\n",
              "      <td>4.791</td>\n",
              "      <td>5.218</td>\n",
              "      <td>5.445</td>\n",
              "      <td>4.764</td>\n",
              "      <td>5.309</td>\n",
              "      <td>4.390</td>\n",
              "      <td>4.334</td>\n",
              "      <td>4.743</td>\n",
              "      <td>4.326</td>\n",
              "      <td>5.443</td>\n",
              "      <td>4.230</td>\n",
              "      <td>5.803</td>\n",
              "      <td>4.609</td>\n",
              "      <td>5.309</td>\n",
              "      <td>5.314</td>\n",
              "      <td>5.437</td>\n",
              "      <td>4.832</td>\n",
              "      <td>4.698</td>\n",
              "      <td>3.423</td>\n",
              "      <td>4.136</td>\n",
              "      <td>3.993</td>\n",
              "      <td>4.840</td>\n",
              "      <td>4.940</td>\n",
              "      <td>5.955</td>\n",
              "      <td>5.922</td>\n",
              "      <td>4.984</td>\n",
              "      <td>4.428</td>\n",
              "      <td>5.089</td>\n",
              "      <td>4.567</td>\n",
              "      <td>4.609</td>\n",
              "      <td>3.751</td>\n",
              "      <td>5.478</td>\n",
              "      <td>4.246</td>\n",
              "      <td>4.928</td>\n",
              "      <td>4.696</td>\n",
              "      <td>5.198</td>\n",
              "      <td>4.515</td>\n",
              "    </tr>\n",
              "    <tr>\n",
              "      <th>7</th>\n",
              "      <td>4.882</td>\n",
              "      <td>4.763</td>\n",
              "      <td>4.307</td>\n",
              "      <td>4.123</td>\n",
              "      <td>4.906</td>\n",
              "      <td>5.044</td>\n",
              "      <td>4.872</td>\n",
              "      <td>4.342</td>\n",
              "      <td>4.074</td>\n",
              "      <td>4.433</td>\n",
              "      <td>4.889</td>\n",
              "      <td>5.793</td>\n",
              "      <td>4.784</td>\n",
              "      <td>4.021</td>\n",
              "      <td>4.753</td>\n",
              "      <td>4.956</td>\n",
              "      <td>5.357</td>\n",
              "      <td>5.515</td>\n",
              "      <td>3.955</td>\n",
              "      <td>4.737</td>\n",
              "      <td>3.947</td>\n",
              "      <td>4.799</td>\n",
              "      <td>5.332</td>\n",
              "      <td>4.025</td>\n",
              "      <td>4.652</td>\n",
              "      <td>4.470</td>\n",
              "      <td>4.778</td>\n",
              "      <td>5.211</td>\n",
              "      <td>4.952</td>\n",
              "      <td>4.815</td>\n",
              "      <td>4.223</td>\n",
              "      <td>4.046</td>\n",
              "      <td>4.937</td>\n",
              "      <td>5.225</td>\n",
              "      <td>4.301</td>\n",
              "      <td>5.920</td>\n",
              "      <td>5.421</td>\n",
              "      <td>4.744</td>\n",
              "      <td>5.697</td>\n",
              "      <td>3.605</td>\n",
              "      <td>...</td>\n",
              "      <td>5.678</td>\n",
              "      <td>4.445</td>\n",
              "      <td>4.098</td>\n",
              "      <td>4.761</td>\n",
              "      <td>5.186</td>\n",
              "      <td>5.487</td>\n",
              "      <td>4.645</td>\n",
              "      <td>5.187</td>\n",
              "      <td>4.292</td>\n",
              "      <td>4.306</td>\n",
              "      <td>4.759</td>\n",
              "      <td>4.308</td>\n",
              "      <td>5.413</td>\n",
              "      <td>4.318</td>\n",
              "      <td>5.780</td>\n",
              "      <td>4.548</td>\n",
              "      <td>5.299</td>\n",
              "      <td>5.291</td>\n",
              "      <td>5.452</td>\n",
              "      <td>4.843</td>\n",
              "      <td>4.948</td>\n",
              "      <td>3.441</td>\n",
              "      <td>4.173</td>\n",
              "      <td>3.942</td>\n",
              "      <td>4.850</td>\n",
              "      <td>4.894</td>\n",
              "      <td>5.944</td>\n",
              "      <td>5.913</td>\n",
              "      <td>5.039</td>\n",
              "      <td>4.419</td>\n",
              "      <td>5.218</td>\n",
              "      <td>4.638</td>\n",
              "      <td>4.594</td>\n",
              "      <td>3.756</td>\n",
              "      <td>5.425</td>\n",
              "      <td>4.250</td>\n",
              "      <td>4.886</td>\n",
              "      <td>4.687</td>\n",
              "      <td>5.176</td>\n",
              "      <td>4.576</td>\n",
              "    </tr>\n",
              "    <tr>\n",
              "      <th>10</th>\n",
              "      <td>5.214</td>\n",
              "      <td>4.864</td>\n",
              "      <td>4.586</td>\n",
              "      <td>4.298</td>\n",
              "      <td>5.201</td>\n",
              "      <td>5.197</td>\n",
              "      <td>5.095</td>\n",
              "      <td>4.679</td>\n",
              "      <td>4.339</td>\n",
              "      <td>4.639</td>\n",
              "      <td>5.152</td>\n",
              "      <td>5.996</td>\n",
              "      <td>5.073</td>\n",
              "      <td>4.229</td>\n",
              "      <td>4.987</td>\n",
              "      <td>5.141</td>\n",
              "      <td>5.630</td>\n",
              "      <td>5.802</td>\n",
              "      <td>4.426</td>\n",
              "      <td>5.247</td>\n",
              "      <td>4.231</td>\n",
              "      <td>5.052</td>\n",
              "      <td>5.820</td>\n",
              "      <td>4.416</td>\n",
              "      <td>4.879</td>\n",
              "      <td>4.791</td>\n",
              "      <td>4.961</td>\n",
              "      <td>5.512</td>\n",
              "      <td>5.521</td>\n",
              "      <td>5.047</td>\n",
              "      <td>4.699</td>\n",
              "      <td>4.322</td>\n",
              "      <td>5.170</td>\n",
              "      <td>5.539</td>\n",
              "      <td>4.486</td>\n",
              "      <td>6.043</td>\n",
              "      <td>5.963</td>\n",
              "      <td>5.113</td>\n",
              "      <td>5.924</td>\n",
              "      <td>3.668</td>\n",
              "      <td>...</td>\n",
              "      <td>6.009</td>\n",
              "      <td>4.659</td>\n",
              "      <td>4.439</td>\n",
              "      <td>5.061</td>\n",
              "      <td>5.452</td>\n",
              "      <td>5.591</td>\n",
              "      <td>4.870</td>\n",
              "      <td>5.689</td>\n",
              "      <td>4.591</td>\n",
              "      <td>4.399</td>\n",
              "      <td>5.091</td>\n",
              "      <td>4.453</td>\n",
              "      <td>5.690</td>\n",
              "      <td>4.266</td>\n",
              "      <td>6.111</td>\n",
              "      <td>4.636</td>\n",
              "      <td>5.681</td>\n",
              "      <td>5.742</td>\n",
              "      <td>5.747</td>\n",
              "      <td>5.025</td>\n",
              "      <td>5.067</td>\n",
              "      <td>3.562</td>\n",
              "      <td>4.499</td>\n",
              "      <td>4.245</td>\n",
              "      <td>5.110</td>\n",
              "      <td>5.168</td>\n",
              "      <td>6.257</td>\n",
              "      <td>6.205</td>\n",
              "      <td>5.485</td>\n",
              "      <td>4.675</td>\n",
              "      <td>5.453</td>\n",
              "      <td>5.074</td>\n",
              "      <td>4.826</td>\n",
              "      <td>3.900</td>\n",
              "      <td>5.543</td>\n",
              "      <td>4.410</td>\n",
              "      <td>5.213</td>\n",
              "      <td>4.904</td>\n",
              "      <td>5.450</td>\n",
              "      <td>4.698</td>\n",
              "    </tr>\n",
              "    <tr>\n",
              "      <th>79</th>\n",
              "      <td>6.126</td>\n",
              "      <td>5.861</td>\n",
              "      <td>5.276</td>\n",
              "      <td>5.162</td>\n",
              "      <td>6.053</td>\n",
              "      <td>6.254</td>\n",
              "      <td>6.033</td>\n",
              "      <td>5.363</td>\n",
              "      <td>5.078</td>\n",
              "      <td>5.492</td>\n",
              "      <td>6.056</td>\n",
              "      <td>7.158</td>\n",
              "      <td>5.919</td>\n",
              "      <td>5.159</td>\n",
              "      <td>5.864</td>\n",
              "      <td>6.123</td>\n",
              "      <td>6.602</td>\n",
              "      <td>6.822</td>\n",
              "      <td>4.958</td>\n",
              "      <td>5.974</td>\n",
              "      <td>5.065</td>\n",
              "      <td>5.946</td>\n",
              "      <td>6.694</td>\n",
              "      <td>4.993</td>\n",
              "      <td>5.751</td>\n",
              "      <td>5.630</td>\n",
              "      <td>5.925</td>\n",
              "      <td>6.478</td>\n",
              "      <td>6.232</td>\n",
              "      <td>5.976</td>\n",
              "      <td>5.330</td>\n",
              "      <td>5.030</td>\n",
              "      <td>6.134</td>\n",
              "      <td>6.518</td>\n",
              "      <td>5.289</td>\n",
              "      <td>7.287</td>\n",
              "      <td>6.794</td>\n",
              "      <td>5.946</td>\n",
              "      <td>7.039</td>\n",
              "      <td>4.388</td>\n",
              "      <td>...</td>\n",
              "      <td>7.046</td>\n",
              "      <td>5.510</td>\n",
              "      <td>5.202</td>\n",
              "      <td>5.923</td>\n",
              "      <td>6.420</td>\n",
              "      <td>6.740</td>\n",
              "      <td>5.688</td>\n",
              "      <td>6.497</td>\n",
              "      <td>5.313</td>\n",
              "      <td>5.259</td>\n",
              "      <td>5.967</td>\n",
              "      <td>5.296</td>\n",
              "      <td>6.702</td>\n",
              "      <td>5.264</td>\n",
              "      <td>7.181</td>\n",
              "      <td>5.530</td>\n",
              "      <td>6.633</td>\n",
              "      <td>6.654</td>\n",
              "      <td>6.787</td>\n",
              "      <td>5.983</td>\n",
              "      <td>6.220</td>\n",
              "      <td>4.252</td>\n",
              "      <td>5.265</td>\n",
              "      <td>4.920</td>\n",
              "      <td>6.034</td>\n",
              "      <td>6.061</td>\n",
              "      <td>7.377</td>\n",
              "      <td>7.329</td>\n",
              "      <td>6.393</td>\n",
              "      <td>5.497</td>\n",
              "      <td>6.539</td>\n",
              "      <td>5.910</td>\n",
              "      <td>5.693</td>\n",
              "      <td>4.641</td>\n",
              "      <td>6.616</td>\n",
              "      <td>5.247</td>\n",
              "      <td>6.083</td>\n",
              "      <td>5.802</td>\n",
              "      <td>6.418</td>\n",
              "      <td>5.655</td>\n",
              "    </tr>\n",
              "    <tr>\n",
              "      <th>97</th>\n",
              "      <td>5.676</td>\n",
              "      <td>5.443</td>\n",
              "      <td>5.171</td>\n",
              "      <td>4.690</td>\n",
              "      <td>5.804</td>\n",
              "      <td>5.752</td>\n",
              "      <td>5.653</td>\n",
              "      <td>5.215</td>\n",
              "      <td>4.771</td>\n",
              "      <td>5.142</td>\n",
              "      <td>5.715</td>\n",
              "      <td>6.671</td>\n",
              "      <td>5.638</td>\n",
              "      <td>4.442</td>\n",
              "      <td>5.563</td>\n",
              "      <td>5.722</td>\n",
              "      <td>6.290</td>\n",
              "      <td>6.448</td>\n",
              "      <td>4.837</td>\n",
              "      <td>5.681</td>\n",
              "      <td>4.452</td>\n",
              "      <td>5.603</td>\n",
              "      <td>6.339</td>\n",
              "      <td>4.894</td>\n",
              "      <td>5.426</td>\n",
              "      <td>5.188</td>\n",
              "      <td>5.492</td>\n",
              "      <td>6.083</td>\n",
              "      <td>5.999</td>\n",
              "      <td>5.580</td>\n",
              "      <td>5.084</td>\n",
              "      <td>4.770</td>\n",
              "      <td>5.708</td>\n",
              "      <td>6.083</td>\n",
              "      <td>5.027</td>\n",
              "      <td>6.758</td>\n",
              "      <td>6.514</td>\n",
              "      <td>5.578</td>\n",
              "      <td>6.593</td>\n",
              "      <td>4.170</td>\n",
              "      <td>...</td>\n",
              "      <td>6.648</td>\n",
              "      <td>5.161</td>\n",
              "      <td>4.754</td>\n",
              "      <td>5.579</td>\n",
              "      <td>6.052</td>\n",
              "      <td>6.272</td>\n",
              "      <td>5.492</td>\n",
              "      <td>6.220</td>\n",
              "      <td>5.100</td>\n",
              "      <td>4.978</td>\n",
              "      <td>5.550</td>\n",
              "      <td>4.992</td>\n",
              "      <td>6.314</td>\n",
              "      <td>4.838</td>\n",
              "      <td>6.748</td>\n",
              "      <td>5.279</td>\n",
              "      <td>6.208</td>\n",
              "      <td>6.236</td>\n",
              "      <td>6.328</td>\n",
              "      <td>5.593</td>\n",
              "      <td>5.488</td>\n",
              "      <td>3.962</td>\n",
              "      <td>4.861</td>\n",
              "      <td>4.662</td>\n",
              "      <td>5.631</td>\n",
              "      <td>5.733</td>\n",
              "      <td>6.919</td>\n",
              "      <td>6.874</td>\n",
              "      <td>5.881</td>\n",
              "      <td>5.154</td>\n",
              "      <td>5.942</td>\n",
              "      <td>5.405</td>\n",
              "      <td>5.349</td>\n",
              "      <td>4.341</td>\n",
              "      <td>6.286</td>\n",
              "      <td>4.913</td>\n",
              "      <td>5.741</td>\n",
              "      <td>5.445</td>\n",
              "      <td>6.036</td>\n",
              "      <td>5.223</td>\n",
              "    </tr>\n",
              "    <tr>\n",
              "      <th>116</th>\n",
              "      <td>3.560</td>\n",
              "      <td>3.183</td>\n",
              "      <td>3.028</td>\n",
              "      <td>2.901</td>\n",
              "      <td>3.462</td>\n",
              "      <td>3.448</td>\n",
              "      <td>3.391</td>\n",
              "      <td>3.136</td>\n",
              "      <td>2.933</td>\n",
              "      <td>3.092</td>\n",
              "      <td>3.441</td>\n",
              "      <td>3.966</td>\n",
              "      <td>3.391</td>\n",
              "      <td>2.961</td>\n",
              "      <td>3.307</td>\n",
              "      <td>3.402</td>\n",
              "      <td>3.730</td>\n",
              "      <td>3.866</td>\n",
              "      <td>3.062</td>\n",
              "      <td>3.646</td>\n",
              "      <td>2.979</td>\n",
              "      <td>3.374</td>\n",
              "      <td>4.003</td>\n",
              "      <td>2.996</td>\n",
              "      <td>3.244</td>\n",
              "      <td>3.292</td>\n",
              "      <td>3.301</td>\n",
              "      <td>3.705</td>\n",
              "      <td>3.834</td>\n",
              "      <td>3.374</td>\n",
              "      <td>3.274</td>\n",
              "      <td>2.914</td>\n",
              "      <td>3.459</td>\n",
              "      <td>3.742</td>\n",
              "      <td>2.955</td>\n",
              "      <td>3.955</td>\n",
              "      <td>4.102</td>\n",
              "      <td>3.496</td>\n",
              "      <td>3.924</td>\n",
              "      <td>2.360</td>\n",
              "      <td>...</td>\n",
              "      <td>4.030</td>\n",
              "      <td>3.109</td>\n",
              "      <td>3.091</td>\n",
              "      <td>3.410</td>\n",
              "      <td>3.635</td>\n",
              "      <td>3.646</td>\n",
              "      <td>3.196</td>\n",
              "      <td>3.907</td>\n",
              "      <td>3.079</td>\n",
              "      <td>2.848</td>\n",
              "      <td>3.473</td>\n",
              "      <td>2.923</td>\n",
              "      <td>3.795</td>\n",
              "      <td>2.717</td>\n",
              "      <td>4.103</td>\n",
              "      <td>2.979</td>\n",
              "      <td>3.871</td>\n",
              "      <td>3.952</td>\n",
              "      <td>3.865</td>\n",
              "      <td>3.325</td>\n",
              "      <td>3.421</td>\n",
              "      <td>2.357</td>\n",
              "      <td>3.102</td>\n",
              "      <td>2.884</td>\n",
              "      <td>3.433</td>\n",
              "      <td>3.453</td>\n",
              "      <td>4.189</td>\n",
              "      <td>4.142</td>\n",
              "      <td>3.822</td>\n",
              "      <td>3.145</td>\n",
              "      <td>3.689</td>\n",
              "      <td>3.561</td>\n",
              "      <td>3.221</td>\n",
              "      <td>2.582</td>\n",
              "      <td>3.580</td>\n",
              "      <td>2.916</td>\n",
              "      <td>3.520</td>\n",
              "      <td>3.264</td>\n",
              "      <td>3.645</td>\n",
              "      <td>3.099</td>\n",
              "    </tr>\n",
              "    <tr>\n",
              "      <th>134</th>\n",
              "      <td>6.589</td>\n",
              "      <td>6.389</td>\n",
              "      <td>6.020</td>\n",
              "      <td>5.474</td>\n",
              "      <td>6.758</td>\n",
              "      <td>6.735</td>\n",
              "      <td>6.599</td>\n",
              "      <td>6.052</td>\n",
              "      <td>5.545</td>\n",
              "      <td>6.002</td>\n",
              "      <td>6.661</td>\n",
              "      <td>7.806</td>\n",
              "      <td>6.564</td>\n",
              "      <td>5.163</td>\n",
              "      <td>6.492</td>\n",
              "      <td>6.692</td>\n",
              "      <td>7.339</td>\n",
              "      <td>7.519</td>\n",
              "      <td>5.562</td>\n",
              "      <td>6.543</td>\n",
              "      <td>5.154</td>\n",
              "      <td>6.531</td>\n",
              "      <td>7.326</td>\n",
              "      <td>5.657</td>\n",
              "      <td>6.332</td>\n",
              "      <td>6.016</td>\n",
              "      <td>6.420</td>\n",
              "      <td>7.082</td>\n",
              "      <td>6.902</td>\n",
              "      <td>6.510</td>\n",
              "      <td>5.849</td>\n",
              "      <td>5.542</td>\n",
              "      <td>6.660</td>\n",
              "      <td>7.076</td>\n",
              "      <td>5.876</td>\n",
              "      <td>7.933</td>\n",
              "      <td>7.518</td>\n",
              "      <td>6.465</td>\n",
              "      <td>7.708</td>\n",
              "      <td>4.903</td>\n",
              "      <td>...</td>\n",
              "      <td>7.740</td>\n",
              "      <td>6.022</td>\n",
              "      <td>5.497</td>\n",
              "      <td>6.488</td>\n",
              "      <td>7.058</td>\n",
              "      <td>7.367</td>\n",
              "      <td>6.414</td>\n",
              "      <td>7.183</td>\n",
              "      <td>5.926</td>\n",
              "      <td>5.846</td>\n",
              "      <td>6.441</td>\n",
              "      <td>5.845</td>\n",
              "      <td>7.364</td>\n",
              "      <td>5.724</td>\n",
              "      <td>7.858</td>\n",
              "      <td>6.205</td>\n",
              "      <td>7.203</td>\n",
              "      <td>7.214</td>\n",
              "      <td>7.372</td>\n",
              "      <td>6.541</td>\n",
              "      <td>6.427</td>\n",
              "      <td>4.636</td>\n",
              "      <td>5.629</td>\n",
              "      <td>5.406</td>\n",
              "      <td>6.561</td>\n",
              "      <td>6.680</td>\n",
              "      <td>8.064</td>\n",
              "      <td>8.018</td>\n",
              "      <td>6.793</td>\n",
              "      <td>6.000</td>\n",
              "      <td>6.931</td>\n",
              "      <td>6.234</td>\n",
              "      <td>6.238</td>\n",
              "      <td>5.077</td>\n",
              "      <td>7.384</td>\n",
              "      <td>5.746</td>\n",
              "      <td>6.672</td>\n",
              "      <td>6.356</td>\n",
              "      <td>7.036</td>\n",
              "      <td>6.122</td>\n",
              "    </tr>\n",
              "    <tr>\n",
              "      <th>169</th>\n",
              "      <td>4.013</td>\n",
              "      <td>3.973</td>\n",
              "      <td>3.614</td>\n",
              "      <td>3.393</td>\n",
              "      <td>4.090</td>\n",
              "      <td>4.183</td>\n",
              "      <td>4.048</td>\n",
              "      <td>3.620</td>\n",
              "      <td>3.368</td>\n",
              "      <td>3.680</td>\n",
              "      <td>4.062</td>\n",
              "      <td>4.818</td>\n",
              "      <td>3.979</td>\n",
              "      <td>3.238</td>\n",
              "      <td>3.961</td>\n",
              "      <td>4.123</td>\n",
              "      <td>4.469</td>\n",
              "      <td>4.586</td>\n",
              "      <td>3.261</td>\n",
              "      <td>3.884</td>\n",
              "      <td>3.182</td>\n",
              "      <td>3.986</td>\n",
              "      <td>4.386</td>\n",
              "      <td>3.345</td>\n",
              "      <td>3.870</td>\n",
              "      <td>3.663</td>\n",
              "      <td>3.964</td>\n",
              "      <td>4.316</td>\n",
              "      <td>4.069</td>\n",
              "      <td>3.992</td>\n",
              "      <td>3.460</td>\n",
              "      <td>3.353</td>\n",
              "      <td>4.090</td>\n",
              "      <td>4.316</td>\n",
              "      <td>3.593</td>\n",
              "      <td>4.937</td>\n",
              "      <td>4.468</td>\n",
              "      <td>3.905</td>\n",
              "      <td>4.740</td>\n",
              "      <td>3.034</td>\n",
              "      <td>...</td>\n",
              "      <td>4.710</td>\n",
              "      <td>3.689</td>\n",
              "      <td>3.337</td>\n",
              "      <td>3.942</td>\n",
              "      <td>4.310</td>\n",
              "      <td>4.583</td>\n",
              "      <td>3.895</td>\n",
              "      <td>4.276</td>\n",
              "      <td>3.570</td>\n",
              "      <td>3.615</td>\n",
              "      <td>3.915</td>\n",
              "      <td>3.599</td>\n",
              "      <td>4.497</td>\n",
              "      <td>3.625</td>\n",
              "      <td>4.790</td>\n",
              "      <td>3.832</td>\n",
              "      <td>4.366</td>\n",
              "      <td>4.344</td>\n",
              "      <td>4.510</td>\n",
              "      <td>4.030</td>\n",
              "      <td>4.053</td>\n",
              "      <td>2.861</td>\n",
              "      <td>3.416</td>\n",
              "      <td>3.258</td>\n",
              "      <td>4.014</td>\n",
              "      <td>4.066</td>\n",
              "      <td>4.929</td>\n",
              "      <td>4.908</td>\n",
              "      <td>4.106</td>\n",
              "      <td>3.658</td>\n",
              "      <td>4.291</td>\n",
              "      <td>3.765</td>\n",
              "      <td>3.814</td>\n",
              "      <td>3.126</td>\n",
              "      <td>4.560</td>\n",
              "      <td>3.538</td>\n",
              "      <td>4.044</td>\n",
              "      <td>3.895</td>\n",
              "      <td>4.296</td>\n",
              "      <td>3.804</td>\n",
              "    </tr>\n",
              "    <tr>\n",
              "      <th>188</th>\n",
              "      <td>4.814</td>\n",
              "      <td>4.551</td>\n",
              "      <td>4.426</td>\n",
              "      <td>3.931</td>\n",
              "      <td>4.941</td>\n",
              "      <td>4.814</td>\n",
              "      <td>4.771</td>\n",
              "      <td>4.475</td>\n",
              "      <td>4.053</td>\n",
              "      <td>4.341</td>\n",
              "      <td>4.842</td>\n",
              "      <td>5.606</td>\n",
              "      <td>4.795</td>\n",
              "      <td>3.694</td>\n",
              "      <td>4.712</td>\n",
              "      <td>4.814</td>\n",
              "      <td>5.334</td>\n",
              "      <td>5.462</td>\n",
              "      <td>4.201</td>\n",
              "      <td>4.898</td>\n",
              "      <td>3.743</td>\n",
              "      <td>4.744</td>\n",
              "      <td>5.436</td>\n",
              "      <td>4.229</td>\n",
              "      <td>4.591</td>\n",
              "      <td>4.400</td>\n",
              "      <td>4.615</td>\n",
              "      <td>5.156</td>\n",
              "      <td>5.194</td>\n",
              "      <td>4.711</td>\n",
              "      <td>4.392</td>\n",
              "      <td>4.063</td>\n",
              "      <td>4.814</td>\n",
              "      <td>5.153</td>\n",
              "      <td>4.251</td>\n",
              "      <td>5.648</td>\n",
              "      <td>5.612</td>\n",
              "      <td>4.756</td>\n",
              "      <td>5.555</td>\n",
              "      <td>3.498</td>\n",
              "      <td>...</td>\n",
              "      <td>5.641</td>\n",
              "      <td>4.360</td>\n",
              "      <td>4.040</td>\n",
              "      <td>4.738</td>\n",
              "      <td>5.123</td>\n",
              "      <td>5.242</td>\n",
              "      <td>4.665</td>\n",
              "      <td>5.352</td>\n",
              "      <td>4.355</td>\n",
              "      <td>4.178</td>\n",
              "      <td>4.712</td>\n",
              "      <td>4.202</td>\n",
              "      <td>5.344</td>\n",
              "      <td>3.993</td>\n",
              "      <td>5.720</td>\n",
              "      <td>4.435</td>\n",
              "      <td>5.281</td>\n",
              "      <td>5.328</td>\n",
              "      <td>5.350</td>\n",
              "      <td>4.706</td>\n",
              "      <td>4.545</td>\n",
              "      <td>3.329</td>\n",
              "      <td>4.132</td>\n",
              "      <td>3.980</td>\n",
              "      <td>4.761</td>\n",
              "      <td>4.863</td>\n",
              "      <td>5.853</td>\n",
              "      <td>5.810</td>\n",
              "      <td>5.012</td>\n",
              "      <td>4.367</td>\n",
              "      <td>4.985</td>\n",
              "      <td>4.609</td>\n",
              "      <td>4.523</td>\n",
              "      <td>3.655</td>\n",
              "      <td>5.280</td>\n",
              "      <td>4.136</td>\n",
              "      <td>4.884</td>\n",
              "      <td>4.598</td>\n",
              "      <td>5.110</td>\n",
              "      <td>4.369</td>\n",
              "    </tr>\n",
              "    <tr>\n",
              "      <th>195</th>\n",
              "      <td>4.487</td>\n",
              "      <td>4.393</td>\n",
              "      <td>4.006</td>\n",
              "      <td>3.781</td>\n",
              "      <td>4.543</td>\n",
              "      <td>4.641</td>\n",
              "      <td>4.495</td>\n",
              "      <td>4.029</td>\n",
              "      <td>3.756</td>\n",
              "      <td>4.088</td>\n",
              "      <td>4.515</td>\n",
              "      <td>5.342</td>\n",
              "      <td>4.424</td>\n",
              "      <td>3.645</td>\n",
              "      <td>4.395</td>\n",
              "      <td>4.572</td>\n",
              "      <td>4.957</td>\n",
              "      <td>5.095</td>\n",
              "      <td>3.663</td>\n",
              "      <td>4.367</td>\n",
              "      <td>3.588</td>\n",
              "      <td>4.431</td>\n",
              "      <td>4.916</td>\n",
              "      <td>3.736</td>\n",
              "      <td>4.297</td>\n",
              "      <td>4.102</td>\n",
              "      <td>4.401</td>\n",
              "      <td>4.806</td>\n",
              "      <td>4.574</td>\n",
              "      <td>4.438</td>\n",
              "      <td>3.894</td>\n",
              "      <td>3.737</td>\n",
              "      <td>4.548</td>\n",
              "      <td>4.812</td>\n",
              "      <td>3.980</td>\n",
              "      <td>5.458</td>\n",
              "      <td>5.008</td>\n",
              "      <td>4.369</td>\n",
              "      <td>5.258</td>\n",
              "      <td>3.341</td>\n",
              "      <td>...</td>\n",
              "      <td>5.241</td>\n",
              "      <td>4.100</td>\n",
              "      <td>3.752</td>\n",
              "      <td>4.392</td>\n",
              "      <td>4.788</td>\n",
              "      <td>5.063</td>\n",
              "      <td>4.311</td>\n",
              "      <td>4.791</td>\n",
              "      <td>3.973</td>\n",
              "      <td>3.986</td>\n",
              "      <td>4.377</td>\n",
              "      <td>3.982</td>\n",
              "      <td>4.997</td>\n",
              "      <td>3.983</td>\n",
              "      <td>5.331</td>\n",
              "      <td>4.218</td>\n",
              "      <td>4.879</td>\n",
              "      <td>4.869</td>\n",
              "      <td>5.022</td>\n",
              "      <td>4.468</td>\n",
              "      <td>4.516</td>\n",
              "      <td>3.173</td>\n",
              "      <td>3.830</td>\n",
              "      <td>3.638</td>\n",
              "      <td>4.469</td>\n",
              "      <td>4.520</td>\n",
              "      <td>5.482</td>\n",
              "      <td>5.454</td>\n",
              "      <td>4.619</td>\n",
              "      <td>4.074</td>\n",
              "      <td>4.785</td>\n",
              "      <td>4.244</td>\n",
              "      <td>4.239</td>\n",
              "      <td>3.466</td>\n",
              "      <td>5.027</td>\n",
              "      <td>3.922</td>\n",
              "      <td>4.508</td>\n",
              "      <td>4.326</td>\n",
              "      <td>4.776</td>\n",
              "      <td>4.214</td>\n",
              "    </tr>\n",
              "  </tbody>\n",
              "</table>\n",
              "<p>10 rows × 1248 columns</p>\n",
              "</div>"
            ],
            "text/plain": [
              "      7      8      12     13     14    ...   4117   4118   4132   4149   4155\n",
              "6    4.849  4.720  4.479  4.020  5.009  ...  4.246  4.928  4.696  5.198  4.515\n",
              "7    4.882  4.763  4.307  4.123  4.906  ...  4.250  4.886  4.687  5.176  4.576\n",
              "10   5.214  4.864  4.586  4.298  5.201  ...  4.410  5.213  4.904  5.450  4.698\n",
              "79   6.126  5.861  5.276  5.162  6.053  ...  5.247  6.083  5.802  6.418  5.655\n",
              "97   5.676  5.443  5.171  4.690  5.804  ...  4.913  5.741  5.445  6.036  5.223\n",
              "116  3.560  3.183  3.028  2.901  3.462  ...  2.916  3.520  3.264  3.645  3.099\n",
              "134  6.589  6.389  6.020  5.474  6.758  ...  5.746  6.672  6.356  7.036  6.122\n",
              "169  4.013  3.973  3.614  3.393  4.090  ...  3.538  4.044  3.895  4.296  3.804\n",
              "188  4.814  4.551  4.426  3.931  4.941  ...  4.136  4.884  4.598  5.110  4.369\n",
              "195  4.487  4.393  4.006  3.781  4.543  ...  3.922  4.508  4.326  4.776  4.214\n",
              "\n",
              "[10 rows x 1248 columns]"
            ]
          },
          "metadata": {
            "tags": []
          },
          "execution_count": 26
        }
      ]
    },
    {
      "cell_type": "markdown",
      "metadata": {
        "id": "3xoKrOOILx_O"
      },
      "source": [
        "Generamos las recomendaciones"
      ]
    },
    {
      "cell_type": "code",
      "metadata": {
        "id": "TNIlp2fILkci",
        "colab": {
          "base_uri": "https://localhost:8080/",
          "height": 238
        },
        "outputId": "18ab6639-74d6-49cf-b36a-5862cce16bd1"
      },
      "source": [
        "#Transponer la matriz reconstruida\n",
        "trans_pred_user_ratings=df_pred_user_ratings.transpose()\n",
        "trans_pred_user_ratings.head()"
      ],
      "execution_count": null,
      "outputs": [
        {
          "output_type": "execute_result",
          "data": {
            "text/html": [
              "<div>\n",
              "<style scoped>\n",
              "    .dataframe tbody tr th:only-of-type {\n",
              "        vertical-align: middle;\n",
              "    }\n",
              "\n",
              "    .dataframe tbody tr th {\n",
              "        vertical-align: top;\n",
              "    }\n",
              "\n",
              "    .dataframe thead th {\n",
              "        text-align: right;\n",
              "    }\n",
              "</style>\n",
              "<table border=\"1\" class=\"dataframe\">\n",
              "  <thead>\n",
              "    <tr style=\"text-align: right;\">\n",
              "      <th></th>\n",
              "      <th>6</th>\n",
              "      <th>7</th>\n",
              "      <th>10</th>\n",
              "      <th>79</th>\n",
              "      <th>97</th>\n",
              "      <th>116</th>\n",
              "      <th>134</th>\n",
              "      <th>169</th>\n",
              "      <th>188</th>\n",
              "      <th>195</th>\n",
              "      <th>199</th>\n",
              "      <th>201</th>\n",
              "      <th>250</th>\n",
              "      <th>265</th>\n",
              "      <th>266</th>\n",
              "      <th>268</th>\n",
              "      <th>283</th>\n",
              "      <th>291</th>\n",
              "      <th>296</th>\n",
              "      <th>298</th>\n",
              "      <th>302</th>\n",
              "      <th>304</th>\n",
              "      <th>305</th>\n",
              "      <th>358</th>\n",
              "      <th>383</th>\n",
              "      <th>424</th>\n",
              "      <th>437</th>\n",
              "      <th>462</th>\n",
              "      <th>477</th>\n",
              "      <th>481</th>\n",
              "      <th>485</th>\n",
              "      <th>527</th>\n",
              "      <th>544</th>\n",
              "      <th>561</th>\n",
              "      <th>578</th>\n",
              "      <th>592</th>\n",
              "      <th>596</th>\n",
              "      <th>602</th>\n",
              "      <th>609</th>\n",
              "      <th>614</th>\n",
              "      <th>...</th>\n",
              "      <th>2648853</th>\n",
              "      <th>2648858</th>\n",
              "      <th>2648861</th>\n",
              "      <th>2648869</th>\n",
              "      <th>2648873</th>\n",
              "      <th>2648885</th>\n",
              "      <th>2648928</th>\n",
              "      <th>2648939</th>\n",
              "      <th>2648956</th>\n",
              "      <th>2649027</th>\n",
              "      <th>2649049</th>\n",
              "      <th>2649050</th>\n",
              "      <th>2649057</th>\n",
              "      <th>2649059</th>\n",
              "      <th>2649067</th>\n",
              "      <th>2649093</th>\n",
              "      <th>2649097</th>\n",
              "      <th>2649100</th>\n",
              "      <th>2649110</th>\n",
              "      <th>2649116</th>\n",
              "      <th>2649120</th>\n",
              "      <th>2649166</th>\n",
              "      <th>2649231</th>\n",
              "      <th>2649257</th>\n",
              "      <th>2649267</th>\n",
              "      <th>2649285</th>\n",
              "      <th>2649288</th>\n",
              "      <th>2649296</th>\n",
              "      <th>2649299</th>\n",
              "      <th>2649308</th>\n",
              "      <th>2649311</th>\n",
              "      <th>2649328</th>\n",
              "      <th>2649331</th>\n",
              "      <th>2649335</th>\n",
              "      <th>2649336</th>\n",
              "      <th>2649370</th>\n",
              "      <th>2649378</th>\n",
              "      <th>2649388</th>\n",
              "      <th>2649426</th>\n",
              "      <th>2649429</th>\n",
              "    </tr>\n",
              "  </thead>\n",
              "  <tbody>\n",
              "    <tr>\n",
              "      <th>7</th>\n",
              "      <td>4.849</td>\n",
              "      <td>4.882</td>\n",
              "      <td>5.214</td>\n",
              "      <td>6.126</td>\n",
              "      <td>5.676</td>\n",
              "      <td>3.560</td>\n",
              "      <td>6.589</td>\n",
              "      <td>4.013</td>\n",
              "      <td>4.814</td>\n",
              "      <td>4.487</td>\n",
              "      <td>5.532</td>\n",
              "      <td>3.927</td>\n",
              "      <td>1.376</td>\n",
              "      <td>4.479</td>\n",
              "      <td>4.698</td>\n",
              "      <td>4.363</td>\n",
              "      <td>4.094</td>\n",
              "      <td>3.033</td>\n",
              "      <td>3.646</td>\n",
              "      <td>1.977</td>\n",
              "      <td>4.743</td>\n",
              "      <td>4.502</td>\n",
              "      <td>3.170</td>\n",
              "      <td>3.184</td>\n",
              "      <td>3.405</td>\n",
              "      <td>3.510</td>\n",
              "      <td>3.056</td>\n",
              "      <td>3.134</td>\n",
              "      <td>3.710</td>\n",
              "      <td>5.192</td>\n",
              "      <td>2.720</td>\n",
              "      <td>5.003</td>\n",
              "      <td>4.487</td>\n",
              "      <td>4.044</td>\n",
              "      <td>2.213</td>\n",
              "      <td>3.769</td>\n",
              "      <td>3.223</td>\n",
              "      <td>4.967</td>\n",
              "      <td>4.616</td>\n",
              "      <td>3.071</td>\n",
              "      <td>...</td>\n",
              "      <td>2.918</td>\n",
              "      <td>4.134</td>\n",
              "      <td>3.438</td>\n",
              "      <td>3.031</td>\n",
              "      <td>3.643</td>\n",
              "      <td>3.851</td>\n",
              "      <td>3.474</td>\n",
              "      <td>4.023</td>\n",
              "      <td>3.157</td>\n",
              "      <td>3.478</td>\n",
              "      <td>3.507</td>\n",
              "      <td>3.587</td>\n",
              "      <td>3.495</td>\n",
              "      <td>3.044</td>\n",
              "      <td>3.611</td>\n",
              "      <td>2.943</td>\n",
              "      <td>2.794</td>\n",
              "      <td>3.295</td>\n",
              "      <td>3.161</td>\n",
              "      <td>3.260</td>\n",
              "      <td>3.437</td>\n",
              "      <td>2.416</td>\n",
              "      <td>3.727</td>\n",
              "      <td>3.520</td>\n",
              "      <td>3.487</td>\n",
              "      <td>3.011</td>\n",
              "      <td>3.284</td>\n",
              "      <td>3.295</td>\n",
              "      <td>3.712</td>\n",
              "      <td>3.232</td>\n",
              "      <td>3.230</td>\n",
              "      <td>3.586</td>\n",
              "      <td>3.075</td>\n",
              "      <td>3.385</td>\n",
              "      <td>3.226</td>\n",
              "      <td>3.020</td>\n",
              "      <td>2.942</td>\n",
              "      <td>2.822</td>\n",
              "      <td>3.730</td>\n",
              "      <td>3.739</td>\n",
              "    </tr>\n",
              "    <tr>\n",
              "      <th>8</th>\n",
              "      <td>4.720</td>\n",
              "      <td>4.763</td>\n",
              "      <td>4.864</td>\n",
              "      <td>5.861</td>\n",
              "      <td>5.443</td>\n",
              "      <td>3.183</td>\n",
              "      <td>6.389</td>\n",
              "      <td>3.973</td>\n",
              "      <td>4.551</td>\n",
              "      <td>4.393</td>\n",
              "      <td>5.056</td>\n",
              "      <td>3.814</td>\n",
              "      <td>1.280</td>\n",
              "      <td>4.268</td>\n",
              "      <td>4.534</td>\n",
              "      <td>4.121</td>\n",
              "      <td>4.075</td>\n",
              "      <td>3.114</td>\n",
              "      <td>3.296</td>\n",
              "      <td>1.802</td>\n",
              "      <td>4.354</td>\n",
              "      <td>4.266</td>\n",
              "      <td>2.881</td>\n",
              "      <td>3.067</td>\n",
              "      <td>3.225</td>\n",
              "      <td>3.376</td>\n",
              "      <td>2.787</td>\n",
              "      <td>3.078</td>\n",
              "      <td>3.494</td>\n",
              "      <td>5.187</td>\n",
              "      <td>2.673</td>\n",
              "      <td>4.957</td>\n",
              "      <td>4.161</td>\n",
              "      <td>3.792</td>\n",
              "      <td>2.097</td>\n",
              "      <td>3.414</td>\n",
              "      <td>3.040</td>\n",
              "      <td>4.798</td>\n",
              "      <td>4.423</td>\n",
              "      <td>3.010</td>\n",
              "      <td>...</td>\n",
              "      <td>2.777</td>\n",
              "      <td>3.809</td>\n",
              "      <td>3.341</td>\n",
              "      <td>2.944</td>\n",
              "      <td>3.383</td>\n",
              "      <td>3.613</td>\n",
              "      <td>3.215</td>\n",
              "      <td>3.836</td>\n",
              "      <td>2.845</td>\n",
              "      <td>3.321</td>\n",
              "      <td>3.241</td>\n",
              "      <td>3.447</td>\n",
              "      <td>3.336</td>\n",
              "      <td>3.113</td>\n",
              "      <td>3.335</td>\n",
              "      <td>2.846</td>\n",
              "      <td>2.596</td>\n",
              "      <td>3.135</td>\n",
              "      <td>2.949</td>\n",
              "      <td>3.277</td>\n",
              "      <td>3.309</td>\n",
              "      <td>2.275</td>\n",
              "      <td>3.522</td>\n",
              "      <td>3.330</td>\n",
              "      <td>3.535</td>\n",
              "      <td>2.661</td>\n",
              "      <td>3.118</td>\n",
              "      <td>3.193</td>\n",
              "      <td>3.445</td>\n",
              "      <td>3.294</td>\n",
              "      <td>2.940</td>\n",
              "      <td>3.534</td>\n",
              "      <td>3.100</td>\n",
              "      <td>3.234</td>\n",
              "      <td>2.949</td>\n",
              "      <td>2.810</td>\n",
              "      <td>2.843</td>\n",
              "      <td>2.614</td>\n",
              "      <td>3.758</td>\n",
              "      <td>3.540</td>\n",
              "    </tr>\n",
              "    <tr>\n",
              "      <th>12</th>\n",
              "      <td>4.479</td>\n",
              "      <td>4.307</td>\n",
              "      <td>4.586</td>\n",
              "      <td>5.276</td>\n",
              "      <td>5.171</td>\n",
              "      <td>3.028</td>\n",
              "      <td>6.020</td>\n",
              "      <td>3.614</td>\n",
              "      <td>4.426</td>\n",
              "      <td>4.006</td>\n",
              "      <td>4.938</td>\n",
              "      <td>3.459</td>\n",
              "      <td>1.194</td>\n",
              "      <td>4.097</td>\n",
              "      <td>4.283</td>\n",
              "      <td>3.966</td>\n",
              "      <td>3.564</td>\n",
              "      <td>2.648</td>\n",
              "      <td>3.116</td>\n",
              "      <td>1.712</td>\n",
              "      <td>4.262</td>\n",
              "      <td>3.827</td>\n",
              "      <td>2.654</td>\n",
              "      <td>2.814</td>\n",
              "      <td>2.917</td>\n",
              "      <td>3.269</td>\n",
              "      <td>2.696</td>\n",
              "      <td>2.927</td>\n",
              "      <td>3.344</td>\n",
              "      <td>4.705</td>\n",
              "      <td>2.368</td>\n",
              "      <td>4.611</td>\n",
              "      <td>3.945</td>\n",
              "      <td>3.681</td>\n",
              "      <td>1.911</td>\n",
              "      <td>3.398</td>\n",
              "      <td>2.989</td>\n",
              "      <td>4.570</td>\n",
              "      <td>4.217</td>\n",
              "      <td>2.716</td>\n",
              "      <td>...</td>\n",
              "      <td>2.528</td>\n",
              "      <td>3.787</td>\n",
              "      <td>2.891</td>\n",
              "      <td>2.793</td>\n",
              "      <td>3.311</td>\n",
              "      <td>3.349</td>\n",
              "      <td>3.127</td>\n",
              "      <td>3.465</td>\n",
              "      <td>2.736</td>\n",
              "      <td>2.870</td>\n",
              "      <td>2.907</td>\n",
              "      <td>3.237</td>\n",
              "      <td>3.196</td>\n",
              "      <td>2.767</td>\n",
              "      <td>3.274</td>\n",
              "      <td>2.607</td>\n",
              "      <td>2.615</td>\n",
              "      <td>3.098</td>\n",
              "      <td>2.879</td>\n",
              "      <td>2.980</td>\n",
              "      <td>2.966</td>\n",
              "      <td>2.223</td>\n",
              "      <td>3.105</td>\n",
              "      <td>2.986</td>\n",
              "      <td>3.102</td>\n",
              "      <td>2.447</td>\n",
              "      <td>3.116</td>\n",
              "      <td>2.997</td>\n",
              "      <td>3.125</td>\n",
              "      <td>2.880</td>\n",
              "      <td>2.856</td>\n",
              "      <td>3.205</td>\n",
              "      <td>2.726</td>\n",
              "      <td>3.204</td>\n",
              "      <td>3.007</td>\n",
              "      <td>2.631</td>\n",
              "      <td>2.798</td>\n",
              "      <td>2.685</td>\n",
              "      <td>3.375</td>\n",
              "      <td>3.295</td>\n",
              "    </tr>\n",
              "    <tr>\n",
              "      <th>13</th>\n",
              "      <td>4.020</td>\n",
              "      <td>4.123</td>\n",
              "      <td>4.298</td>\n",
              "      <td>5.162</td>\n",
              "      <td>4.690</td>\n",
              "      <td>2.901</td>\n",
              "      <td>5.474</td>\n",
              "      <td>3.393</td>\n",
              "      <td>3.931</td>\n",
              "      <td>3.781</td>\n",
              "      <td>4.482</td>\n",
              "      <td>3.310</td>\n",
              "      <td>1.138</td>\n",
              "      <td>3.681</td>\n",
              "      <td>3.895</td>\n",
              "      <td>3.576</td>\n",
              "      <td>3.516</td>\n",
              "      <td>2.650</td>\n",
              "      <td>2.983</td>\n",
              "      <td>1.618</td>\n",
              "      <td>3.842</td>\n",
              "      <td>3.790</td>\n",
              "      <td>2.622</td>\n",
              "      <td>2.668</td>\n",
              "      <td>2.858</td>\n",
              "      <td>2.880</td>\n",
              "      <td>2.483</td>\n",
              "      <td>2.601</td>\n",
              "      <td>3.046</td>\n",
              "      <td>4.403</td>\n",
              "      <td>2.318</td>\n",
              "      <td>4.195</td>\n",
              "      <td>3.686</td>\n",
              "      <td>3.300</td>\n",
              "      <td>1.853</td>\n",
              "      <td>3.027</td>\n",
              "      <td>2.619</td>\n",
              "      <td>4.106</td>\n",
              "      <td>3.808</td>\n",
              "      <td>2.599</td>\n",
              "      <td>...</td>\n",
              "      <td>2.447</td>\n",
              "      <td>3.331</td>\n",
              "      <td>2.947</td>\n",
              "      <td>2.512</td>\n",
              "      <td>2.957</td>\n",
              "      <td>3.198</td>\n",
              "      <td>2.825</td>\n",
              "      <td>3.384</td>\n",
              "      <td>2.566</td>\n",
              "      <td>2.971</td>\n",
              "      <td>2.937</td>\n",
              "      <td>2.978</td>\n",
              "      <td>2.876</td>\n",
              "      <td>2.615</td>\n",
              "      <td>2.925</td>\n",
              "      <td>2.469</td>\n",
              "      <td>2.242</td>\n",
              "      <td>2.676</td>\n",
              "      <td>2.571</td>\n",
              "      <td>2.766</td>\n",
              "      <td>2.904</td>\n",
              "      <td>1.967</td>\n",
              "      <td>3.155</td>\n",
              "      <td>2.963</td>\n",
              "      <td>3.003</td>\n",
              "      <td>2.478</td>\n",
              "      <td>2.654</td>\n",
              "      <td>2.741</td>\n",
              "      <td>3.100</td>\n",
              "      <td>2.791</td>\n",
              "      <td>2.620</td>\n",
              "      <td>3.032</td>\n",
              "      <td>2.643</td>\n",
              "      <td>2.749</td>\n",
              "      <td>2.569</td>\n",
              "      <td>2.494</td>\n",
              "      <td>2.400</td>\n",
              "      <td>2.245</td>\n",
              "      <td>3.181</td>\n",
              "      <td>3.106</td>\n",
              "    </tr>\n",
              "    <tr>\n",
              "      <th>14</th>\n",
              "      <td>5.009</td>\n",
              "      <td>4.906</td>\n",
              "      <td>5.201</td>\n",
              "      <td>6.053</td>\n",
              "      <td>5.804</td>\n",
              "      <td>3.462</td>\n",
              "      <td>6.758</td>\n",
              "      <td>4.090</td>\n",
              "      <td>4.941</td>\n",
              "      <td>4.543</td>\n",
              "      <td>5.554</td>\n",
              "      <td>3.940</td>\n",
              "      <td>1.361</td>\n",
              "      <td>4.588</td>\n",
              "      <td>4.809</td>\n",
              "      <td>4.447</td>\n",
              "      <td>4.091</td>\n",
              "      <td>3.049</td>\n",
              "      <td>3.560</td>\n",
              "      <td>1.948</td>\n",
              "      <td>4.784</td>\n",
              "      <td>4.407</td>\n",
              "      <td>3.060</td>\n",
              "      <td>3.198</td>\n",
              "      <td>3.349</td>\n",
              "      <td>3.640</td>\n",
              "      <td>3.045</td>\n",
              "      <td>3.263</td>\n",
              "      <td>3.761</td>\n",
              "      <td>5.319</td>\n",
              "      <td>2.714</td>\n",
              "      <td>5.173</td>\n",
              "      <td>4.471</td>\n",
              "      <td>4.122</td>\n",
              "      <td>2.187</td>\n",
              "      <td>3.803</td>\n",
              "      <td>3.325</td>\n",
              "      <td>5.114</td>\n",
              "      <td>4.727</td>\n",
              "      <td>3.092</td>\n",
              "      <td>...</td>\n",
              "      <td>2.891</td>\n",
              "      <td>4.222</td>\n",
              "      <td>3.355</td>\n",
              "      <td>3.126</td>\n",
              "      <td>3.706</td>\n",
              "      <td>3.818</td>\n",
              "      <td>3.511</td>\n",
              "      <td>3.973</td>\n",
              "      <td>3.108</td>\n",
              "      <td>3.349</td>\n",
              "      <td>3.372</td>\n",
              "      <td>3.647</td>\n",
              "      <td>3.580</td>\n",
              "      <td>3.134</td>\n",
              "      <td>3.665</td>\n",
              "      <td>2.961</td>\n",
              "      <td>2.894</td>\n",
              "      <td>3.432</td>\n",
              "      <td>3.221</td>\n",
              "      <td>3.360</td>\n",
              "      <td>3.402</td>\n",
              "      <td>2.480</td>\n",
              "      <td>3.604</td>\n",
              "      <td>3.441</td>\n",
              "      <td>3.539</td>\n",
              "      <td>2.846</td>\n",
              "      <td>3.440</td>\n",
              "      <td>3.370</td>\n",
              "      <td>3.604</td>\n",
              "      <td>3.286</td>\n",
              "      <td>3.223</td>\n",
              "      <td>3.636</td>\n",
              "      <td>3.112</td>\n",
              "      <td>3.543</td>\n",
              "      <td>3.327</td>\n",
              "      <td>2.994</td>\n",
              "      <td>3.092</td>\n",
              "      <td>2.952</td>\n",
              "      <td>3.822</td>\n",
              "      <td>3.740</td>\n",
              "    </tr>\n",
              "  </tbody>\n",
              "</table>\n",
              "<p>5 rows × 143119 columns</p>\n",
              "</div>"
            ],
            "text/plain": [
              "    6        7        10       79       ...  2649378  2649388  2649426  2649429\n",
              "7     4.849    4.882    5.214    6.126  ...    2.942    2.822    3.730    3.739\n",
              "8     4.720    4.763    4.864    5.861  ...    2.843    2.614    3.758    3.540\n",
              "12    4.479    4.307    4.586    5.276  ...    2.798    2.685    3.375    3.295\n",
              "13    4.020    4.123    4.298    5.162  ...    2.400    2.245    3.181    3.106\n",
              "14    5.009    4.906    5.201    6.053  ...    3.092    2.952    3.822    3.740\n",
              "\n",
              "[5 rows x 143119 columns]"
            ]
          },
          "metadata": {
            "tags": []
          },
          "execution_count": 27
        }
      ]
    },
    {
      "cell_type": "markdown",
      "metadata": {
        "id": "Bpc-Ve3o-oPd"
      },
      "source": [
        "Finalmente, mediante este método podemos revisar las 10 recomendaciones con mayor rating para el usuario 1117"
      ]
    },
    {
      "cell_type": "code",
      "metadata": {
        "id": "JpwblcPpMD3Q",
        "colab": {
          "base_uri": "https://localhost:8080/",
          "height": 335
        },
        "outputId": "2af1935f-6a2f-43d8-ce8f-e4a4aca594b5"
      },
      "source": [
        "\n",
        "\n",
        "\"\"\"Visualizar el top-10 de recomendaciones de libros para el usuario: 1117\"\"\"\n",
        "# obtenemos las recomendaciones (mediante los ratings) en orden descendente\n",
        "df_top10 = trans_pred_user_ratings[1117.0].sort_values(ascending=False)\n",
        "# seleccionamos las recomendaciones con los 10 ratings más altos\n",
        "df_top10 = df_top10[:10]\n",
        "# obtenemos el valor de los ratings de dichas recomendaciones\n",
        "df_top10_valores = df_top10.values\n",
        "# ahora usamos los ID's de las peliculas de las recomendaciones para obtener el nombre cada una\n",
        "recomendaciones_df_10 = [df_title.loc[x]['Name'] for x in df_top10.keys()]\n",
        "# convertimos a dataframe la informacion de las recomendaciones\n",
        "pd.DataFrame({'Movie_ID': list(df_top10.keys()),\n",
        "     'Movie_Title_Recommendation': recomendaciones_df_10,\n",
        "     'Rating': df_top10_valores\n",
        "    })\n"
      ],
      "execution_count": null,
      "outputs": [
        {
          "output_type": "execute_result",
          "data": {
            "text/html": [
              "<div>\n",
              "<style scoped>\n",
              "    .dataframe tbody tr th:only-of-type {\n",
              "        vertical-align: middle;\n",
              "    }\n",
              "\n",
              "    .dataframe tbody tr th {\n",
              "        vertical-align: top;\n",
              "    }\n",
              "\n",
              "    .dataframe thead th {\n",
              "        text-align: right;\n",
              "    }\n",
              "</style>\n",
              "<table border=\"1\" class=\"dataframe\">\n",
              "  <thead>\n",
              "    <tr style=\"text-align: right;\">\n",
              "      <th></th>\n",
              "      <th>Movie_ID</th>\n",
              "      <th>Movie_Title_Recommendation</th>\n",
              "      <th>Rating</th>\n",
              "    </tr>\n",
              "  </thead>\n",
              "  <tbody>\n",
              "    <tr>\n",
              "      <th>0</th>\n",
              "      <td>2452</td>\n",
              "      <td>Lord of the Rings: The Fellowship of the Ring</td>\n",
              "      <td>4.090</td>\n",
              "    </tr>\n",
              "    <tr>\n",
              "      <th>1</th>\n",
              "      <td>1434</td>\n",
              "      <td>Are You Being Served? Again: The Complete Series</td>\n",
              "      <td>4.056</td>\n",
              "    </tr>\n",
              "    <tr>\n",
              "      <th>2</th>\n",
              "      <td>3083</td>\n",
              "      <td>Dirty Tiger</td>\n",
              "      <td>4.019</td>\n",
              "    </tr>\n",
              "    <tr>\n",
              "      <th>3</th>\n",
              "      <td>3320</td>\n",
              "      <td>About a Boy</td>\n",
              "      <td>3.995</td>\n",
              "    </tr>\n",
              "    <tr>\n",
              "      <th>4</th>\n",
              "      <td>2715</td>\n",
              "      <td>Whiteboyz</td>\n",
              "      <td>3.994</td>\n",
              "    </tr>\n",
              "    <tr>\n",
              "      <th>5</th>\n",
              "      <td>3727</td>\n",
              "      <td>Rich and Famous</td>\n",
              "      <td>3.993</td>\n",
              "    </tr>\n",
              "    <tr>\n",
              "      <th>6</th>\n",
              "      <td>1433</td>\n",
              "      <td>Casablanca: Bonus Material</td>\n",
              "      <td>3.992</td>\n",
              "    </tr>\n",
              "    <tr>\n",
              "      <th>7</th>\n",
              "      <td>2311</td>\n",
              "      <td>Ball of Fire</td>\n",
              "      <td>3.988</td>\n",
              "    </tr>\n",
              "    <tr>\n",
              "      <th>8</th>\n",
              "      <td>3624</td>\n",
              "      <td>The Last Samurai</td>\n",
              "      <td>3.980</td>\n",
              "    </tr>\n",
              "    <tr>\n",
              "      <th>9</th>\n",
              "      <td>3681</td>\n",
              "      <td>Hav Plenty</td>\n",
              "      <td>3.973</td>\n",
              "    </tr>\n",
              "  </tbody>\n",
              "</table>\n",
              "</div>"
            ],
            "text/plain": [
              "   Movie_ID                        Movie_Title_Recommendation  Rating\n",
              "0      2452     Lord of the Rings: The Fellowship of the Ring   4.090\n",
              "1      1434  Are You Being Served? Again: The Complete Series   4.056\n",
              "2      3083                                       Dirty Tiger   4.019\n",
              "3      3320                                       About a Boy   3.995\n",
              "4      2715                                         Whiteboyz   3.994\n",
              "5      3727                                   Rich and Famous   3.993\n",
              "6      1433                        Casablanca: Bonus Material   3.992\n",
              "7      2311                                      Ball of Fire   3.988\n",
              "8      3624                                  The Last Samurai   3.980\n",
              "9      3681                                        Hav Plenty   3.973"
            ]
          },
          "metadata": {
            "tags": []
          },
          "execution_count": 36
        }
      ]
    },
    {
      "cell_type": "markdown",
      "metadata": {
        "id": "wCaZvwDtKr5-"
      },
      "source": [
        "#### Caso Netflix"
      ]
    },
    {
      "cell_type": "code",
      "metadata": {
        "colab": {
          "base_uri": "https://localhost:8080/"
        },
        "id": "shaHyidso7gO",
        "outputId": "0b6085c7-e37d-4af1-8325-2792ff127d7d"
      },
      "source": [
        "# para calcular el tiempo de ejecución\r\n",
        "t = time.time()\r\n",
        "\r\n",
        "# Mientras cargamos un conjunto de datos personalizado, necesitamos definir un lector.\r\n",
        "# La clase Reader se usa para analizar un archivo que contiene calificaciones. Se supone que \r\n",
        "# dicho archivo especifica solo una calificación por línea y cada línea debe respetar la siguiente estructura:\r\n",
        "# usuario; articulo ; calificación; [marca de tiempo], pero esta última es opcional\r\n",
        "reader = Reader()\r\n",
        "#Con fines prácticos y para mejorar el rendimiento, únicamente se utilizan los primeros 100 mil registros\r\n",
        "# se mantiene el orden del reader\r\n",
        "data = Dataset.load_from_df(df[['Cust_Id', 'Movie_Id', 'Rating']][:100000], reader)\r\n",
        "# instanciamos el algoritmo de SVD\r\n",
        "svd = SVD()\r\n",
        "# corremos 5-fold cross-validation a los 100 mil registros anteriores. Las medidas de rendimiento son \r\n",
        "# RMSE y MAE\r\n",
        "sist_recom = cross_validate(svd, data, measures=['RMSE', 'MAE'])\r\n",
        "print(\"Tiempo de ejecuación de la celda (en segundos):\", time.time() - t)"
      ],
      "execution_count": null,
      "outputs": [
        {
          "output_type": "stream",
          "text": [
            "Tiempo de ejecuación de la celda (en segundos): 28.779531478881836\n"
          ],
          "name": "stdout"
        }
      ]
    },
    {
      "cell_type": "code",
      "metadata": {
        "id": "SuWs4dyTFA0A",
        "colab": {
          "base_uri": "https://localhost:8080/"
        },
        "outputId": "1fdfbe20-7708-45e9-ec37-1af32b8a0ed7"
      },
      "source": [
        "\"\"\"Predecir las películas que le gustaría al usuario: 1117\"\"\"\r\n",
        "# para calcular el tiempo de ejecución\r\n",
        "t = time.time()\r\n",
        "# hacemos una copia del dataframe que contiene los gustos del usuario 1117\r\n",
        "user_1117 = df_title.copy()\r\n",
        "# reseteamos el indice del dataframe que es copia\r\n",
        "user_1117 = user_1117.reset_index()\r\n",
        "# quitamos  los indices de las peliculas que son menores al valor del cuantil del 70%\r\n",
        "user_1117 = user_1117[~user_1117['Movie_Id'].isin(drop_movie_list)]\r\n",
        "\r\n",
        "#Traemos la base de datos completa\r\n",
        "data = Dataset.load_from_df(df[['Cust_Id', 'Movie_Id', 'Rating']], reader) \r\n",
        "# ajustar nuestro algoritmo a todo el conjunto de datos\r\n",
        "trainset = data.build_full_trainset()\r\n",
        "# Entrenamos el algoritmo en el trainset\r\n",
        "svd.fit(trainset)\r\n",
        "\r\n",
        "# Predecimos calificaciones para el usuario 1117\r\n",
        "user_1117['Estimate_Score'] = user_1117['Movie_Id'].apply(lambda x: svd.predict(1117, x).est)\r\n",
        "# eliminamos la columna con los id's de las peliculas\r\n",
        "user_1117 = user_1117.drop('Movie_Id', axis = 1)\r\n",
        "# ordenamos los valores de manera descendente\r\n",
        "user_1117 = user_1117.sort_values('Estimate_Score', ascending=False)\r\n",
        "# mostramos las primeras 10 recomendaciones de peliculas al usuario 1117\r\n",
        "print(user_1117.head(10))\r\n",
        "print(\"Tiempo de ejecuación de la predicción (en segundos):\", time.time() - t) # aproximadamente tarda 18 minutos"
      ],
      "execution_count": null,
      "outputs": [
        {
          "output_type": "stream",
          "text": [
            "        Year                                              Name  Estimate_Score\n",
            "1915  1985.0                        Go Tell It on the Mountain        4.673158\n",
            "1433  1992.0  Are You Being Served? Again: The Complete Series        4.661945\n",
            "3788  1997.0                                  Thomas Jefferson        4.623275\n",
            "2824  2001.0              Midsomer Murders: Ring Out Your Dead        4.516869\n",
            "3680  1997.0                                        Hav Plenty        4.487804\n",
            "2451  2001.0     Lord of the Rings: The Fellowship of the Ring        4.452089\n",
            "3623  2003.0                                  The Last Samurai        4.447499\n",
            "850   1990.0                       Back to the Future Part III        4.430490\n",
            "1395  2004.0                                      Kaleido Star        4.414504\n",
            "2714  1999.0                                         Whiteboyz        4.411720\n",
            "Tiempo de ejecuación de la predicción (en segundos): 1053.7660410404205\n"
          ],
          "name": "stdout"
        }
      ]
    },
    {
      "cell_type": "markdown",
      "metadata": {
        "id": "7yJHJUTGIci7"
      },
      "source": [
        "## Conclusiones\r\n",
        "\r\n",
        "\r\n",
        "De los dos métodos utilizados, observamos que con el primero obtuvimos películas con ratings prácticamente de 4, por lo que con Factor Latente probablemente esas recomendaciones no se conviertan en sus películas favoritas del usuario con ID 1117, pero sí le pueden gustar.\r\n",
        "\r\n",
        "En cuanto al segundo método, notamos que el top 10 de recomendaciones tienen un rating entre 4.41 y 4.68.\r\n",
        "\r\n",
        "Por lo tanto, independientemente de los ratings de las recomendaciones de ambos, considero que lo más rescatable de los métodos es comparar si es que existen películas en común, y vemos que sí las hay: *Lord of the Rings: The Fellowship of the Ring*,\t*Are You Being Served? Again: The Complete Series*, *Whiteboyz*, *The Last Samurai* y *Hav Plenty*. La recomendación de película que más rating tiene es la de *Are You Being Served? Again: The Complete Series*, pues en ambos métodos ocupa el segundo lugar.\r\n",
        "\r\n",
        "Considero que tal vez hubieran coincido aun más películas en ambos métodos si se hubieran utilizado todos  los registros en el algoritmo de *Netflix* (no solo los primeros 100 mil), pero aun asi concluimos entonces que los dos métodos son muy buenos y verdaderamente sirven para recomendar, pues no es ninguna coincidencia que concuerden en recomendaciones de determinadas películas, aun cuando no ocupan las mismas posiciones."
      ]
    }
  ]
}