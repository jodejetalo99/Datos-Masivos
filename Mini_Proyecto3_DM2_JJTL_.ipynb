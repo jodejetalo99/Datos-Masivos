{
  "nbformat": 4,
  "nbformat_minor": 0,
  "metadata": {
    "colab": {
      "name": "Mini-Proyecto3-DM2-JJTL .ipynb",
      "provenance": [],
      "collapsed_sections": [],
      "authorship_tag": "ABX9TyOleL4Xavr3E9pmIzNc6l0B",
      "include_colab_link": true
    },
    "kernelspec": {
      "name": "python3",
      "display_name": "Python 3"
    }
  },
  "cells": [
    {
      "cell_type": "markdown",
      "metadata": {
        "id": "view-in-github",
        "colab_type": "text"
      },
      "source": [
        "<a href=\"https://colab.research.google.com/github/jodejetalo99/Datos-Masivos/blob/master/Mini_Proyecto3_DM2_JJTL_.ipynb\" target=\"_parent\"><img src=\"https://colab.research.google.com/assets/colab-badge.svg\" alt=\"Open In Colab\"/></a>"
      ]
    },
    {
      "cell_type": "markdown",
      "metadata": {
        "id": "t3m06JK57qo6"
      },
      "source": [
        "# Universidad Nacional Autónoma de México\n",
        "# Instituto de Investigaciones en Matemáticas Aplicadas y en Sistemas\n",
        "# Datos Masivos II\n",
        "# José de Jesús Tapia López\n",
        "# Mini-proyecto3: Usar el algoritmo de Page Rank para calcular la relevancia de los nodos a partir de la relevancia de los enlaces entrantes.\n",
        "# 01 de Diciembre del 2020"
      ]
    },
    {
      "cell_type": "markdown",
      "metadata": {
        "id": "fo-TI5zs8Cc2"
      },
      "source": [
        "## Objetivo del mini-proyecto: \n",
        "Usando el algoritmo de Page Rank y la base de datos que se te fue asignada, calcula la relevancia de los nodos a partir de la relevancia de los enlaces entrantes."
      ]
    },
    {
      "cell_type": "markdown",
      "metadata": {
        "id": "P4Ol8TrL9bPG"
      },
      "source": [
        "## Descripción de los datos\n",
        "\n",
        "http://networkrepository.com/soc-twitter-follows-mun.php\n",
        "\n",
        "Este conjunto de datos es la red dirigida que contiene información sobre quién sigue a quién en Twitter. Los nodos representan a los usuarios y un borde muestra que el usuario de la izquierda sigue al de la derecha.\n",
        "\n",
        "## Política de agradecimientos y citas\n",
        "Nos piden, de favor, citar lo siguiente si usamos los datos:\n",
        "\n",
        "    @inproceedings{nr-aaai15,\n",
        "         title = {The Network Data Repository with Interactive Graph Analytics and Visualization},\n",
        "         author={Ryan A. Rossi and Nesreen K. Ahmed},\n",
        "         booktitle = {AAAI},\n",
        "         url={http://networkrepository.com},\n",
        "         year={2015}\n",
        "      }"
      ]
    },
    {
      "cell_type": "code",
      "metadata": {
        "id": "GMqKoj0eCke-",
        "colab": {
          "base_uri": "https://localhost:8080/"
        },
        "outputId": "88a04648-d497-4be4-9116-2e3474057db2"
      },
      "source": [
        "import numpy as np\n",
        "import pandas as pd\n",
        "from scipy.sparse import csr_matrix, lil_matrix\n",
        "from google.colab import drive\n",
        "from matplotlib import pyplot as plt\n",
        "\n",
        "drive.mount('/content/drive')"
      ],
      "execution_count": null,
      "outputs": [
        {
          "output_type": "stream",
          "text": [
            "Mounted at /content/drive\n"
          ],
          "name": "stdout"
        }
      ]
    },
    {
      "cell_type": "markdown",
      "metadata": {
        "id": "lPahoKe3CgAz"
      },
      "source": [
        "## Pre-procesamiento\n",
        "\n",
        "Convertimos el archivo .edges a un txt"
      ]
    },
    {
      "cell_type": "code",
      "metadata": {
        "id": "7V8uBwJ_C9dd",
        "colab": {
          "base_uri": "https://localhost:8080/",
          "height": 206
        },
        "outputId": "b14c7173-0bce-45dd-efce-700293875d38"
      },
      "source": [
        "# leemos el txt, de tal forma que el delimitador sea por espacios en blanco\n",
        "df = pd.read_csv(\"drive/My Drive/soc-twitter-follows-mun.txt\", sep = \" \")\n",
        "# Nombramos las columnas para que sepamos que los usuarios de la columnas de la \n",
        "# izquierda siguen a los usuarios de las columnas de la derecha\n",
        "df.columns = [\"Sigue\",\"Seguido\"]\n",
        "df.head()"
      ],
      "execution_count": null,
      "outputs": [
        {
          "output_type": "execute_result",
          "data": {
            "text/html": [
              "<div>\n",
              "<style scoped>\n",
              "    .dataframe tbody tr th:only-of-type {\n",
              "        vertical-align: middle;\n",
              "    }\n",
              "\n",
              "    .dataframe tbody tr th {\n",
              "        vertical-align: top;\n",
              "    }\n",
              "\n",
              "    .dataframe thead th {\n",
              "        text-align: right;\n",
              "    }\n",
              "</style>\n",
              "<table border=\"1\" class=\"dataframe\">\n",
              "  <thead>\n",
              "    <tr style=\"text-align: right;\">\n",
              "      <th></th>\n",
              "      <th>Sigue</th>\n",
              "      <th>Seguido</th>\n",
              "    </tr>\n",
              "  </thead>\n",
              "  <tbody>\n",
              "    <tr>\n",
              "      <th>0</th>\n",
              "      <td>1</td>\n",
              "      <td>3</td>\n",
              "    </tr>\n",
              "    <tr>\n",
              "      <th>1</th>\n",
              "      <td>1</td>\n",
              "      <td>4</td>\n",
              "    </tr>\n",
              "    <tr>\n",
              "      <th>2</th>\n",
              "      <td>1</td>\n",
              "      <td>5</td>\n",
              "    </tr>\n",
              "    <tr>\n",
              "      <th>3</th>\n",
              "      <td>1</td>\n",
              "      <td>6</td>\n",
              "    </tr>\n",
              "    <tr>\n",
              "      <th>4</th>\n",
              "      <td>1</td>\n",
              "      <td>7</td>\n",
              "    </tr>\n",
              "  </tbody>\n",
              "</table>\n",
              "</div>"
            ],
            "text/plain": [
              "   Sigue  Seguido\n",
              "0      1        3\n",
              "1      1        4\n",
              "2      1        5\n",
              "3      1        6\n",
              "4      1        7"
            ]
          },
          "metadata": {
            "tags": []
          },
          "execution_count": 3
        }
      ]
    },
    {
      "cell_type": "code",
      "metadata": {
        "colab": {
          "base_uri": "https://localhost:8080/"
        },
        "id": "yPmCSL0kQWle",
        "outputId": "4caf6737-0d21-45e8-e81d-a43cd694e0b1"
      },
      "source": [
        "print(\"La dimensión de los datos es de: \", df.shape)"
      ],
      "execution_count": null,
      "outputs": [
        {
          "output_type": "stream",
          "text": [
            "La dimensión de los datos es de:  (835422, 2)\n"
          ],
          "name": "stdout"
        }
      ]
    },
    {
      "cell_type": "code",
      "metadata": {
        "id": "w1zbA1lU7ShO",
        "colab": {
          "base_uri": "https://localhost:8080/"
        },
        "outputId": "57636ad1-8558-46e2-c676-f52b16bef833"
      },
      "source": [
        "# esos indices los ocupamos para ver al usuario con mayor indice en ambas columnas\n",
        "# esto no necesariamente debe coincidir con el número de valores únicos\n",
        "# en cada columna, porque pasar, por ejemplo, que si el usuario 2 no es seguido por nadie,\n",
        "# no aparece en la segunda columna\n",
        "id2_max = max(df[\"Seguido\"])\n",
        "print(\"El id hasta donde acaban los usuarios que son seguidos por alguien es: \", id2_max)\n",
        "# lo mismo que acabo de explicar ocurre con la primera columna\n",
        "id_max = max(df[\"Sigue\"])\n",
        "print(\"El id hasta donde acaban los usuarios que siguen a alguien es: \", id_max)"
      ],
      "execution_count": null,
      "outputs": [
        {
          "output_type": "stream",
          "text": [
            "El id hasta donde acaban los usuarios que son seguidos por alguien es:  465017\n",
            "El id hasta donde acaban los usuarios que siguen a alguien es:  354764\n"
          ],
          "name": "stdout"
        }
      ]
    },
    {
      "cell_type": "code",
      "metadata": {
        "colab": {
          "base_uri": "https://localhost:8080/"
        },
        "id": "36nlnM5eGsI4",
        "outputId": "6b84d335-61b9-49c2-eff4-33a6beaf5d21"
      },
      "source": [
        "print(\"La cantidad de usuarios distintos que siguen a alguien es de: \", len(np.unique(df['Sigue'])))\n",
        "print(\"La cantidad de usuarios distintos que siguen a alguien es de: \", len(np.unique(df['Seguido'])))"
      ],
      "execution_count": null,
      "outputs": [
        {
          "output_type": "stream",
          "text": [
            "La cantidad de usuarios distintos que siguen a alguien es de:  2502\n",
            "La cantidad de usuarios distintos que siguen a alguien es de:  465015\n"
          ],
          "name": "stdout"
        }
      ]
    },
    {
      "cell_type": "markdown",
      "metadata": {
        "id": "lJcqWSZbbi8n"
      },
      "source": [
        "De las dos celdas anteriores vemos que hay \"huecos\", es decir, hay valores que no están tanto en el conjunto {1,2,3,4,...,465017} como en el conjunto {1,2,3,...,354764}. Por lo tanto, la dimensión de la matriz que posteriormente vamos a crear, va a ser 465017x465017 para prevenir el no considerar a algunos usuarios.\n",
        "\n",
        "Del valor de *len(np.unique(df['Sigue'])* podemos ver que habrá muchos callejones sin salida. Aprovechamos también para ver que la matriz que próximamente crearemos va a ser dispera. Esto se debe a que **la relevancia del j-ésimo usuario es la suma de los votos de los vínculos entrantes**, es decir, de las 465017 columnas de la próxima matriz, solamente 2502 van a tener valores en algunos de sus renglones."
      ]
    },
    {
      "cell_type": "markdown",
      "metadata": {
        "id": "44CYc74vBfPa"
      },
      "source": [
        "A continuación, pretendía visualizar los nodos, pero son demasiados, se tarda mucho. En la página donde se obtienen los datos se muestran las relaciones"
      ]
    },
    {
      "cell_type": "code",
      "metadata": {
        "colab": {
          "base_uri": "https://localhost:8080/",
          "height": 72
        },
        "id": "2TpVrh9d__G4",
        "outputId": "aafc163f-e793-4914-daba-eec7d3e4378e"
      },
      "source": [
        "\"\"\"\n",
        "import networkx as nx\n",
        "\n",
        "# Creamos un grafo dirigido con networkx para visualizar el árbol\n",
        "\n",
        "# Generamos el grafo dirigido D\n",
        "G = nx.DiGraph()\n",
        "\n",
        "for i in range(1,465017+1):\n",
        "  # Insertamos el nodo vacío\n",
        "   G.add_node(i)\n",
        "\n",
        "\n",
        "plt.figure(figsize=(30,30))\n",
        "plt.title('Page Rank')\n",
        "#pos=graphviz_layout(G, prog='dot')\n",
        "nx.draw(G)\n",
        "\"\"\""
      ],
      "execution_count": null,
      "outputs": [
        {
          "output_type": "execute_result",
          "data": {
            "application/vnd.google.colaboratory.intrinsic+json": {
              "type": "string"
            },
            "text/plain": [
              "\"\\nimport networkx as nx\\n\\n# Creamos un grafo dirigido con networkx para visualizar el árbol\\n\\n# Generamos el grafo dirigido D\\nG = nx.DiGraph()\\n\\nfor i in range(1,465017+1):\\n  # Insertamos el nodo vacío\\n   G.add_node(i)\\n\\n\\nplt.figure(figsize=(30,30))\\nplt.title('Page Rank')\\n#pos=graphviz_layout(G, prog='dot')\\nnx.draw(G)\\n\""
            ]
          },
          "metadata": {
            "tags": []
          },
          "execution_count": 7
        }
      ]
    },
    {
      "cell_type": "code",
      "metadata": {
        "colab": {
          "base_uri": "https://localhost:8080/",
          "height": 621
        },
        "id": "OaQ6Zl4-FmVl",
        "outputId": "a5d56c8e-83f0-4fda-8293-b9db10da1f1e"
      },
      "source": [
        "# contamos el número de usuarios a los que sigue cada usuario (agrupamos a los de la primera columna)\n",
        "# y los ordenamos descendentemente\n",
        "frecuencia_vinculos = df.groupby(\"Sigue\")[\"Seguido\"].count().sort_values(ascending=False)\n",
        "# obtenemos los primeros 10 que siguen a más usuarios\n",
        "frecuencia_vinculos_10 = frecuencia_vinculos[0:10]\n",
        "plt.figure(figsize=(12,10))\n",
        "ax = frecuencia_vinculos_10.plot(kind = 'barh')\n",
        "ax.set_title(\"Los 10 usuarios que más siguen a otros usuarios\")\n",
        "ax.set_ylabel(\"ID del usuario\")\n",
        "ax.set_xlabel(\"Cantidad de usuarios que siguen\")\n",
        "for i in ax.patches:\n",
        "    ax.text(i.get_width()+.09, i.get_y()+.3, str(round((i.get_width()), 1)), fontsize=8)"
      ],
      "execution_count": null,
      "outputs": [
        {
          "output_type": "display_data",
          "data": {
            "image/png": "[encoded data removed]",
            "text/plain": [
              "<Figure size 864x720 with 1 Axes>"
            ]
          },
          "metadata": {
            "tags": [],
            "needs_background": "light"
          }
        }
      ]
    },
    {
      "cell_type": "markdown",
      "metadata": {
        "id": "fqwOKFHuGgbT"
      },
      "source": [
        "La agrupación anterior nos indica a cuántos usuarios sigue cada usuario. Vemos que el usuario que más sigue es el 64765, pues sigue a 807 usuarios.\n",
        "\n",
        "Es importante mencionar que hay muchos usuarios que siguen exactamente a 500 usuarios, pero en la gráfica solo mostramos unos 8 de esos.\n",
        "\n",
        "Podemos obtener lo inverso, es decir, obtener la cantidad de seguidores de cada usuario de manera descendente:\n"
      ]
    },
    {
      "cell_type": "code",
      "metadata": {
        "colab": {
          "base_uri": "https://localhost:8080/",
          "height": 621
        },
        "id": "kCoGCiycGft7",
        "outputId": "f8e86811-362e-4a7a-d274-dbf34a236881"
      },
      "source": [
        "# contamos el número de seguidores de cada usuario (agrupamos a los de la segunda columna)\n",
        "# y los ordenamos descendentemente\n",
        "seguidores_usuarios = df.groupby(\"Seguido\")[\"Sigue\"].count().sort_values(ascending=False)\n",
        "# obtenemos los primeros 10 que más seguidores tienen\n",
        "seguidores_usuarios_10 = seguidores_usuarios[0:20]\n",
        "plt.figure(figsize=(12,10))\n",
        "ax2 = seguidores_usuarios_10.plot(kind = 'barh')\n",
        "ax2.set_title(\"Los 20 usuarios que más seguidores tienen\")\n",
        "ax2.set_xlabel(\"Cantidad de seguidores que tienen dichos usuarios\")\n",
        "ax2.set_ylabel(\"ID del usuario\")\n",
        "for i in ax2.patches:\n",
        "    ax2.text(i.get_width()+.09, i.get_y()+.3, str(round((i.get_width()), 1)), fontsize=8)"
      ],
      "execution_count": null,
      "outputs": [
        {
          "output_type": "display_data",
          "data": {
            "image/png": "[encoded data removed]",
            "text/plain": [
              "<Figure size 864x720 with 1 Axes>"
            ]
          },
          "metadata": {
            "tags": [],
            "needs_background": "light"
          }
        }
      ]
    },
    {
      "cell_type": "markdown",
      "metadata": {
        "id": "t5LwinxkHcXq"
      },
      "source": [
        "De la gráfica anterior podemos observar que el usuario 643 es el que más seguidores tiene, con 199.\n",
        "\n"
      ]
    },
    {
      "cell_type": "markdown",
      "metadata": {
        "id": "egSCgeN5FPOr"
      },
      "source": [
        "Ahora bien, recordemos que queremos calcular la relevancia de los nodos a partir de la relevancia de los enlaces entrantes, por lo que usaremos el algoritmo de PageRank.\n",
        "\n",
        "PageRank calcula la relevancia de un conjunto de páginas (nodos, que en este caso son los usuarios) a partir de la relevancia de los vínculos entrantes. La formulación básica es la siguiente: \n",
        "$$ \\mathbf{r}^{(t+1)} = \\mathbf{M} \\cdot \\mathbf{r}^{(t)} $$\n",
        "\n",
        "donde $\\mathbf{M}$ es una matriz columna estocástica: $\\sum_{i=1}^n r_i = 1$. El cálculo de PageRank es iterativo.\n",
        "\n",
        "Dado que la matriz que usaremos es de una dimensión muy grande, usaremos *lil_matrix* de la biblioteca scipy.sparse.\n",
        "\n",
        "Según la documentación, *lil_matrix* es una lista basada en filas de listas de matriz dispersa. Esta es una estructura para construir matrices dispersas de forma incremental. Insertar un solo elemento puede llevar un tiempo lineal en el peor de los casos; para construir una matriz de manera eficiente, nos debemos asegurar que los elementos estén preordenados por índice, por fila.\n",
        "\n",
        "Entonces, como debemos ordenar los datos por filas para ser más eficiente al llenarla, lo haremos de esa forma. En este caso la suma que daría 1 sería por renglón, pero como en PageRank la suma es por columna, lo solucionamos para que sea la suma igual a 1 por columna obteniendo su tranpuesta."
      ]
    },
    {
      "cell_type": "code",
      "metadata": {
        "id": "iT4IQqbv65Yz"
      },
      "source": [
        "# creamos una matriz cuadrada de dimensión 465017\n",
        "matriz_pr = lil_matrix((id2_max , id2_max))\n"
      ],
      "execution_count": null,
      "outputs": []
    },
    {
      "cell_type": "code",
      "metadata": {
        "id": "2J2X6jgbAP29"
      },
      "source": [
        "# Convertimos el dataframe del principio a una lista de renglones, i.e., lista of listas, donde\n",
        "# la primera entrada es quien sigue, la segunda entrada es el seguido\n",
        "lista_de_renglones = df.to_numpy().tolist()"
      ],
      "execution_count": null,
      "outputs": []
    },
    {
      "cell_type": "code",
      "metadata": {
        "id": "0zdO2FRN_rwL",
        "colab": {
          "base_uri": "https://localhost:8080/"
        },
        "outputId": "30ee58e6-1547-44ad-ebbc-01edd4d17460"
      },
      "source": [
        "from time import time\n",
        "t = time()\n",
        "\n",
        "# colocamos un uno a la matriz en caso de que existe la relación  i -> j, es decir,\n",
        "# aquella en la que el usuario i sigue al usuario j\n",
        "for k in range(len(lista_de_renglones)):\n",
        "  # aquí restamos un 1 al índice porque la matriz empieza desde el índice 0\n",
        "  # pero los id's de los usuarios empiezan desde el índice 1\n",
        "  matriz_pr[lista_de_renglones[k][0]-1, lista_de_renglones[k][1]-1] = 1.\n",
        "\n",
        "print(\"Llenar la matriz tardó {} segundos \".format(time()-t))"
      ],
      "execution_count": null,
      "outputs": [
        {
          "output_type": "stream",
          "text": [
            "Llenar la matriz tardó 2.7324655055999756 segundos \n"
          ],
          "name": "stdout"
        }
      ]
    },
    {
      "cell_type": "code",
      "metadata": {
        "colab": {
          "base_uri": "https://localhost:8080/"
        },
        "id": "0WJ6xkzdBBzB",
        "outputId": "ca82e387-0059-4419-ecf1-380f5362fe3a"
      },
      "source": [
        "# por ejemplo, mostramos que sí haya un uno en el renglón 0 (usuario 1), columna 2 (usuario 3), \n",
        "# es decir, el usuario 1 sigue al usuario 3\n",
        "print(matriz_pr[0,2])\n",
        "# mostramos que haya un cero en el renglón 0 (usuario 1), columna 1 (usuario 2)\n",
        "# es decir, el usuario 1 NO sigue al usuario 2\n",
        "print(matriz_pr[0,1])"
      ],
      "execution_count": null,
      "outputs": [
        {
          "output_type": "stream",
          "text": [
            "1.0\n",
            "0.0\n"
          ],
          "name": "stdout"
        }
      ]
    },
    {
      "cell_type": "markdown",
      "metadata": {
        "id": "o_vJx47Mj3Cj"
      },
      "source": [
        "A continuación, creamos una copia de la matriz anterior. Esto lo había hecho pues tenía la intención de resolver lo de los callejones sin salida, de tal manera que los usuarios que no seguían a nadie (que en total, la cantidad de  esos usuarios es de: 465017 - 2502 = 462515), les asignáramos la misma probabilidad. Por ejemplo, el usuario 2 no sigue a nadie, pero resolviendo esto, quería hacer que en lugar de que tuviera ceros la columna de ese usuario, ponerle a cada renglón de dicha columna un 1/465017, para que tuviera la misma probabilidad de seguir a cualquier\n",
        "otro usuario. No pude hacer esto porque me marcaba el error de que la memoria RAM se me acababa.\n",
        "\n",
        "Sin embargo, no todo está perdido, pues próximamente veremos que el algoritmo de page rank escalable resuelve esta situación de los callejones sin salidas."
      ]
    },
    {
      "cell_type": "code",
      "metadata": {
        "id": "ccl34ZB_nRZ0",
        "colab": {
          "base_uri": "https://localhost:8080/"
        },
        "outputId": "42fa44c5-ba7d-4c72-a596-65ce6274dab2"
      },
      "source": [
        "matriz_pr_css = matriz_pr.copy()\n",
        "\n",
        "# vamos a iterar por todas las columnas de la matriz\n",
        "# si el id del usuario i aparece en la primera columna del dataframe, obtenemos la cantidad\n",
        "# de usuarios que sigue ese usuario, para dividir todo el renglón que representa\n",
        "# a ese usuario i entre dicha cantidad de usuarios que sigue, esto lo hago para que la\n",
        "# suma de esas columnas que cumplan con el criterio sumen 1\n",
        "\n",
        "t1 = time()\n",
        "for i in range(id_max):\n",
        "  if i in frecuencia_vinculos.index:\n",
        "    # obtenemos el total de usuarios a los que siguen el usuario i\n",
        "    # aquí restamos un 1 al índice porque la matriz empieza desde el índice 0\n",
        "    # pero los id's de los usuarios empiezan desde el índice 1\n",
        "    frecuencia_vinculo = matriz_pr_css[i-1,:].sum(axis=1).item()\n",
        "    # dividimos toda la columna entre dicha cantidad, para que sume 1\n",
        "    matriz_pr_css[i-1,:] = matriz_pr_css[i-1,:]/frecuencia_vinculo\n",
        "\n",
        "# con este else pretendía resolver lo de los callejones sin salida.\n",
        "  #else:\n",
        "   #matriz_pr_css[i-1,:] = 1/id_max\n",
        "print(\"Dividar valores a la matriz tardó {} segundos: \".format(time()-t1))"
      ],
      "execution_count": null,
      "outputs": [
        {
          "output_type": "stream",
          "text": [
            "Dividar valores a la matriz tardó 79.04297280311584 segundos: \n"
          ],
          "name": "stdout"
        }
      ]
    },
    {
      "cell_type": "code",
      "metadata": {
        "colab": {
          "base_uri": "https://localhost:8080/"
        },
        "id": "g4Ve7dHtlTfP",
        "outputId": "8751bd8e-b502-4700-d4ff-d60019b252a4"
      },
      "source": [
        "frecuencia_vinculos.index[50]"
      ],
      "execution_count": null,
      "outputs": [
        {
          "output_type": "execute_result",
          "data": {
            "text/plain": [
              "114920"
            ]
          },
          "metadata": {
            "tags": []
          },
          "execution_count": 20
        }
      ]
    },
    {
      "cell_type": "code",
      "metadata": {
        "colab": {
          "base_uri": "https://localhost:8080/",
          "height": 424
        },
        "id": "7l5iqon8lWZY",
        "outputId": "10ed5b85-3ae4-4f2a-b674-706861c197ea"
      },
      "source": [
        "df[df['Sigue']==114920]"
      ],
      "execution_count": null,
      "outputs": [
        {
          "output_type": "execute_result",
          "data": {
            "text/html": [
              "<div>\n",
              "<style scoped>\n",
              "    .dataframe tbody tr th:only-of-type {\n",
              "        vertical-align: middle;\n",
              "    }\n",
              "\n",
              "    .dataframe tbody tr th {\n",
              "        vertical-align: top;\n",
              "    }\n",
              "\n",
              "    .dataframe thead th {\n",
              "        text-align: right;\n",
              "    }\n",
              "</style>\n",
              "<table border=\"1\" class=\"dataframe\">\n",
              "  <thead>\n",
              "    <tr style=\"text-align: right;\">\n",
              "      <th></th>\n",
              "      <th>Sigue</th>\n",
              "      <th>Seguido</th>\n",
              "    </tr>\n",
              "  </thead>\n",
              "  <tbody>\n",
              "    <tr>\n",
              "      <th>574828</th>\n",
              "      <td>114920</td>\n",
              "      <td>336023</td>\n",
              "    </tr>\n",
              "    <tr>\n",
              "      <th>574829</th>\n",
              "      <td>114920</td>\n",
              "      <td>312758</td>\n",
              "    </tr>\n",
              "    <tr>\n",
              "      <th>574830</th>\n",
              "      <td>114920</td>\n",
              "      <td>336024</td>\n",
              "    </tr>\n",
              "    <tr>\n",
              "      <th>574831</th>\n",
              "      <td>114920</td>\n",
              "      <td>336025</td>\n",
              "    </tr>\n",
              "    <tr>\n",
              "      <th>574832</th>\n",
              "      <td>114920</td>\n",
              "      <td>336026</td>\n",
              "    </tr>\n",
              "    <tr>\n",
              "      <th>...</th>\n",
              "      <td>...</td>\n",
              "      <td>...</td>\n",
              "    </tr>\n",
              "    <tr>\n",
              "      <th>575323</th>\n",
              "      <td>114920</td>\n",
              "      <td>38681</td>\n",
              "    </tr>\n",
              "    <tr>\n",
              "      <th>575324</th>\n",
              "      <td>114920</td>\n",
              "      <td>336345</td>\n",
              "    </tr>\n",
              "    <tr>\n",
              "      <th>575325</th>\n",
              "      <td>114920</td>\n",
              "      <td>336346</td>\n",
              "    </tr>\n",
              "    <tr>\n",
              "      <th>575326</th>\n",
              "      <td>114920</td>\n",
              "      <td>336347</td>\n",
              "    </tr>\n",
              "    <tr>\n",
              "      <th>575327</th>\n",
              "      <td>114920</td>\n",
              "      <td>336348</td>\n",
              "    </tr>\n",
              "  </tbody>\n",
              "</table>\n",
              "<p>500 rows × 2 columns</p>\n",
              "</div>"
            ],
            "text/plain": [
              "         Sigue  Seguido\n",
              "574828  114920   336023\n",
              "574829  114920   312758\n",
              "574830  114920   336024\n",
              "574831  114920   336025\n",
              "574832  114920   336026\n",
              "...        ...      ...\n",
              "575323  114920    38681\n",
              "575324  114920   336345\n",
              "575325  114920   336346\n",
              "575326  114920   336347\n",
              "575327  114920   336348\n",
              "\n",
              "[500 rows x 2 columns]"
            ]
          },
          "metadata": {
            "tags": []
          },
          "execution_count": 21
        }
      ]
    },
    {
      "cell_type": "code",
      "metadata": {
        "colab": {
          "base_uri": "https://localhost:8080/"
        },
        "id": "K-4XxNLMQ0qI",
        "outputId": "e239b981-a1f9-4ab0-cb3e-1c161dc9ec96"
      },
      "source": [
        "# vemos que sí se hayan llenado las columnas, y seleccionamos una aleatoria de las que sí llenamos\n",
        "# le restamos un uno por lo del índice, que empieza en 0 en lugar de 1\n",
        "print(matriz_pr_css[frecuencia_vinculos.index[50]-1,:])\n"
      ],
      "execution_count": null,
      "outputs": [
        {
          "output_type": "stream",
          "text": [
            "  (0, 2466)\t0.002\n",
            "  (0, 2522)\t0.002\n",
            "  (0, 3074)\t0.002\n",
            "  (0, 4201)\t0.002\n",
            "  (0, 5192)\t0.002\n",
            "  (0, 5435)\t0.002\n",
            "  (0, 5448)\t0.002\n",
            "  (0, 7306)\t0.002\n",
            "  (0, 13637)\t0.002\n",
            "  (0, 14640)\t0.002\n",
            "  (0, 17089)\t0.002\n",
            "  (0, 20850)\t0.002\n",
            "  (0, 21272)\t0.002\n",
            "  (0, 22814)\t0.002\n",
            "  (0, 25568)\t0.002\n",
            "  (0, 33185)\t0.002\n",
            "  (0, 34315)\t0.002\n",
            "  (0, 34914)\t0.002\n",
            "  (0, 37518)\t0.002\n",
            "  (0, 38611)\t0.002\n",
            "  (0, 38625)\t0.002\n",
            "  (0, 38680)\t0.002\n",
            "  (0, 38697)\t0.002\n",
            "  (0, 38735)\t0.002\n",
            "  (0, 38780)\t0.002\n",
            "  (0, 38906)\t0.002\n",
            "  (0, 38943)\t0.002\n",
            "  (0, 38972)\t0.002\n",
            "  (0, 38983)\t0.002\n",
            "  (0, 39013)\t0.002\n",
            "  (0, 39017)\t0.002\n",
            "  (0, 40139)\t0.002\n",
            "  (0, 40172)\t0.002\n",
            "  (0, 42067)\t0.002\n",
            "  (0, 47559)\t0.002\n",
            "  (0, 56147)\t0.002\n",
            "  (0, 56604)\t0.002\n",
            "  (0, 58964)\t0.002\n",
            "  (0, 60273)\t0.002\n",
            "  (0, 66529)\t0.002\n",
            "  (0, 66595)\t0.002\n",
            "  (0, 70532)\t0.002\n",
            "  (0, 70863)\t0.002\n",
            "  (0, 72699)\t0.002\n",
            "  (0, 72960)\t0.002\n",
            "  (0, 84622)\t0.002\n",
            "  (0, 97386)\t0.002\n",
            "  (0, 104398)\t0.002\n",
            "  (0, 108618)\t0.002\n",
            "  (0, 112449)\t0.002\n",
            "  (0, 114687)\t0.002\n",
            "  (0, 114916)\t0.002\n",
            "  (0, 114965)\t0.002\n",
            "  (0, 114979)\t0.002\n",
            "  (0, 114981)\t0.002\n",
            "  (0, 114987)\t0.002\n",
            "  (0, 114995)\t0.002\n",
            "  (0, 115040)\t0.002\n",
            "  (0, 115081)\t0.002\n",
            "  (0, 115163)\t0.002\n",
            "  (0, 115246)\t0.002\n",
            "  (0, 115294)\t0.002\n",
            "  (0, 118894)\t0.002\n",
            "  (0, 119184)\t0.002\n",
            "  (0, 119227)\t0.002\n",
            "  (0, 119232)\t0.002\n",
            "  (0, 121105)\t0.002\n",
            "  (0, 127909)\t0.002\n",
            "  (0, 127915)\t0.002\n",
            "  (0, 127936)\t0.002\n",
            "  (0, 127955)\t0.002\n",
            "  (0, 127979)\t0.002\n",
            "  (0, 128019)\t0.002\n",
            "  (0, 128104)\t0.002\n",
            "  (0, 129403)\t0.002\n",
            "  (0, 129427)\t0.002\n",
            "  (0, 129502)\t0.002\n",
            "  (0, 129606)\t0.002\n",
            "  (0, 129700)\t0.002\n",
            "  (0, 135340)\t0.002\n",
            "  (0, 137728)\t0.002\n",
            "  (0, 137743)\t0.002\n",
            "  (0, 137748)\t0.002\n",
            "  (0, 137778)\t0.002\n",
            "  (0, 137805)\t0.002\n",
            "  (0, 142810)\t0.002\n",
            "  (0, 146393)\t0.002\n",
            "  (0, 146468)\t0.002\n",
            "  (0, 149053)\t0.002\n",
            "  (0, 149110)\t0.002\n",
            "  (0, 149138)\t0.002\n",
            "  (0, 152059)\t0.002\n",
            "  (0, 152082)\t0.002\n",
            "  (0, 158243)\t0.002\n",
            "  (0, 159528)\t0.002\n",
            "  (0, 159543)\t0.002\n",
            "  (0, 159672)\t0.002\n",
            "  (0, 159676)\t0.002\n",
            "  (0, 159697)\t0.002\n",
            "  (0, 165501)\t0.002\n",
            "  (0, 166605)\t0.002\n",
            "  (0, 166816)\t0.002\n",
            "  (0, 169157)\t0.002\n",
            "  (0, 169346)\t0.002\n",
            "  (0, 176715)\t0.002\n",
            "  (0, 178539)\t0.002\n",
            "  (0, 180389)\t0.002\n",
            "  (0, 181580)\t0.002\n",
            "  (0, 189284)\t0.002\n",
            "  (0, 191339)\t0.002\n",
            "  (0, 193527)\t0.002\n",
            "  (0, 193531)\t0.002\n",
            "  (0, 195934)\t0.002\n",
            "  (0, 196288)\t0.002\n",
            "  (0, 196302)\t0.002\n",
            "  (0, 196350)\t0.002\n",
            "  (0, 196356)\t0.002\n",
            "  (0, 196360)\t0.002\n",
            "  (0, 196361)\t0.002\n",
            "  (0, 196382)\t0.002\n",
            "  (0, 196386)\t0.002\n",
            "  (0, 196394)\t0.002\n",
            "  (0, 196402)\t0.002\n",
            "  (0, 196408)\t0.002\n",
            "  (0, 196422)\t0.002\n",
            "  (0, 196425)\t0.002\n",
            "  (0, 214623)\t0.002\n",
            "  (0, 214749)\t0.002\n",
            "  (0, 218763)\t0.002\n",
            "  (0, 228712)\t0.002\n",
            "  (0, 232843)\t0.002\n",
            "  (0, 233028)\t0.002\n",
            "  (0, 233163)\t0.002\n",
            "  (0, 245800)\t0.002\n",
            "  (0, 250336)\t0.002\n",
            "  (0, 250619)\t0.002\n",
            "  (0, 253865)\t0.002\n",
            "  (0, 253873)\t0.002\n",
            "  (0, 262713)\t0.002\n",
            "  (0, 273721)\t0.002\n",
            "  (0, 273776)\t0.002\n",
            "  (0, 273850)\t0.002\n",
            "  (0, 273861)\t0.002\n",
            "  (0, 273870)\t0.002\n",
            "  (0, 273957)\t0.002\n",
            "  (0, 274197)\t0.002\n",
            "  (0, 275369)\t0.002\n",
            "  (0, 276695)\t0.002\n",
            "  (0, 276996)\t0.002\n",
            "  (0, 291147)\t0.002\n",
            "  (0, 293551)\t0.002\n",
            "  (0, 297554)\t0.002\n",
            "  (0, 299674)\t0.002\n",
            "  (0, 300588)\t0.002\n",
            "  (0, 301306)\t0.002\n",
            "  (0, 302846)\t0.002\n",
            "  (0, 302974)\t0.002\n",
            "  (0, 303038)\t0.002\n",
            "  (0, 303056)\t0.002\n",
            "  (0, 304762)\t0.002\n",
            "  (0, 308935)\t0.002\n",
            "  (0, 308937)\t0.002\n",
            "  (0, 312747)\t0.002\n",
            "  (0, 312757)\t0.002\n",
            "  (0, 312770)\t0.002\n",
            "  (0, 312792)\t0.002\n",
            "  (0, 314742)\t0.002\n",
            "  (0, 317279)\t0.002\n",
            "  (0, 317342)\t0.002\n",
            "  (0, 320032)\t0.002\n",
            "  (0, 320942)\t0.002\n",
            "  (0, 321086)\t0.002\n",
            "  (0, 321147)\t0.002\n",
            "  (0, 327391)\t0.002\n",
            "  (0, 336022)\t0.002\n",
            "  (0, 336023)\t0.002\n",
            "  (0, 336024)\t0.002\n",
            "  (0, 336025)\t0.002\n",
            "  (0, 336026)\t0.002\n",
            "  (0, 336027)\t0.002\n",
            "  (0, 336028)\t0.002\n",
            "  (0, 336029)\t0.002\n",
            "  (0, 336030)\t0.002\n",
            "  (0, 336031)\t0.002\n",
            "  (0, 336032)\t0.002\n",
            "  (0, 336033)\t0.002\n",
            "  (0, 336034)\t0.002\n",
            "  (0, 336035)\t0.002\n",
            "  (0, 336036)\t0.002\n",
            "  (0, 336037)\t0.002\n",
            "  (0, 336038)\t0.002\n",
            "  (0, 336039)\t0.002\n",
            "  (0, 336040)\t0.002\n",
            "  (0, 336041)\t0.002\n",
            "  (0, 336042)\t0.002\n",
            "  (0, 336043)\t0.002\n",
            "  (0, 336044)\t0.002\n",
            "  (0, 336045)\t0.002\n",
            "  (0, 336046)\t0.002\n",
            "  (0, 336047)\t0.002\n",
            "  (0, 336048)\t0.002\n",
            "  (0, 336049)\t0.002\n",
            "  (0, 336050)\t0.002\n",
            "  (0, 336051)\t0.002\n",
            "  (0, 336052)\t0.002\n",
            "  (0, 336053)\t0.002\n",
            "  (0, 336054)\t0.002\n",
            "  (0, 336055)\t0.002\n",
            "  (0, 336056)\t0.002\n",
            "  (0, 336057)\t0.002\n",
            "  (0, 336058)\t0.002\n",
            "  (0, 336059)\t0.002\n",
            "  (0, 336060)\t0.002\n",
            "  (0, 336061)\t0.002\n",
            "  (0, 336062)\t0.002\n",
            "  (0, 336063)\t0.002\n",
            "  (0, 336064)\t0.002\n",
            "  (0, 336065)\t0.002\n",
            "  (0, 336066)\t0.002\n",
            "  (0, 336067)\t0.002\n",
            "  (0, 336068)\t0.002\n",
            "  (0, 336069)\t0.002\n",
            "  (0, 336070)\t0.002\n",
            "  (0, 336071)\t0.002\n",
            "  (0, 336072)\t0.002\n",
            "  (0, 336073)\t0.002\n",
            "  (0, 336074)\t0.002\n",
            "  (0, 336075)\t0.002\n",
            "  (0, 336076)\t0.002\n",
            "  (0, 336077)\t0.002\n",
            "  (0, 336078)\t0.002\n",
            "  (0, 336079)\t0.002\n",
            "  (0, 336080)\t0.002\n",
            "  (0, 336081)\t0.002\n",
            "  (0, 336082)\t0.002\n",
            "  (0, 336083)\t0.002\n",
            "  (0, 336084)\t0.002\n",
            "  (0, 336085)\t0.002\n",
            "  (0, 336086)\t0.002\n",
            "  (0, 336087)\t0.002\n",
            "  (0, 336088)\t0.002\n",
            "  (0, 336089)\t0.002\n",
            "  (0, 336090)\t0.002\n",
            "  (0, 336091)\t0.002\n",
            "  (0, 336092)\t0.002\n",
            "  (0, 336093)\t0.002\n",
            "  (0, 336094)\t0.002\n",
            "  (0, 336095)\t0.002\n",
            "  (0, 336096)\t0.002\n",
            "  (0, 336097)\t0.002\n",
            "  (0, 336098)\t0.002\n",
            "  (0, 336099)\t0.002\n",
            "  (0, 336100)\t0.002\n",
            "  (0, 336101)\t0.002\n",
            "  (0, 336102)\t0.002\n",
            "  (0, 336103)\t0.002\n",
            "  (0, 336104)\t0.002\n",
            "  (0, 336105)\t0.002\n",
            "  (0, 336106)\t0.002\n",
            "  (0, 336107)\t0.002\n",
            "  (0, 336108)\t0.002\n",
            "  (0, 336109)\t0.002\n",
            "  (0, 336110)\t0.002\n",
            "  (0, 336111)\t0.002\n",
            "  (0, 336112)\t0.002\n",
            "  (0, 336113)\t0.002\n",
            "  (0, 336114)\t0.002\n",
            "  (0, 336115)\t0.002\n",
            "  (0, 336116)\t0.002\n",
            "  (0, 336117)\t0.002\n",
            "  (0, 336118)\t0.002\n",
            "  (0, 336119)\t0.002\n",
            "  (0, 336120)\t0.002\n",
            "  (0, 336121)\t0.002\n",
            "  (0, 336122)\t0.002\n",
            "  (0, 336123)\t0.002\n",
            "  (0, 336124)\t0.002\n",
            "  (0, 336125)\t0.002\n",
            "  (0, 336126)\t0.002\n",
            "  (0, 336127)\t0.002\n",
            "  (0, 336128)\t0.002\n",
            "  (0, 336129)\t0.002\n",
            "  (0, 336130)\t0.002\n",
            "  (0, 336131)\t0.002\n",
            "  (0, 336132)\t0.002\n",
            "  (0, 336133)\t0.002\n",
            "  (0, 336134)\t0.002\n",
            "  (0, 336135)\t0.002\n",
            "  (0, 336136)\t0.002\n",
            "  (0, 336137)\t0.002\n",
            "  (0, 336138)\t0.002\n",
            "  (0, 336139)\t0.002\n",
            "  (0, 336140)\t0.002\n",
            "  (0, 336141)\t0.002\n",
            "  (0, 336142)\t0.002\n",
            "  (0, 336143)\t0.002\n",
            "  (0, 336144)\t0.002\n",
            "  (0, 336145)\t0.002\n",
            "  (0, 336146)\t0.002\n",
            "  (0, 336147)\t0.002\n",
            "  (0, 336148)\t0.002\n",
            "  (0, 336149)\t0.002\n",
            "  (0, 336150)\t0.002\n",
            "  (0, 336151)\t0.002\n",
            "  (0, 336152)\t0.002\n",
            "  (0, 336153)\t0.002\n",
            "  (0, 336154)\t0.002\n",
            "  (0, 336155)\t0.002\n",
            "  (0, 336156)\t0.002\n",
            "  (0, 336157)\t0.002\n",
            "  (0, 336158)\t0.002\n",
            "  (0, 336159)\t0.002\n",
            "  (0, 336160)\t0.002\n",
            "  (0, 336161)\t0.002\n",
            "  (0, 336162)\t0.002\n",
            "  (0, 336163)\t0.002\n",
            "  (0, 336164)\t0.002\n",
            "  (0, 336165)\t0.002\n",
            "  (0, 336166)\t0.002\n",
            "  (0, 336167)\t0.002\n",
            "  (0, 336168)\t0.002\n",
            "  (0, 336169)\t0.002\n",
            "  (0, 336170)\t0.002\n",
            "  (0, 336171)\t0.002\n",
            "  (0, 336172)\t0.002\n",
            "  (0, 336173)\t0.002\n",
            "  (0, 336174)\t0.002\n",
            "  (0, 336175)\t0.002\n",
            "  (0, 336176)\t0.002\n",
            "  (0, 336177)\t0.002\n",
            "  (0, 336178)\t0.002\n",
            "  (0, 336179)\t0.002\n",
            "  (0, 336180)\t0.002\n",
            "  (0, 336181)\t0.002\n",
            "  (0, 336182)\t0.002\n",
            "  (0, 336183)\t0.002\n",
            "  (0, 336184)\t0.002\n",
            "  (0, 336185)\t0.002\n",
            "  (0, 336186)\t0.002\n",
            "  (0, 336187)\t0.002\n",
            "  (0, 336188)\t0.002\n",
            "  (0, 336189)\t0.002\n",
            "  (0, 336190)\t0.002\n",
            "  (0, 336191)\t0.002\n",
            "  (0, 336192)\t0.002\n",
            "  (0, 336193)\t0.002\n",
            "  (0, 336194)\t0.002\n",
            "  (0, 336195)\t0.002\n",
            "  (0, 336196)\t0.002\n",
            "  (0, 336197)\t0.002\n",
            "  (0, 336198)\t0.002\n",
            "  (0, 336199)\t0.002\n",
            "  (0, 336200)\t0.002\n",
            "  (0, 336201)\t0.002\n",
            "  (0, 336202)\t0.002\n",
            "  (0, 336203)\t0.002\n",
            "  (0, 336204)\t0.002\n",
            "  (0, 336205)\t0.002\n",
            "  (0, 336206)\t0.002\n",
            "  (0, 336207)\t0.002\n",
            "  (0, 336208)\t0.002\n",
            "  (0, 336209)\t0.002\n",
            "  (0, 336210)\t0.002\n",
            "  (0, 336211)\t0.002\n",
            "  (0, 336212)\t0.002\n",
            "  (0, 336213)\t0.002\n",
            "  (0, 336214)\t0.002\n",
            "  (0, 336215)\t0.002\n",
            "  (0, 336216)\t0.002\n",
            "  (0, 336217)\t0.002\n",
            "  (0, 336218)\t0.002\n",
            "  (0, 336219)\t0.002\n",
            "  (0, 336220)\t0.002\n",
            "  (0, 336221)\t0.002\n",
            "  (0, 336222)\t0.002\n",
            "  (0, 336223)\t0.002\n",
            "  (0, 336224)\t0.002\n",
            "  (0, 336225)\t0.002\n",
            "  (0, 336226)\t0.002\n",
            "  (0, 336227)\t0.002\n",
            "  (0, 336228)\t0.002\n",
            "  (0, 336229)\t0.002\n",
            "  (0, 336230)\t0.002\n",
            "  (0, 336231)\t0.002\n",
            "  (0, 336232)\t0.002\n",
            "  (0, 336233)\t0.002\n",
            "  (0, 336234)\t0.002\n",
            "  (0, 336235)\t0.002\n",
            "  (0, 336236)\t0.002\n",
            "  (0, 336237)\t0.002\n",
            "  (0, 336238)\t0.002\n",
            "  (0, 336239)\t0.002\n",
            "  (0, 336240)\t0.002\n",
            "  (0, 336241)\t0.002\n",
            "  (0, 336242)\t0.002\n",
            "  (0, 336243)\t0.002\n",
            "  (0, 336244)\t0.002\n",
            "  (0, 336245)\t0.002\n",
            "  (0, 336246)\t0.002\n",
            "  (0, 336247)\t0.002\n",
            "  (0, 336248)\t0.002\n",
            "  (0, 336249)\t0.002\n",
            "  (0, 336250)\t0.002\n",
            "  (0, 336251)\t0.002\n",
            "  (0, 336252)\t0.002\n",
            "  (0, 336253)\t0.002\n",
            "  (0, 336254)\t0.002\n",
            "  (0, 336255)\t0.002\n",
            "  (0, 336256)\t0.002\n",
            "  (0, 336257)\t0.002\n",
            "  (0, 336258)\t0.002\n",
            "  (0, 336259)\t0.002\n",
            "  (0, 336260)\t0.002\n",
            "  (0, 336261)\t0.002\n",
            "  (0, 336262)\t0.002\n",
            "  (0, 336263)\t0.002\n",
            "  (0, 336264)\t0.002\n",
            "  (0, 336265)\t0.002\n",
            "  (0, 336266)\t0.002\n",
            "  (0, 336267)\t0.002\n",
            "  (0, 336268)\t0.002\n",
            "  (0, 336269)\t0.002\n",
            "  (0, 336270)\t0.002\n",
            "  (0, 336271)\t0.002\n",
            "  (0, 336272)\t0.002\n",
            "  (0, 336273)\t0.002\n",
            "  (0, 336274)\t0.002\n",
            "  (0, 336275)\t0.002\n",
            "  (0, 336276)\t0.002\n",
            "  (0, 336277)\t0.002\n",
            "  (0, 336278)\t0.002\n",
            "  (0, 336279)\t0.002\n",
            "  (0, 336280)\t0.002\n",
            "  (0, 336281)\t0.002\n",
            "  (0, 336282)\t0.002\n",
            "  (0, 336283)\t0.002\n",
            "  (0, 336284)\t0.002\n",
            "  (0, 336285)\t0.002\n",
            "  (0, 336286)\t0.002\n",
            "  (0, 336287)\t0.002\n",
            "  (0, 336288)\t0.002\n",
            "  (0, 336289)\t0.002\n",
            "  (0, 336290)\t0.002\n",
            "  (0, 336291)\t0.002\n",
            "  (0, 336292)\t0.002\n",
            "  (0, 336293)\t0.002\n",
            "  (0, 336294)\t0.002\n",
            "  (0, 336295)\t0.002\n",
            "  (0, 336296)\t0.002\n",
            "  (0, 336297)\t0.002\n",
            "  (0, 336298)\t0.002\n",
            "  (0, 336299)\t0.002\n",
            "  (0, 336300)\t0.002\n",
            "  (0, 336301)\t0.002\n",
            "  (0, 336302)\t0.002\n",
            "  (0, 336303)\t0.002\n",
            "  (0, 336304)\t0.002\n",
            "  (0, 336305)\t0.002\n",
            "  (0, 336306)\t0.002\n",
            "  (0, 336307)\t0.002\n",
            "  (0, 336308)\t0.002\n",
            "  (0, 336309)\t0.002\n",
            "  (0, 336310)\t0.002\n",
            "  (0, 336311)\t0.002\n",
            "  (0, 336312)\t0.002\n",
            "  (0, 336313)\t0.002\n",
            "  (0, 336314)\t0.002\n",
            "  (0, 336315)\t0.002\n",
            "  (0, 336316)\t0.002\n",
            "  (0, 336317)\t0.002\n",
            "  (0, 336318)\t0.002\n",
            "  (0, 336319)\t0.002\n",
            "  (0, 336320)\t0.002\n",
            "  (0, 336321)\t0.002\n",
            "  (0, 336322)\t0.002\n",
            "  (0, 336323)\t0.002\n",
            "  (0, 336324)\t0.002\n",
            "  (0, 336325)\t0.002\n",
            "  (0, 336326)\t0.002\n",
            "  (0, 336327)\t0.002\n",
            "  (0, 336328)\t0.002\n",
            "  (0, 336329)\t0.002\n",
            "  (0, 336330)\t0.002\n",
            "  (0, 336331)\t0.002\n",
            "  (0, 336332)\t0.002\n",
            "  (0, 336333)\t0.002\n",
            "  (0, 336334)\t0.002\n",
            "  (0, 336335)\t0.002\n",
            "  (0, 336336)\t0.002\n",
            "  (0, 336337)\t0.002\n",
            "  (0, 336338)\t0.002\n",
            "  (0, 336339)\t0.002\n",
            "  (0, 336340)\t0.002\n",
            "  (0, 336341)\t0.002\n",
            "  (0, 336342)\t0.002\n",
            "  (0, 336343)\t0.002\n",
            "  (0, 336344)\t0.002\n",
            "  (0, 336345)\t0.002\n",
            "  (0, 336346)\t0.002\n",
            "  (0, 336347)\t0.002\n"
          ],
          "name": "stdout"
        }
      ]
    },
    {
      "cell_type": "code",
      "metadata": {
        "colab": {
          "base_uri": "https://localhost:8080/"
        },
        "id": "4IG1BHARahA4",
        "outputId": "53ed1dd7-3013-49f8-ce36-9a2798932a74"
      },
      "source": [
        "# verificamosque sume 1\n",
        "print(matriz_pr_css[frecuencia_vinculos.index[50]-1,:].sum(axis=1))"
      ],
      "execution_count": null,
      "outputs": [
        {
          "output_type": "stream",
          "text": [
            "[[1.]]\n"
          ],
          "name": "stdout"
        }
      ]
    },
    {
      "cell_type": "markdown",
      "metadata": {
        "id": "n0CGk9faFUt7"
      },
      "source": [
        "## Formulación básica\n",
        "\n",
        "$$ \\mathbf{r}^{(t+1)} = \\mathbf{M} \\cdot \\mathbf{r}^{(t)} $$\n",
        "donde $\\mathbf{M}$ es una matriz columna estocástica y $\\sum_{i=1}^n r_i = 1$. El cálculo de PageRank es iterativo."
      ]
    },
    {
      "cell_type": "code",
      "metadata": {
        "id": "RGPOP0twEZuk"
      },
      "source": [
        "# usamos la función que creó el Dr. Gibrán\n",
        "\n",
        "def pagerank(M, iter=100):\n",
        "  n = M.shape[0]\n",
        "  r = np.ones(n) / n\n",
        "  r = r.reshape(-1,1)\n",
        "  print(r.shape)\n",
        "  for i in range(iter):\n",
        "    if i % 20 == 0:\n",
        "      print('Iteración {0}: r = \\n{1}\\n'.format(i,r))\n",
        "    r = M @ r\n",
        "\n",
        "  return r"
      ],
      "execution_count": null,
      "outputs": []
    },
    {
      "cell_type": "code",
      "metadata": {
        "id": "eSoe_5DGEkL4",
        "colab": {
          "base_uri": "https://localhost:8080/"
        },
        "outputId": "1f727ba4-1cd3-4928-ead7-9fb5366cfa3a"
      },
      "source": [
        "# recordemos que tenemos que aplicar el algoritmo con la transpuesta\n",
        "# la pasamos a matriz dispersa\n",
        "pr_css = pagerank(csr_matrix(matriz_pr_css.transpose()))\n",
        "pr_css"
      ],
      "execution_count": null,
      "outputs": [
        {
          "output_type": "stream",
          "text": [
            "(465017, 1)\n",
            "Iteración 0: r = \n",
            "[[2.15045902e-06]\n",
            " [2.15045902e-06]\n",
            " [2.15045902e-06]\n",
            " ...\n",
            " [2.15045902e-06]\n",
            " [2.15045902e-06]\n",
            " [2.15045902e-06]]\n",
            "\n",
            "Iteración 20: r = \n",
            "[[2.04505799e-39]\n",
            " [0.00000000e+00]\n",
            " [6.89366496e-40]\n",
            " ...\n",
            " [1.84254198e-39]\n",
            " [1.84254198e-39]\n",
            " [1.84254198e-39]]\n",
            "\n",
            "Iteración 40: r = \n",
            "[[4.00361818e-68]\n",
            " [0.00000000e+00]\n",
            " [3.88985663e-68]\n",
            " ...\n",
            " [1.11232743e-67]\n",
            " [1.11232743e-67]\n",
            " [1.11232743e-67]]\n",
            "\n",
            "Iteración 60: r = \n",
            "[[1.82842744e-94]\n",
            " [0.00000000e+00]\n",
            " [1.78093676e-94]\n",
            " ...\n",
            " [5.48962548e-94]\n",
            " [5.48962548e-94]\n",
            " [5.48962548e-94]]\n",
            "\n",
            "Iteración 80: r = \n",
            "[[9.39763626e-121]\n",
            " [0.00000000e+000]\n",
            " [9.15314857e-121]\n",
            " ...\n",
            " [2.82194644e-120]\n",
            " [2.82194644e-120]\n",
            " [2.82194644e-120]]\n",
            "\n"
          ],
          "name": "stdout"
        },
        {
          "output_type": "execute_result",
          "data": {
            "text/plain": [
              "array([[4.83173741e-147],\n",
              "       [0.00000000e+000],\n",
              "       [4.70601310e-147],\n",
              "       ...,\n",
              "       [1.45087610e-146],\n",
              "       [1.45087610e-146],\n",
              "       [1.45087610e-146]])"
            ]
          },
          "metadata": {
            "tags": []
          },
          "execution_count": 17
        }
      ]
    },
    {
      "cell_type": "code",
      "metadata": {
        "id": "j_sxsl2eFMfA",
        "colab": {
          "base_uri": "https://localhost:8080/"
        },
        "outputId": "1851674c-261e-4ae0-fca8-cd7442b9d9a5"
      },
      "source": [
        "# le sumo un uno porque ahora los índices empiezan desde cero\n",
        "print(\"Según la formulación básica del algoritmo page rank, el usuario {} tiene la mayor relevancia, la cual es {} \" .format(np.argmax(pr_css[:,0])+1, np.max(pr_css)))\n",
        "print(\"Según la formulación básica del algoritmo page rank, el usuario {} tiene la menor relevancia, la cual es {} \" .format(np.argmin(pr_css[:,0])+1, np.min(pr_css)))"
      ],
      "execution_count": null,
      "outputs": [
        {
          "output_type": "stream",
          "text": [
            "Según la formulación básica del algoritmo page rank, el usuario 731 tiene la mayor relevancia, la cual es 7.445388051536976e-100 \n",
            "Según la formulación básica del algoritmo page rank, el usuario 2 tiene la menor relevancia, la cual es 0.0 \n"
          ],
          "name": "stdout"
        }
      ]
    },
    {
      "cell_type": "code",
      "metadata": {
        "id": "eYym4fDbLEMc",
        "colab": {
          "base_uri": "https://localhost:8080/"
        },
        "outputId": "936ef10c-ce8c-4d36-9540-5a19a55d5b50"
      },
      "source": [
        "# no suma 1!\n",
        "sum(pr_css)"
      ],
      "execution_count": null,
      "outputs": [
        {
          "output_type": "execute_result",
          "data": {
            "text/plain": [
              "array([5.5839065e-98])"
            ]
          },
          "metadata": {
            "tags": []
          },
          "execution_count": 19
        }
      ]
    },
    {
      "cell_type": "code",
      "metadata": {
        "colab": {
          "base_uri": "https://localhost:8080/"
        },
        "id": "l6_D02SudaT1",
        "outputId": "fc9cfdd1-a2e0-4175-804b-047afe8e7907"
      },
      "source": [
        "# Revisamos cuántos vínculos entrantes tiene ese usuario\n",
        "print(\"El usuario 731 tiene {} seguidores \". format(len(df[df['Seguido']==731])))\n",
        "# Revisamos cuántos vínculos salientes tiene ese usuario\n",
        "print(\"El usuario 731 sigue a {} usuarios \". format(len(df[df['Sigue']==731])))"
      ],
      "execution_count": null,
      "outputs": [
        {
          "output_type": "stream",
          "text": [
            "El usuario 731 tiene 130 seguidores \n",
            "El usuario 731 sigue a 0 usuarios \n"
          ],
          "name": "stdout"
        }
      ]
    },
    {
      "cell_type": "code",
      "metadata": {
        "colab": {
          "base_uri": "https://localhost:8080/"
        },
        "id": "54Hb7j1veF2j",
        "outputId": "b9adb5ff-20b3-4669-9372-4a6438c3ba1c"
      },
      "source": [
        "print(\"Relevancia del usuario 643: \", pr_css[:,0][642])"
      ],
      "execution_count": null,
      "outputs": [
        {
          "output_type": "stream",
          "text": [
            "Relevancia del usuario 643:  1.9522263123332995e-131\n"
          ],
          "name": "stdout"
        }
      ]
    },
    {
      "cell_type": "code",
      "metadata": {
        "id": "6PYE18NJGG7I"
      },
      "source": [
        "# de esta forma obtengo los indices de los n máximos valores (recordar que debemos de sumarle un uno\n",
        "# para obtener el verdadero valor del usuario)\n",
        "#pr_css.argsort()[-n:][::-1]"
      ],
      "execution_count": null,
      "outputs": []
    },
    {
      "cell_type": "code",
      "metadata": {
        "colab": {
          "base_uri": "https://localhost:8080/"
        },
        "id": "U5-jB649a41f",
        "outputId": "ab4029d1-0023-4480-90df-d56e5ffae721"
      },
      "source": [
        "pr_css[:,0].argsort()[-100:][::-1]"
      ],
      "execution_count": null,
      "outputs": [
        {
          "output_type": "execute_result",
          "data": {
            "text/plain": [
              "array([ 92829,  92838,  92847,  92849,  92850,  92851,  92852,  92853,\n",
              "        92854,  92855,  92856,  92857,  92858,  92859,  92860,  92848,\n",
              "        92861,  92862,  92863,  92846,  92845,  92844,  92839,  92836,\n",
              "        92835,  92834,  92833,  92832,  92831,  92830,  92828,  65992,\n",
              "        92827,  92826,  92825,  92840,  92841,  92842,  92843,  92864,\n",
              "        92865,  92866,  92891,  92882,  92867,  92888,  92884,  92889,\n",
              "        92890,  92892,  92880,  92893,  34255,  70248,  92885,  66218,\n",
              "          730,  92881,  92883,  92879,  92873,  92868,  92886,  92869,\n",
              "        92870,  92871,  92887,  92872,  92837,  92874,  92875,  92876,\n",
              "        92877,  92878,  65941,  74526,   5830, 250503, 250501, 250502,\n",
              "       214426,  20448, 229153, 276868,  74576,  74558,  74527,  74609,\n",
              "          636,    637,    620,  74607,   5480,  74594,  68937,  74603,\n",
              "        74543,  74551,  74525,  74540])"
            ]
          },
          "metadata": {
            "tags": []
          },
          "execution_count": 65
        }
      ]
    },
    {
      "cell_type": "code",
      "metadata": {
        "colab": {
          "base_uri": "https://localhost:8080/"
        },
        "id": "UxsTTPymfynI",
        "outputId": "3ea70a52-815b-40fc-8c5d-d13a5cf63677"
      },
      "source": [
        "pr_css[:,0][92829] == pr_css[:,0][730]"
      ],
      "execution_count": null,
      "outputs": [
        {
          "output_type": "execute_result",
          "data": {
            "text/plain": [
              "True"
            ]
          },
          "metadata": {
            "tags": []
          },
          "execution_count": 78
        }
      ]
    },
    {
      "cell_type": "markdown",
      "metadata": {
        "id": "kdKHJ7JXeWPv"
      },
      "source": [
        "### Conclusión 1\n",
        "\n",
        "Uno pensaría que el usuario más relevante es el que tiene más seguidores, que en la correspondiente consulta era el usuario 643 con 199 seguidores. Sin embargo, el usuario 731 tiene 130 seguidores, pero muchos comparten la misma relevancia que el 731, como el 92830. \n",
        "\n",
        "Pensaría  se deba a que él, a pesar de no seguir a nadie, es seguido por muchos. Esta situación la vemos en Twitter, pues personas públicas tiene muchos seguidores y la cantidad de usuarios que ellos siguen es muy baja."
      ]
    },
    {
      "cell_type": "markdown",
      "metadata": {
        "id": "5PVRqc6PJEZE"
      },
      "source": [
        "## Formulación de Google\n",
        "\n",
        "No sabemos si hay trampas de araña. No obstante, podemos ver qué pasa si  nos anticipamos usando la teletransportación aleatoria y ver qué ocurre. Por lo que podemos reformular el algoritmo de la siguiente manera: \n",
        "$$\\begin{align*} \\mathbf{r}^{(t+1)} = \\mathbf{A} \\cdot \\mathbf{r}^{(t)}\\\\ \\mathbf{A} = \\beta \\cdot \\mathbf{M} + (1 - \\beta) \\cdot \\frac{1}{n} \\mathbf{e} \\cdot \\mathbf{e}^\\top \\end{align*}$$\n",
        "\n",
        "donde $\\mathbf{e}$ es un vector de dimensión $n$ con unos en todos sus elementos.\n",
        "\n",
        "Esta formulación no la pude echar a andar porque nuevamente me salía el error de la memoria RAM.\n"
      ]
    },
    {
      "cell_type": "code",
      "metadata": {
        "id": "_q5yrlz1H1El"
      },
      "source": [
        "# usamos la función que creó el Dr. Gibrán\n",
        "\n",
        "def pagerank_google(M, beta = 0.8, iter=100):\n",
        "  n = M.shape[0]\n",
        "  r = np.ones(n) / n\n",
        "  e = np.ones((n, n))\n",
        "  A = M * beta + (1 - beta) * (e / n)\n",
        "  for i in range(iter):\n",
        "    if i % 10 == 0:\n",
        "      print('Iteración {0}: r = {1}'.format(i,r))\n",
        "    r = A @ r\n",
        "\n",
        "  return r\n"
      ],
      "execution_count": null,
      "outputs": []
    },
    {
      "cell_type": "code",
      "metadata": {
        "id": "GYXU9SGZJnGo"
      },
      "source": [
        "pr_google_css = pagerank_google(csr_matrix(matriz_pr_css.transpose()))\n",
        "pr_google_css"
      ],
      "execution_count": null,
      "outputs": []
    },
    {
      "cell_type": "code",
      "metadata": {
        "id": "8ZP6bDHaKBzi"
      },
      "source": [
        "# le sumo un uno porque ahora los indices empiezan desde cero\n",
        "print(\"Según la formulación de google, el usuario {} tiene la mayor relevancia, la cual es {} \" .format(np.argmax(pr_google_nocss)+1, np.max(pr_google_nocss)))\n",
        "print(\"Según la formulación de google, el usuario {} tiene la menor relevancia, la cual es {} \" .format(np.argmin(pr_google_nocss)+1, np.min(pr_google_nocss)))"
      ],
      "execution_count": null,
      "outputs": []
    },
    {
      "cell_type": "code",
      "metadata": {
        "id": "Ymj_xpWKK5Me"
      },
      "source": [
        "# no suma uno!\n",
        "sum(pr_google_css)"
      ],
      "execution_count": null,
      "outputs": []
    },
    {
      "cell_type": "markdown",
      "metadata": {
        "id": "2G1hPigWSjTD"
      },
      "source": [
        "## PageRank escalable\n",
        "\n",
        "\n",
        "\n",
        "Cuando tenemos callejones sin salida, es necesario hacer el siguiente ajuste\n",
        "\n",
        "* Calcula $\\hat{\\mathbf{r}}^{(t+1)} = \\beta \\cdot \\mathbf{M}\\cdot \\mathbf{r}^{(t)}$\n",
        "* Agrega $\\frac{\\left(1-\\sum_j \\hat{r}_j^{(t+1)}\\right)}{n}$ a los elementos de $\\hat{\\mathbf{r}}^{(t+1)}$\n",
        "\n"
      ]
    },
    {
      "cell_type": "code",
      "metadata": {
        "id": "naeTnKuBSmid"
      },
      "source": [
        "def pagerank_escalable_css(M, beta = 0.8, iter=100):\n",
        "  n = M.shape[0]\n",
        "  r = np.ones(n) / n\n",
        "  for i in range(iter):\n",
        "    if i % 20 == 0:\n",
        "      print('Iteración {0}: r = \\n{1}\\n'.format(i,r))\n",
        "    rhat = beta * M @ r\n",
        "    umrsn = (1 - rhat.sum()) / n\n",
        "    r = rhat + umrsn\n",
        "\n",
        "  return r"
      ],
      "execution_count": null,
      "outputs": []
    },
    {
      "cell_type": "code",
      "metadata": {
        "colab": {
          "base_uri": "https://localhost:8080/"
        },
        "id": "DJCrcpziS2K8",
        "outputId": "65c10329-416c-445d-da14-b005be648f6a"
      },
      "source": [
        "pr_esc_css = pagerank_escalable_css(csr_matrix(matriz_pr_css.transpose()))\n",
        "pr_esc_css"
      ],
      "execution_count": null,
      "outputs": [
        {
          "output_type": "stream",
          "text": [
            "Iteración 0: r = \n",
            "[2.15045902e-06 2.15045902e-06 2.15045902e-06 ... 2.15045902e-06\n",
            " 2.15045902e-06 2.15045902e-06]\n",
            "\n",
            "Iteración 20: r = \n",
            "[2.36031903e-06 2.14105852e-06 2.15198119e-06 ... 2.22684294e-06\n",
            " 2.22684294e-06 2.22684294e-06]\n",
            "\n",
            "Iteración 40: r = \n",
            "[2.36031903e-06 2.14105852e-06 2.15198119e-06 ... 2.22684294e-06\n",
            " 2.22684294e-06 2.22684294e-06]\n",
            "\n",
            "Iteración 60: r = \n",
            "[2.36031903e-06 2.14105852e-06 2.15198119e-06 ... 2.22684294e-06\n",
            " 2.22684294e-06 2.22684294e-06]\n",
            "\n",
            "Iteración 80: r = \n",
            "[2.36031903e-06 2.14105852e-06 2.15198119e-06 ... 2.22684294e-06\n",
            " 2.22684294e-06 2.22684294e-06]\n",
            "\n"
          ],
          "name": "stdout"
        },
        {
          "output_type": "execute_result",
          "data": {
            "text/plain": [
              "array([2.36031903e-06, 2.14105852e-06, 2.15198119e-06, ...,\n",
              "       2.22684294e-06, 2.22684294e-06, 2.22684294e-06])"
            ]
          },
          "metadata": {
            "tags": []
          },
          "execution_count": 27
        }
      ]
    },
    {
      "cell_type": "code",
      "metadata": {
        "colab": {
          "base_uri": "https://localhost:8080/"
        },
        "id": "eMUVNOE6TvoY",
        "outputId": "764f0e9c-0452-4d1e-974c-edea3298bb68"
      },
      "source": [
        "# le sumo un uno porque ahora los indices empiezan desde cero\n",
        "print(\"Según la formulación del algoritmo page rank escalable, el usuario {} tiene la mayor relevancia, la cual es {} \" .format(np.argmax(pr_esc_css)+1, np.max(pr_esc_css)))\n",
        "print(\"Según la formulación del algoritmo page rank escalable, el usuario {} tiene la menor relevancia, la cual es {} \" .format(np.argmin(pr_esc_css)+1, np.min(pr_esc_css)))"
      ],
      "execution_count": null,
      "outputs": [
        {
          "output_type": "stream",
          "text": [
            "Según la formulación del algoritmo page rank escalable, el usuario 5592 tiene la mayor relevancia, la cual es 5.907949213696814e-06 \n",
            "Según la formulación del algoritmo page rank escalable, el usuario 2 tiene la menor relevancia, la cual es 2.1410585174177506e-06 \n"
          ],
          "name": "stdout"
        }
      ]
    },
    {
      "cell_type": "code",
      "metadata": {
        "colab": {
          "base_uri": "https://localhost:8080/"
        },
        "id": "sBKNy0zVTyMw",
        "outputId": "5cbf2b71-2d92-4db2-dd21-a235b8b5bcd9"
      },
      "source": [
        "# Aquí sí suma uno!\n",
        "sum(pr_esc_css)"
      ],
      "execution_count": null,
      "outputs": [
        {
          "output_type": "execute_result",
          "data": {
            "text/plain": [
              "0.9999999999996623"
            ]
          },
          "metadata": {
            "tags": []
          },
          "execution_count": 29
        }
      ]
    },
    {
      "cell_type": "code",
      "metadata": {
        "colab": {
          "base_uri": "https://localhost:8080/"
        },
        "id": "oHMQToWPdioB",
        "outputId": "9413d5d3-b9a8-47b7-93e9-d8a105794443"
      },
      "source": [
        "# Revisamos cuántos vínculos entrantes tiene ese usuario\n",
        "print(\"El usuario 5592 tiene {} seguidores \". format(len(df[df['Seguido']==5592])))\n",
        "# Revisamos cuántos vínculos salientes tiene ese usuario\n",
        "print(\"El usuario 5592 sigue a {} usuarios \". format(len(df[df['Sigue']==5592])))"
      ],
      "execution_count": null,
      "outputs": [
        {
          "output_type": "stream",
          "text": [
            "El usuario 5592 tiene 124 seguidores \n",
            "El usuario 5592 sigue a 183 usuarios \n"
          ],
          "name": "stdout"
        }
      ]
    },
    {
      "cell_type": "code",
      "metadata": {
        "colab": {
          "base_uri": "https://localhost:8080/"
        },
        "id": "OKYsHvZpfYs4",
        "outputId": "575a78a8-1e77-487d-c587-99fd22448afd"
      },
      "source": [
        "print(\"Relevancia del usuario 643: \", pr_esc_css[642])"
      ],
      "execution_count": null,
      "outputs": [
        {
          "output_type": "stream",
          "text": [
            "Relevancia del usuario 643:  5.526776437961217e-06\n"
          ],
          "name": "stdout"
        }
      ]
    },
    {
      "cell_type": "code",
      "metadata": {
        "colab": {
          "base_uri": "https://localhost:8080/"
        },
        "id": "BFCDdV_4f0-4",
        "outputId": "5e6f7256-55cd-4c3f-fcbb-b7a2911eeb82"
      },
      "source": [
        "pr_esc_css.argsort()[-100:][::-1]"
      ],
      "execution_count": null,
      "outputs": [
        {
          "output_type": "execute_result",
          "data": {
            "text/plain": [
              "array([  5591,   5485,    642,  21274,  24407,  29240,    605,  27889,\n",
              "        16833,  24467,  13846,    611,   1378,   1404,  34186,   3579,\n",
              "         5448,  20461,   1470,  52316,   7244,  34329,  29961,  34342,\n",
              "        34343,   2747,  34315,  40467,    730,  34326,  24462,  34175,\n",
              "        25898,  34249, 389104,  34267,  42960,  65941,  17013,  43419,\n",
              "       166627,  25963,  46231, 346223,  66865, 237761, 207996,  64493,\n",
              "       179649,  47047, 177264, 107906,  97681,  97682, 177975, 400313,\n",
              "       274243,  15967,  14877,  17011,  25922,  29928,  21271,   7165,\n",
              "         5482,    638,    664,   1468,   5441,    675,   1486,  34399,\n",
              "          717,  34362,    629,  34325,   8031,    648,  98873,    699,\n",
              "         2466,   8030,  34401,  34430,   5446,  34201,   5583,   5447,\n",
              "        24400,  28999,  14763,  27941,  34397,   5566,  40177, 106167,\n",
              "        34368,    756,  34261,  34404])"
            ]
          },
          "metadata": {
            "tags": []
          },
          "execution_count": 75
        }
      ]
    },
    {
      "cell_type": "code",
      "metadata": {
        "colab": {
          "base_uri": "https://localhost:8080/"
        },
        "id": "imZx6wkpf9Ml",
        "outputId": "f0c90596-103c-4990-a3a1-117f3449d0b2"
      },
      "source": [
        "pr_esc_css[5591] == pr_esc_css[5485]"
      ],
      "execution_count": null,
      "outputs": [
        {
          "output_type": "execute_result",
          "data": {
            "text/plain": [
              "False"
            ]
          },
          "metadata": {
            "tags": []
          },
          "execution_count": 76
        }
      ]
    },
    {
      "cell_type": "code",
      "metadata": {
        "colab": {
          "base_uri": "https://localhost:8080/"
        },
        "id": "6PDLfe87gGBf",
        "outputId": "b4b20e15-5c41-463d-ad5f-7e927d78a375"
      },
      "source": [
        "pr_esc_css[5485]"
      ],
      "execution_count": null,
      "outputs": [
        {
          "output_type": "execute_result",
          "data": {
            "text/plain": [
              "5.600304517059239e-06"
            ]
          },
          "metadata": {
            "tags": []
          },
          "execution_count": 77
        }
      ]
    },
    {
      "cell_type": "markdown",
      "metadata": {
        "id": "jtLNaIwj4wRi"
      },
      "source": [
        "### Conclusión 2\n",
        "\n",
        "Podemos ver que tenemos un resultado distinto con este algoritmo. Con el Page Rank escalable, vemos que el usuario 5592 es el usuario más relevante. Tiene 124 seguidores y sigue a 183 usuarios. \n",
        "Sin embargo, aquí sí el usuario 643 es uno de los más relevantes, pues el número anterior es similar al del usuario 5592.\n",
        "\n",
        "Quiero creer que esto se deba a que pondera el número de seguidores que tiene y el total de usuarios a los que sigue. \n",
        "\n"
      ]
    },
    {
      "cell_type": "markdown",
      "metadata": {
        "id": "nA-xsbCPQfdT"
      },
      "source": [
        "## Conclusiones generales\n",
        "\n",
        "Recordemos que cada voto de un vínculo entrante es proporcional a la relevancia de la página de la que viene. Si la página $j$ con relevancia $r_j$ tiene $n$ nodos salientes, cada vínculo obtiene $\\frac{r_j}{n}$ votos. La relevancia de la página $j$ es la suma de los votos de los vínculos entrantes.\n",
        "\n",
        "Yo creo que los resultados que obtuvimos se deben a eso. No basta con que un usuario tenga muchos seguidores, sino que sus seguidores también tengan relevancia; que dichos seguidores también tengan varios seguidores. \n",
        "\n",
        "A pesar de que hay callejones sin salida, parece ser que en 100 iteraciones no hay usuarios *absorbentes* (haciendo la analogía con las cadenas de Markov). Además, parece ser que no hay trampas de araña (no hay convergencia al vector $\\hat{0}$). \n",
        "\n",
        "Algunas ventajas y desventajas:\n",
        "- Poco costoso (en tiempo de ejecución) a pesar de que son muchos datos. La matriz era densa, por lo que solo se requirió\n",
        "almacenar en memoria una fracción de elementos ($\\frac{835422}{465017^2}\\approx 3.86 \\times 10^{-6}$), pero si la matriz fuera densa, es más costoso en cuanto a la memoria. \n",
        "- Las puntuaciones se calculan utilizando\n",
        "el grafo completo, pero son independientes de la consulta.\n",
        "- El algoritmo puede ser personalizable, pero es propenso a manipulaciones.\n",
        "\n",
        "\n"
      ]
    }
  ]
}